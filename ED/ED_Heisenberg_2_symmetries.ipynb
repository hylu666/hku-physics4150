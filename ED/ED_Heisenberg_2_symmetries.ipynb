{
 "cells": [
  {
   "cell_type": "markdown",
   "metadata": {
    "id": "D7KlcbSqIOz6"
   },
   "source": [
    "## Model"
   ]
  },
  {
   "cell_type": "markdown",
   "metadata": {
    "id": "8f5KNFhjIO0B"
   },
   "source": [
    "<font  face=Times color=darkblue size=3> The model hamiltonian is: $$H=J\\sum_{<i,j>}\\vec{S_i}\\cdot \\vec{S_j}=J\\sum_{<i,j>}(\\frac{1}{2}(S_i^+S_j^-+S_i^-S_j^+)+S_i^zS_j^z)$$ with the spin raising/lowering operators.<br><br> We consider $S=1/2$ 1-dimensional spin chain here."
   ]
  },
  {
   "cell_type": "code",
   "execution_count": 38,
   "metadata": {
    "id": "fvj-t4dxIO0D"
   },
   "outputs": [],
   "source": [
    "import numpy as np\n",
    "import matplotlib.pyplot as plt\n",
    "import copy\n",
    "import csv"
   ]
  },
  {
   "cell_type": "markdown",
   "metadata": {
    "id": "0v-mJdbpIO0F"
   },
   "source": [
    "<font  face=Times color=darkblue size=3> In the 1st notebook, we directly construct the complete matrix of the hamiltonian and directly diagonalize it. But by doing so, we have some problems: <br> 1. The matrix size $M=2^N$ becomes too large quickly. <br> 2.Maximum $N\\leq 20$. <br> 3.There are $M^2$ matrix elements to store, and the time to diagonalize is proportional to $M^3$.\n",
    "    <br><br> Therefore, we can choose the basis in such a way that the hamiltonian becomes block-diagonal, amd the blocks can be diagonalized individually. By doing so, we can reach larger N (not much larger, $N\\approx 40$ is max)."
   ]
  },
  {
   "cell_type": "markdown",
   "metadata": {
    "id": "9k-G4NTZIO0G"
   },
   "source": [
    "### Magnetization Conservation"
   ]
  },
  {
   "cell_type": "markdown",
   "metadata": {
    "id": "QNPTXg7aIO0G"
   },
   "source": [
    "<font  face=Times color=darkblue size=3 > The simplest example is to use magnetizaiton conservation: $$m_z=\\sum_i^N S_i^z\\ .$$ Then each block corresponds to fixed value of $m_z$, and there is no matrix elements between states of different $m_z$.\n",
    "    <br><br> So, the 1st step is to find the states with different values of $m_z$. Then construct each block-matrix and diagonalize individually."
   ]
  },
  {
   "cell_type": "code",
   "execution_count": 2,
   "metadata": {
    "id": "IHYHQD12IO0H"
   },
   "outputs": [],
   "source": [
    "# set parameters\n",
    "N=16\n",
    "dimension=2**N\n",
    "#spin chain with all spin-down\n",
    "z='0'*N\n"
   ]
  },
  {
   "cell_type": "code",
   "execution_count": 11,
   "metadata": {},
   "outputs": [],
   "source": [
    "method=1;   # 0 or 1 corresponds to different way of flipping"
   ]
  },
  {
   "cell_type": "code",
   "execution_count": 12,
   "metadata": {
    "id": "eA_P9NruIO0I"
   },
   "outputs": [],
   "source": [
    "energy={}\n",
    "for num_up in range(0,N+1): # we use the number of spin_ups to specify the blocks\n",
    "    # first, find the states with corresponding mz\n",
    "    state_list=[]\n",
    "    for state in range(dimension):\n",
    "        chain_here=bin(state)[2:] # the spin chain\n",
    "        num_spinup=chain_here.count('1')\n",
    "        if num_spinup==num_up:\n",
    "            state_list.append(state)\n",
    "    #then,build the block-matrix\n",
    "    Hmz=np.zeros((len(state_list),len(state_list)))\n",
    "    for a in range(len(state_list)):\n",
    "        for i in range(0,N-1):\n",
    "            j=np.mod(i+1,N)\n",
    "            s_a=bin(state_list[a])[2:]\n",
    "            s_a=z[0:N-len(s_a)]+s_a\n",
    "            if s_a[i]==s_a[j]:\n",
    "                Hmz[a,a]+=0.25\n",
    "            else:\n",
    "                Hmz[a,a]-=0.25\n",
    "                chain_new=copy.deepcopy(s_a)\n",
    "                element_i=chain_new[i]\n",
    "                element_j=chain_new[j]\n",
    "                if method==0:\n",
    "                    if max(i,j)==N-1:  # this is the concatenation way to exchange i and j  \n",
    "                        if i>j:\n",
    "                            chain_new=element_i+chain_new[1:N-1]+element_j\n",
    "                        else:\n",
    "                            chain_new=chain_new[0:i]+element_j+element_i\n",
    "                    else:\n",
    "                        chain_new=chain_new[0:i]+element_j+element_i+chain_new[j+1:]\n",
    "                    r=int(chain_new,2)\n",
    "\n",
    "                else: # using the .join way to exchange the i and j\n",
    "                    chain1=list(chain_new)\n",
    "                    chain1[i]=element_j\n",
    "                    chain1[j]=element_i\n",
    "                    r=int(''.join(chain1),2)\n",
    "                if r in state_list:\n",
    "                    b=state_list.index(r)  # find b after flip\n",
    "                    Hmz[a,b]=0.5\n",
    "    eig_v=np.real(np.linalg.eig(Hmz)[0])\n",
    "    energy[num_up]=eig_v"
   ]
  },
  {
   "cell_type": "markdown",
   "metadata": {
    "id": "8xgWu4PZIO0K"
   },
   "source": [
    "<font  face=Times color=darkblue size=3 > Since we use the number of spin-ups to specify the blocks, remember here $m_z=(n_{\\uparrow}-n_{\\downarrow})/2$ for $S=1/2$ Heisenberg model. "
   ]
  },
  {
   "cell_type": "code",
   "execution_count": 13,
   "metadata": {
    "colab": {
     "base_uri": "https://localhost:8080/",
     "height": 298
    },
    "id": "vHSGFlkwIO0L",
    "outputId": "a694f1d5-cdca-45bb-cbe0-4351ed07f1c3"
   },
   "outputs": [
    {
     "data": {
      "text/plain": [
       "Text(0, 0.5, 'Energy')"
      ]
     },
     "execution_count": 13,
     "metadata": {},
     "output_type": "execute_result"
    },
    {
     "data": {
      "image/png": "[encoded data removed]",
      "text/plain": [
       "<Figure size 432x288 with 1 Axes>"
      ]
     },
     "metadata": {
      "needs_background": "light"
     },
     "output_type": "display_data"
    }
   ],
   "source": [
    "for i in range(N+1):\n",
    "    plt.scatter([(i-(N-i))/2]*len(energy[i]),energy[i],marker='_',color='black')\n",
    "plt.xlabel('$m_z$')\n",
    "plt.ylabel('Energy')"
   ]
  },
  {
   "cell_type": "markdown",
   "metadata": {
    "id": "UQWt4S5VIO0N"
   },
   "source": [
    "<font  face=Times color=darkblue size=3 > You can see that, for even $N$, the ground state is when $m_z=0$. You can check the situation of odd $N$."
   ]
  },
  {
   "cell_type": "markdown",
   "metadata": {
    "id": "6eYBkxOZIO0O"
   },
   "source": [
    "### Momentum States (translationally invariant systems)"
   ]
  },
  {
   "cell_type": "markdown",
   "metadata": {
    "id": "oKmcg4o7IO0O"
   },
   "source": [
    "<font  face=Times color=darkblue size=3> A periodic chain (ring) is translationally invariant and we define a translation operator which moves the spins one step cyclically to the \"right\": $$\\hat{T}|S_0^z,S_1^z,...,S_{N-1}^z>=|S_{N-1}^z,S_0^z,\\dots,S_{N-2}^z>.$$ The hamiltonian commutes with the translation operator: $[H,T]=0$. So we can construct momentum states $|\\psi(k)>$ as the eigenstates of the translation operator, $$\\hat T|\\psi(k)>=e^{ik}|\\psi(k)>,$$ with $k=2m\\pi/N$ and $m=0,1,2,\\dots,N-1$.\n",
    "    <br><br> A momentum state can be constructed from any representative state: $|a(k)>=\\frac{1}{\\sqrt{N_a}}\\sum_{r=0}^{N-1}e^{-ikr}T^r|a>$. We can obtain the momentum states from the representative states in each block with specific $k$.<br> Remember the translation invariance, the total weight of the component for $R$ (T^R|a>=|a>) is: $1+e^{-ikR}+e^{-i2kR}+\\dots+e^{-ik(N-R)}$. The state can survive when $kR=2n\\pi$ and the weight of the representative is $N/R$.<br> Therefore, for each block ($k$), the first step is to find the representative states which satisfy the requirements. Notice that for any group of translationally invariant states, we take the lowest integer as the representative.\n",
    "    <br><br> To build each block-matrix, we can write the hamiltonian as: $H_0=\\sum_{j}^NS_j^zS_{j+1}^z$, and $H_j=\\frac{1}{2}(S_j^+S_{j+1}^-+S_j^-S_{j+1}^+).$  <br> In the momentum states: $$H|a(k)>=\\frac{1}{\\sqrt{N_a}}\\sum_{j=0}^N\\sum_{r=0}^{N-1}e^{-ikr}T^rH_j|a>.$$  In addition, $H_j|a>=h_a^jT^{-l_j}|b_j>$, the $h_a^j$ is the eigenvalue, and |b_j> is another representative state. Therefore, by using the definition of momentum states and removing the summation index $r$, we have: $$H|a(k)>=\\sum_{j=0}^Nh_a^je^{-ikl_j}\\sqrt{\\frac{N_{b_j}}{N_a}}|b_j(k)>.$$ <br> The diagonal and off-diagonal block-matrix elements can be represented as: $$<a(k)|H_0|a(k)>=\\sum_j^NS_j^zS_{j+1}^z;$$ $$<b_j(k)|H_{j>0}|a(k)>=\\frac{1}{2}e^{-ikl_j}\\sqrt{\\frac{R_a}{R_{b_j}}}.$$"
   ]
  },
  {
   "cell_type": "code",
   "execution_count": 13,
   "metadata": {
    "id": "E3oXV2gaIO0P"
   },
   "outputs": [],
   "source": [
    "# set parameters\n",
    "N=12\n",
    "dimension=2**N\n",
    "#spin chain with all spin-down\n",
    "z='0'*N"
   ]
  },
  {
   "cell_type": "code",
   "execution_count": 14,
   "metadata": {},
   "outputs": [],
   "source": [
    "method=0"
   ]
  },
  {
   "cell_type": "code",
   "execution_count": 15,
   "metadata": {
    "colab": {
     "base_uri": "https://localhost:8080/"
    },
    "id": "dUofhAGMIO0P",
    "outputId": "38f2ab16-369e-4614-88c3-8eefcbec5f30",
    "scrolled": true
   },
   "outputs": [
    {
     "name": "stdout",
     "output_type": "stream",
     "text": [
      "0\n",
      "1\n"
     ]
    },
    {
     "name": "stderr",
     "output_type": "stream",
     "text": [
      "<ipython-input-15-a8a454fee02e>:69: ComplexWarning: Casting complex values to real discards the imaginary part\n",
      "  Hm[a,b]+=0.5*np.sqrt(R_list[a]/R_list[b])*np.exp(-1j*2*np.pi*m*l/N) # off-diagonal\n"
     ]
    },
    {
     "name": "stdout",
     "output_type": "stream",
     "text": [
      "2\n",
      "3\n",
      "4\n",
      "5\n",
      "6\n",
      "7\n",
      "8\n",
      "9\n",
      "10\n",
      "11\n"
     ]
    }
   ],
   "source": [
    "energy={}\n",
    "for m in range(0,N): #k=m*2pi/N\n",
    "    print(m)\n",
    "    d=0\n",
    "    R_list=[]\n",
    "    state_list=[]\n",
    "    # first:find representatives(translation invariance)\n",
    "    for spinz in range(0,N+1): \n",
    "        # by adding this iteration of magnetization conservation, you can further split the hamiltonian (we do not do  it here)\n",
    "        for state in range(dimension):\n",
    "            chain_here=bin(state)[2:]\n",
    "            num_spinup=chain_here.count('1')\n",
    "            if num_spinup==spinz:\n",
    "                length=len(chain_here)\n",
    "                chain_here=z[0:N-length]+chain_here\n",
    "                for ii in range(1,N+1):\n",
    "                    chain_here=chain_here[N-1]+chain_here[0:N-1]\n",
    "                    state_t=int(chain_here,2)\n",
    "                    if state_t<state:\n",
    "                        break\n",
    "                    if state_t==state:   \n",
    "                        if np.mod(m*ii,N)!=0:   #condition whether the state survives for this k\n",
    "                            break\n",
    "                        else:\n",
    "                            d=d+1\n",
    "                            R_list.append(ii)\n",
    "                            state_list.append(state)\n",
    "                            break\n",
    "    # construc block-matrix\n",
    "    Hm=np.zeros((d,d))\n",
    "    for a in range(d):\n",
    "        for j in range(N):\n",
    "            k=np.mod(j+1,N)\n",
    "            s_a=bin(state_list[a])[2:]\n",
    "            chain_m=z[0:N-len(s_a)]+s_a\n",
    "            #diagonal\n",
    "            if chain_m[j]==chain_m[k]:\n",
    "                Hm[a,a]+=1/4\n",
    "            else:\n",
    "                Hm[a,a]-=1/4\n",
    "                chain_new=copy.deepcopy(chain_m)\n",
    "                element_j=chain_new[j]\n",
    "                element_k=chain_new[k]\n",
    "                if method==0:\n",
    "                    if max(j,k)==N-1:  # this is the concatenation way to exchange k and j  \n",
    "                        if j>k:\n",
    "                            chain_new=element_j+chain_new[1:N-1]+element_k\n",
    "                        else:\n",
    "                            chain_new=chain_new[0:j]+element_k+element_j\n",
    "                    else:\n",
    "                        chain_new=chain_new[0:j]+element_k+element_j+chain_new[k+1:]\n",
    "                    r=int(chain_new,2)\n",
    "                    t=copy.deepcopy(chain_new)\n",
    "                else: # using the .join way to exchange the k and j\n",
    "                    chain1=list(chain_new)\n",
    "                    chain1[j]=element_k\n",
    "                    chain1[k]=element_j\n",
    "                    r=int(''.join(chain1),2)\n",
    "                    t=copy.deepcopy(''.join(chain1))\n",
    "                l=0\n",
    "                for iii in range(1,N): # find the representative of the new chain\n",
    "                    t=t[N-1]+t[0:N-1]\n",
    "                    s_t=int(t,2)\n",
    "                    if s_t<r:\n",
    "                        r=s_t\n",
    "                        l=iii\n",
    "                if r in state_list:\n",
    "                    b=state_list.index(r)\n",
    "                    Hm[a,b]+=0.5*np.sqrt(R_list[a]/R_list[b])*np.exp(-1j*2*np.pi*m*l/N) # off-diagonal\n",
    "    eig_v=np.real(np.linalg.eig(Hm)[0])\n",
    "    energy[m]=eig_v"
   ]
  },
  {
   "cell_type": "code",
   "execution_count": 12,
   "metadata": {
    "id": "ZgSWjIjmIO0Q",
    "outputId": "4c100a3b-cd8b-4621-ccd3-c07a19ebeb89",
    "scrolled": true
   },
   "outputs": [
    {
     "data": {
      "text/plain": [
       "Text(0.5, 1.0, 'N=16')"
      ]
     },
     "execution_count": 12,
     "metadata": {},
     "output_type": "execute_result"
    },
    {
     "data": {
      "image/png": "[encoded data removed]",
      "text/plain": [
       "<Figure size 432x288 with 1 Axes>"
      ]
     },
     "metadata": {
      "needs_background": "light"
     },
     "output_type": "display_data"
    }
   ],
   "source": [
    "for i in range(N):\n",
    "    plt.scatter([i]*len(energy[i]),energy[i],marker='_',color='black')\n",
    "plt.xlabel(r'$k$',fontsize=14)\n",
    "plt.ylabel(r'$E$',fontsize=14)\n",
    "plt.xticks([0,int(N/4),int(N/2),int(3*N/4)],[r'$0$',r'$\\frac{\\pi}{2}$',r'${\\pi}$',r'$\\frac{3\\pi}{2}$'],fontsize=14)\n",
    "plt.title('N='+str(N))\n",
    "#plt.ylim(-8.1,-6.5)"
   ]
  },
  {
   "cell_type": "code",
   "execution_count": 73,
   "metadata": {},
   "outputs": [],
   "source": [
    "#energy_16=np.load('s_onehalf_16.npy').item()\n",
    "#energy_12=copy.deepcopy(energy)\n",
    "'''\n",
    "csv_file=open('Haldane_L_12_test2_En.csv','r')\n",
    "reader=csv.reader(csv_file)\n",
    "s1_12=[]\n",
    "for item in reader:\n",
    "    if reader.line_num==1:\n",
    "        continue\n",
    "    s1_12.append((item))\n",
    "csv_file.close()\n",
    "for i in range(len(s1_12)):\n",
    "    for j in range(2):\n",
    "        s1_12[i][j]=float(s1_12[i][j])\n",
    "s1_12=np.array(s1_12)\n",
    "\n",
    "csv_file=open('haldane_L16_20.csv','r')\n",
    "reader=csv.reader(csv_file)\n",
    "s1_16=[]\n",
    "for item in reader:\n",
    "    if reader.line_num==1:\n",
    "        continue\n",
    "    s1_16.append((item))\n",
    "csv_file.close()\n",
    "for i in range(len(s1_16)):\n",
    "    for j in range(1,3):\n",
    "        s1_16[i][j]=float(s1_16[i][j])\n",
    "s1_16=np.array(s1_16,dtype=float)\n",
    "'''"
   ]
  },
  {
   "cell_type": "code",
   "execution_count": 101,
   "metadata": {},
   "outputs": [
    {
     "data": {
      "text/plain": [
       "(-0.2, 4.0)"
      ]
     },
     "execution_count": 101,
     "metadata": {},
     "output_type": "execute_result"
    },
    {
     "data": {
      "image/png": "[encoded data removed]",
      "text/plain": [
       "<Figure size 1152x936 with 4 Axes>"
      ]
     },
     "metadata": {
      "needs_background": "light"
     },
     "output_type": "display_data"
    }
   ],
   "source": [
    "fig=plt.figure(figsize=(16,13))\n",
    "ax1=fig.add_subplot(2,2,1)\n",
    "for i in range(12):\n",
    "    ax1.scatter([i]*len(energy_12[i]),energy_12[i]-min(energy_12[0]),marker='_',color='black')\n",
    "plt.xlabel(r'$k$',fontsize=14)\n",
    "plt.ylabel(r'$E-E_0$',fontsize=14)\n",
    "plt.xticks([0,int(12/4),int(12/2),int(3*12/4)],[r'$0$',r'$\\frac{\\pi}{2}$',r'${\\pi}$',r'$\\frac{3\\pi}{2}$'],fontsize=14)\n",
    "plt.title(r'$S=\\frac{1}{2},\\ $'+'N='+str(12))\n",
    "plt.ylim(-0.2,4)\n",
    "ax2=fig.add_subplot(2,2,2)\n",
    "ax2.scatter(s1_12[:,1],s1_12[:,0]-min(s1_12[:,0]),marker='_',color='black')\n",
    "plt.xlabel(r'$k$',fontsize=14)\n",
    "plt.ylabel(r'$E-E_0$',fontsize=14)\n",
    "plt.xticks([0,np.pi/2,np.pi,3*np.pi/2],[r'$0$',r'$\\frac{\\pi}{2}$',r'${\\pi}$',r'$\\frac{3\\pi}{2}$'],fontsize=14)\n",
    "plt.title(r'$S=1,\\ $'+'N='+str(12))\n",
    "plt.ylim(-0.2,4)\n",
    "ax3=fig.add_subplot(2,2,3)\n",
    "for i in range(16):\n",
    "    ax3.scatter([i]*len(energy_16[i]),energy_16[i]-min(energy_16[0]),marker='_',color='black')\n",
    "plt.xlabel(r'$k$',fontsize=14)\n",
    "plt.ylabel(r'$E-E_0$',fontsize=14)\n",
    "plt.xticks([0,int(16/4),int(16/2),int(3*16/4)],[r'$0$',r'$\\frac{\\pi}{2}$',r'${\\pi}$',r'$\\frac{3\\pi}{2}$'],fontsize=14)\n",
    "plt.title(r'$S=\\frac{1}{2},\\ $'+'N='+str(16))\n",
    "plt.ylim(-0.2,4)\n",
    "ax4=fig.add_subplot(2,2,4)\n",
    "ax4.scatter(s1_16[:,2],s1_16[:,1]-min(s1_16[:,1]),marker='_',color='black')\n",
    "plt.xlabel(r'$k$',fontsize=14)\n",
    "plt.ylabel(r'$E-E_0$',fontsize=14)\n",
    "plt.xticks([0,np.pi/2,np.pi,3*np.pi/2],[r'$0$',r'$\\frac{\\pi}{2}$',r'${\\pi}$',r'$\\frac{3\\pi}{2}$'],fontsize=14)\n",
    "plt.title(r'$S=1,\\ $'+'N='+str(16))\n",
    "plt.ylim(-0.2,4)"
   ]
  },
  {
   "cell_type": "code",
   "execution_count": null,
   "metadata": {},
   "outputs": [],
   "source": []
  }
 ],
 "metadata": {
  "colab": {
   "name": "ED_Heisenberg_2_symmetries.ipynb",
   "provenance": []
  },
  "kernelspec": {
   "display_name": "Python 3",
   "language": "python",
   "name": "python3"
  },
  "language_info": {
   "codemirror_mode": {
    "name": "ipython",
    "version": 3
   },
   "file_extension": ".py",
   "mimetype": "text/x-python",
   "name": "python",
   "nbconvert_exporter": "python",
   "pygments_lexer": "ipython3",
   "version": "3.8.5"
  }
 },
 "nbformat": 4,
 "nbformat_minor": 1
}
