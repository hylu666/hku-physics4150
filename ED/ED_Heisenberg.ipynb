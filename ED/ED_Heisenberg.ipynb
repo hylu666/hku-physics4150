{
  "nbformat": 4,
  "nbformat_minor": 0,
  "metadata": {
    "colab": {
      "name": "ED_Heisenberg.ipynb",
      "provenance": []
    },
    "kernelspec": {
      "display_name": "Python 3",
      "language": "python",
      "name": "python3"
    },
    "language_info": {
      "codemirror_mode": {
        "name": "ipython",
        "version": 3
      },
      "file_extension": ".py",
      "mimetype": "text/x-python",
      "name": "python",
      "nbconvert_exporter": "python",
      "pygments_lexer": "ipython3",
      "version": "3.8.5"
    }
  },
  "cells": [
    {
      "cell_type": "markdown",
      "metadata": {
        "id": "P3lb1QbqgAHg"
      },
      "source": [
        "##  Model"
      ]
    },
    {
      "cell_type": "markdown",
      "metadata": {
        "id": "VFsGt3_2gAHl"
      },
      "source": [
        "<font  face=Times color=darkblue size=3> The model hamiltonian is: $$H=J\\sum_{<i,j>}\\vec{S_i}\\cdot \\vec{S_j}=J\\sum_{<i,j>}(\\frac{1}{2}(S_i^+S_j^-+S_i^-S_j^+)+S_i^zS_j^z)$$ with the spin raising/lowering operators.<br><br> We consider $S=1/2$ 1-dimensional spin chain here."
      ]
    },
    {
      "cell_type": "markdown",
      "metadata": {
        "id": "gx8PTxAZgAHl"
      },
      "source": [
        "## ED"
      ]
    },
    {
      "cell_type": "markdown",
      "metadata": {
        "id": "kleeKo2VgAHm"
      },
      "source": [
        "<font  face=Times color=darkblue size=3>The basic idea is to construct the matrix of Hamiltonian and diagonalize it to get the eigenvalues and eigenvectors. <br><br> We choose the $S^z$ basis and use the bit representation. For example, for a N-spin chain, there are $2^N$ states and can be represented as: $$|0>=|\\downarrow,\\downarrow,...,\\downarrow> (=00...0)$$ $$|1>=|\\uparrow,\\downarrow,...,\\downarrow> (=00...1)$$ <br><br> To construct the matrix, we enumerate the states and $H_{ij}=<i|H|j>$. Please kind in mind that  that\n",
        "* the pairs of spin raising/lowering opertors $S_i^+S_j^-$ can flip the spins thus providing the off-diagonal elements, \n",
        "* while the $S_i^zS_j^z$ operators provide the diagonal elements.\n",
        "\n"
      ]
    },
    {
      "cell_type": "code",
      "metadata": {
        "id": "D0axIXncJqD9"
      },
      "source": [
        "import numpy as np \n",
        "import matplotlib.pyplot as plt"
      ],
      "execution_count": 1,
      "outputs": []
    },
    {
      "cell_type": "markdown",
      "metadata": {
        "id": "gayHnkKrGT4A"
      },
      "source": [
        "#### About String concatenation"
      ]
    },
    {
      "cell_type": "code",
      "metadata": {
        "id": "iV89oBO2GT4B"
      },
      "source": [
        "# To show the process\n",
        "a='0001'\n",
        "b='1111'\n",
        "c='22222'"
      ],
      "execution_count": null,
      "outputs": []
    },
    {
      "cell_type": "code",
      "metadata": {
        "colab": {
          "base_uri": "https://localhost:8080/"
        },
        "id": "SuBu2nWpGT4D",
        "outputId": "5e5df2c8-3cbc-4e39-fe83-794d517340fc"
      },
      "source": [
        "print('a:',a)\n",
        "print('b:',b)\n",
        "print('c:',c)\n",
        "print('bin(a):', bin(10))"
      ],
      "execution_count": null,
      "outputs": [
        {
          "output_type": "stream",
          "name": "stdout",
          "text": [
            "a: 0001\n",
            "b: 1111\n",
            "c: 22222\n",
            "bin(a): 0b1010\n"
          ]
        }
      ]
    },
    {
      "cell_type": "code",
      "metadata": {
        "colab": {
          "base_uri": "https://localhost:8080/"
        },
        "id": "PGGtSxmhGT4F",
        "outputId": "cb339ce8-3e4e-485c-cd82-f4d4402b9db9"
      },
      "source": [
        "print('concatenation:a+b+c:',a+b+c)"
      ],
      "execution_count": null,
      "outputs": [
        {
          "output_type": "stream",
          "name": "stdout",
          "text": [
            "concatenation:a+b+c: 0001111122222\n"
          ]
        }
      ]
    },
    {
      "cell_type": "markdown",
      "metadata": {
        "id": "v5n-SpQ0GT4G"
      },
      "source": [
        "#### Code"
      ]
    },
    {
      "cell_type": "code",
      "metadata": {
        "colab": {
          "base_uri": "https://localhost:8080/",
          "height": 35
        },
        "id": "5XS-9_Y3gAHp",
        "outputId": "72d371f1-d9e9-4602-f85d-8a0998ea0e6e"
      },
      "source": [
        "# set parameters\n",
        "N=4\n",
        "dimension=2**N\n",
        "#spin chain with all spin-down\n",
        "z='0'*N\n",
        "# initialize hamiltonian\n",
        "H=np.zeros((dimension,dimension))\n",
        "z"
      ],
      "execution_count": 2,
      "outputs": [
        {
          "output_type": "execute_result",
          "data": {
            "text/plain": [
              "'0000'"
            ],
            "application/vnd.google.colaboratory.intrinsic+json": {
              "type": "string"
            }
          },
          "metadata": {},
          "execution_count": 2
        }
      ]
    },
    {
      "cell_type": "code",
      "metadata": {
        "id": "LQc-NWfdgAHq",
        "outputId": "3891d24d-1177-4157-a939-998f98b36a25",
        "colab": {
          "base_uri": "https://localhost:8080/"
        }
      },
      "source": [
        "# Matrix Construction\n",
        "for a in range(dimension):\n",
        "    state_chain=bin(a)[2:] # the first two should be omitted for this 'bin' function\n",
        "    l=len(state_chain)\n",
        "    state_chain=z[0:N-l]+state_chain # make the length equal to N\n",
        "    print(state_chain)\n",
        "  # for PBC, we set i in range(N)\n",
        "  # for OBC, we set i in range(N-1)\n",
        "    for i in range(N):\n",
        "        j=np.mod(i+1,N)\n",
        "        state_chain=bin(a)[2:] # the first two should be omitted for this 'bin' function\n",
        "        l=len(state_chain)\n",
        "        state_chain=z[0:N-l]+state_chain # make the length equal to N\n",
        " #       print(state_chain)\n",
        "        if state_chain[i]==state_chain[j]: # i=j only diagonal elements\n",
        "            H[a,a]+=0.25\n",
        "#            print('a:',a)\n",
        "        else:                              # else, the raising/lowering operators also have contributions\n",
        "            H[a,a]-=0.25\n",
        "            # then exchange i,j\n",
        "            element_i=state_chain[i]\n",
        "            element_j=state_chain[j]\n",
        "            #flip\n",
        "            if max(i,j)==N-1:\n",
        "                if i>j:  #here we are doing the concatenation of string (you can try other methods)\n",
        "#                    print(state_chain)\n",
        "                    state_chain1=element_i+state_chain[1:N-1]+element_j\n",
        "#                    print(state_chain)\n",
        "                else:\n",
        "#                    print(state_chain)\n",
        "                    state_chain1=state_chain[0:i]+element_j+element_i\n",
        "#                    print(state_chain)\n",
        "            else:\n",
        "                state_chain1=state_chain[0:i]+element_j+element_i+state_chain[j+1:]\n",
        "#            print(state_chain)\n",
        "            b=int(state_chain1,2)\n",
        "#            print('a:',a)\n",
        "#            print('b:',b)\n",
        "            H[a,b]+=0.5"
      ],
      "execution_count": 3,
      "outputs": [
        {
          "output_type": "stream",
          "name": "stdout",
          "text": [
            "0000\n",
            "0001\n",
            "0010\n",
            "0011\n",
            "0100\n",
            "0101\n",
            "0110\n",
            "0111\n",
            "1000\n",
            "1001\n",
            "1010\n",
            "1011\n",
            "1100\n",
            "1101\n",
            "1110\n",
            "1111\n"
          ]
        }
      ]
    },
    {
      "cell_type": "code",
      "metadata": {
        "colab": {
          "base_uri": "https://localhost:8080/"
        },
        "id": "qPJhfmZQgAHr",
        "outputId": "0e9e242f-84c2-47f5-eb51-719cf4bd0d43"
      },
      "source": [
        "H"
      ],
      "execution_count": 4,
      "outputs": [
        {
          "output_type": "execute_result",
          "data": {
            "text/plain": [
              "array([[ 1. ,  0. ,  0. ,  0. ,  0. ,  0. ,  0. ,  0. ,  0. ,  0. ,  0. ,\n",
              "         0. ,  0. ,  0. ,  0. ,  0. ],\n",
              "       [ 0. ,  0. ,  0.5,  0. ,  0. ,  0. ,  0. ,  0. ,  0.5,  0. ,  0. ,\n",
              "         0. ,  0. ,  0. ,  0. ,  0. ],\n",
              "       [ 0. ,  0.5,  0. ,  0. ,  0.5,  0. ,  0. ,  0. ,  0. ,  0. ,  0. ,\n",
              "         0. ,  0. ,  0. ,  0. ,  0. ],\n",
              "       [ 0. ,  0. ,  0. ,  0. ,  0. ,  0.5,  0. ,  0. ,  0. ,  0. ,  0.5,\n",
              "         0. ,  0. ,  0. ,  0. ,  0. ],\n",
              "       [ 0. ,  0. ,  0.5,  0. ,  0. ,  0. ,  0. ,  0. ,  0.5,  0. ,  0. ,\n",
              "         0. ,  0. ,  0. ,  0. ,  0. ],\n",
              "       [ 0. ,  0. ,  0. ,  0.5,  0. , -1. ,  0.5,  0. ,  0. ,  0.5,  0. ,\n",
              "         0. ,  0.5,  0. ,  0. ,  0. ],\n",
              "       [ 0. ,  0. ,  0. ,  0. ,  0. ,  0.5,  0. ,  0. ,  0. ,  0. ,  0.5,\n",
              "         0. ,  0. ,  0. ,  0. ,  0. ],\n",
              "       [ 0. ,  0. ,  0. ,  0. ,  0. ,  0. ,  0. ,  0. ,  0. ,  0. ,  0. ,\n",
              "         0.5,  0. ,  0. ,  0.5,  0. ],\n",
              "       [ 0. ,  0.5,  0. ,  0. ,  0.5,  0. ,  0. ,  0. ,  0. ,  0. ,  0. ,\n",
              "         0. ,  0. ,  0. ,  0. ,  0. ],\n",
              "       [ 0. ,  0. ,  0. ,  0. ,  0. ,  0.5,  0. ,  0. ,  0. ,  0. ,  0.5,\n",
              "         0. ,  0. ,  0. ,  0. ,  0. ],\n",
              "       [ 0. ,  0. ,  0. ,  0.5,  0. ,  0. ,  0.5,  0. ,  0. ,  0.5, -1. ,\n",
              "         0. ,  0.5,  0. ,  0. ,  0. ],\n",
              "       [ 0. ,  0. ,  0. ,  0. ,  0. ,  0. ,  0. ,  0.5,  0. ,  0. ,  0. ,\n",
              "         0. ,  0. ,  0.5,  0. ,  0. ],\n",
              "       [ 0. ,  0. ,  0. ,  0. ,  0. ,  0.5,  0. ,  0. ,  0. ,  0. ,  0.5,\n",
              "         0. ,  0. ,  0. ,  0. ,  0. ],\n",
              "       [ 0. ,  0. ,  0. ,  0. ,  0. ,  0. ,  0. ,  0. ,  0. ,  0. ,  0. ,\n",
              "         0.5,  0. ,  0. ,  0.5,  0. ],\n",
              "       [ 0. ,  0. ,  0. ,  0. ,  0. ,  0. ,  0. ,  0.5,  0. ,  0. ,  0. ,\n",
              "         0. ,  0. ,  0.5,  0. ,  0. ],\n",
              "       [ 0. ,  0. ,  0. ,  0. ,  0. ,  0. ,  0. ,  0. ,  0. ,  0. ,  0. ,\n",
              "         0. ,  0. ,  0. ,  0. ,  1. ]])"
            ]
          },
          "metadata": {},
          "execution_count": 4
        }
      ]
    },
    {
      "cell_type": "code",
      "metadata": {
        "id": "wrS8msDigAHt"
      },
      "source": [
        "eig_value=np.real(np.linalg.eig(H)[0])# eigen_values\n",
        "eig_vec=np.real(np.linalg.eig(H)[1])  # eigenstates"
      ],
      "execution_count": 5,
      "outputs": []
    },
    {
      "cell_type": "code",
      "metadata": {
        "colab": {
          "base_uri": "https://localhost:8080/"
        },
        "id": "MpFRTik3gAHu",
        "outputId": "dd4e20e5-63e7-403f-c9b4-2e6c715fd8dd"
      },
      "source": [
        "# ground state energy\n",
        "#min(eig_value)\n",
        "# ground state wave function\n",
        "idx_sorted1 = np.argsort(eig_value)\n",
        "eig_value=eig_value[idx_sorted1]\n",
        "eig_vec=eig_vec[:,idx_sorted1]\n",
        "eig_value[0], eig_vec[:,0]"
      ],
      "execution_count": 6,
      "outputs": [
        {
          "output_type": "execute_result",
          "data": {
            "text/plain": [
              "(-1.9999999999999987,\n",
              " array([ 0.00000000e+00,  2.77354685e-17,  2.57913478e-17,  2.88675135e-01,\n",
              "        -8.55761944e-17, -5.77350269e-01,  2.88675135e-01,  5.93181067e-17,\n",
              "         4.45654388e-17,  2.88675135e-01, -5.77350269e-01,  4.86828725e-33,\n",
              "         2.88675135e-01, -5.93181067e-17,  4.86828725e-33,  0.00000000e+00]))"
            ]
          },
          "metadata": {},
          "execution_count": 6
        }
      ]
    },
    {
      "cell_type": "code",
      "metadata": {
        "id": "P2FxTrsvgAHv"
      },
      "source": [
        "energy_level=np.sort(eig_value)"
      ],
      "execution_count": 7,
      "outputs": []
    },
    {
      "cell_type": "code",
      "metadata": {
        "colab": {
          "base_uri": "https://localhost:8080/",
          "height": 313
        },
        "id": "F2-yw_qPgAHv",
        "outputId": "1ddca94c-da07-4423-f80e-abb00a5b7fdc"
      },
      "source": [
        "plt.scatter(np.arange(0,len(energy_level)),energy_level,marker='_')\n",
        "plt.xlabel('Energy Level N')\n",
        "plt.ylabel('Energy')\n",
        "plt.title('Energy Level of Spin Chain')"
      ],
      "execution_count": 8,
      "outputs": [
        {
          "output_type": "execute_result",
          "data": {
            "text/plain": [
              "Text(0.5, 1.0, 'Energy Level of Spin Chain')"
            ]
          },
          "metadata": {},
          "execution_count": 8
        },
        {
          "output_type": "display_data",
          "data": {
            "text/plain": [
              "<Figure size 432x288 with 1 Axes>"
            ],
            "image/png": "[encoded data removed]"
          },
          "metadata": {
            "needs_background": "light"
          }
        }
      ]
    },
    {
      "cell_type": "markdown",
      "metadata": {
        "id": "ulUiYokTgAHw"
      },
      "source": [
        "<font  face=Times color=darkblue size=3> Then we find the ground state by searching for the lowest energy."
      ]
    },
    {
      "cell_type": "markdown",
      "metadata": {
        "id": "_rWbazHuP1Pz"
      },
      "source": [
        "#### Another way to flip spins "
      ]
    },
    {
      "cell_type": "code",
      "metadata": {
        "id": "0Wqv4iq0P1Pz",
        "outputId": "d5ecfcfa-683a-472d-c2ec-aa22d513a9b8",
        "colab": {
          "base_uri": "https://localhost:8080/",
          "height": 35
        }
      },
      "source": [
        "# for a string '00001', if we flip the index 3 and 4\n",
        "str_='00001'\n",
        "# instead of concatenation, we can convert it to list first\n",
        "site_3=str_[3]\n",
        "site_4=str_[4]\n",
        "list_=list(str_)\n",
        "list_[3]=site_4\n",
        "list_[4]=site_3\n",
        "#convert it back to string\n",
        "str_=''.join(list_)\n",
        "str_"
      ],
      "execution_count": null,
      "outputs": [
        {
          "output_type": "execute_result",
          "data": {
            "text/plain": [
              "'00010'"
            ],
            "application/vnd.google.colaboratory.intrinsic+json": {
              "type": "string"
            }
          },
          "metadata": {},
          "execution_count": 92
        }
      ]
    },
    {
      "cell_type": "markdown",
      "metadata": {
        "id": "3asCjGxfP1P0"
      },
      "source": [
        "therefore, the construct the hamiltonian:"
      ]
    },
    {
      "cell_type": "code",
      "metadata": {
        "id": "A7afvt1TP1P1"
      },
      "source": [
        "# Matrix Construction\n",
        "H=np.zeros((dimension,dimension))\n",
        "for a in range(dimension):\n",
        "    state_chain=bin(a)[2:] # the first two should be omitted for this 'bin' function\n",
        "    l=len(state_chain)\n",
        "    state_chain=z[0:N-l]+state_chain # make the length equal to N\n",
        "    for i in range(N):\n",
        "        j=np.mod(i+1,N)\n",
        "#        state_chain=bin(a)[2:] # the first two should be omitted for this 'bin' function\n",
        "#        l=len(state_chain)\n",
        "#        print(state_chain)\n",
        "#        state_chain=z[0:N-l]+state_chain # make the length equal to N\n",
        "        if state_chain[i]==state_chain[j]: # i=j only diagonal elements\n",
        "            H[a,a]+=0.25\n",
        "        else:                              # else, the raising/lowering operators also have contributions\n",
        "            H[a,a]-=0.25\n",
        "            # then exchange i,j\n",
        "            element_i=state_chain[i]\n",
        "            element_j=state_chain[j]\n",
        "            #flip\n",
        "            chain1=list(state_chain)\n",
        "            chain1[i]=element_j\n",
        "            chain1[j]=element_i\n",
        "            b=int(''.join(chain1),2)\n",
        "            H[a,b]+=0.5"
      ],
      "execution_count": null,
      "outputs": []
    },
    {
      "cell_type": "code",
      "metadata": {
        "id": "8NGhpc-lSe8m",
        "outputId": "1ce4cdeb-b839-4208-e232-822ebe82bd86",
        "colab": {
          "base_uri": "https://localhost:8080/"
        }
      },
      "source": [
        "eig_value=np.real(np.linalg.eig(H)[0])# eigen_values\n",
        "eig_vec=np.real(np.linalg.eig(H)[1])  # eigenstates\n",
        "# ground state wave function\n",
        "idx_sorted1 = np.argsort(eig_value)\n",
        "eig_value=eig_value[idx_sorted1]\n",
        "eig_vec=eig_vec[:,idx_sorted1]\n",
        "eig_value[0], eig_vec[:,0]"
      ],
      "execution_count": null,
      "outputs": [
        {
          "output_type": "execute_result",
          "data": {
            "text/plain": [
              "(-1.9999999999999987,\n",
              " array([ 0.00000000e+00,  2.77354685e-17,  2.57913478e-17,  2.88675135e-01,\n",
              "        -8.55761944e-17, -5.77350269e-01,  2.88675135e-01,  5.93181067e-17,\n",
              "         4.45654388e-17,  2.88675135e-01, -5.77350269e-01,  4.86828725e-33,\n",
              "         2.88675135e-01, -5.93181067e-17,  4.86828725e-33,  0.00000000e+00]))"
            ]
          },
          "metadata": {},
          "execution_count": 94
        }
      ]
    },
    {
      "cell_type": "markdown",
      "metadata": {
        "id": "8DfmUnMjgAHw"
      },
      "source": [
        "### measurement"
      ]
    },
    {
      "cell_type": "code",
      "metadata": {
        "id": "KvoTNB75SdO9"
      },
      "source": [],
      "execution_count": null,
      "outputs": []
    },
    {
      "cell_type": "markdown",
      "metadata": {
        "id": "tntsBTxdgAHx"
      },
      "source": [
        "<font  face=Times color=darkblue size=3> To measure observables, we take $S^z$ as an example. The expectation value of the n:th eigenstate is $$<n|S^z|n>=[U^{T*}S^zU]$$ where U is the matrix whose columns are the eigenvectors. <br> To construct the matrix of the operator, the method is quite similar to that of hamiltonian, but there is only diagonal elements: $S^z_{aa}=+\\frac{1}{2}n-\\frac{1}{2}(N-n)$."
      ]
    },
    {
      "cell_type": "code",
      "metadata": {
        "id": "5Qcw1UbggAHx"
      },
      "source": [
        "matrix_U=np.zeros((dimension,dimension)) #mat_U\n",
        "matrix_Udag=np.zeros((dimension,dimension))\n",
        "for i in range(dimension):\n",
        "    matrix_U[:,i]=eig_vec[:,i].reshape(dimension)\n",
        "    matrix_Udag[i,:]=np.conj(eig_vec[:,i].reshape(dimension))"
      ],
      "execution_count": null,
      "outputs": []
    },
    {
      "cell_type": "code",
      "metadata": {
        "id": "lxF-wsMjgAHy"
      },
      "source": [
        "mat_Sz=np.zeros((dimension,dimension))"
      ],
      "execution_count": null,
      "outputs": []
    },
    {
      "cell_type": "code",
      "metadata": {
        "id": "jwW8e6BygAHy"
      },
      "source": [
        "##construct Sz matrix\n",
        "for a in range(dimension):\n",
        "    state_chain=bin(a)[2:] # the first two should be omitted for this 'bin' function\n",
        "    l=len(state_chain)\n",
        "    state_chain=z[0:N-l]+state_chain #make the length equal to N\n",
        "    up_number=state_chain.count('1')\n",
        "    down_number=N-up_number\n",
        "    mat_Sz[a,a]=0.5*up_number-0.5*down_number"
      ],
      "execution_count": null,
      "outputs": []
    },
    {
      "cell_type": "code",
      "metadata": {
        "colab": {
          "base_uri": "https://localhost:8080/"
        },
        "id": "yh58JWQZgAHz",
        "outputId": "c7962719-87e3-492b-8737-c84bdbbb047e"
      },
      "source": [
        "mat_Sz"
      ],
      "execution_count": null,
      "outputs": [
        {
          "output_type": "execute_result",
          "data": {
            "text/plain": [
              "array([[-6.,  0.,  0., ...,  0.,  0.,  0.],\n",
              "       [ 0., -5.,  0., ...,  0.,  0.,  0.],\n",
              "       [ 0.,  0., -5., ...,  0.,  0.,  0.],\n",
              "       ...,\n",
              "       [ 0.,  0.,  0., ...,  5.,  0.,  0.],\n",
              "       [ 0.,  0.,  0., ...,  0.,  5.,  0.],\n",
              "       [ 0.,  0.,  0., ...,  0.,  0.,  6.]])"
            ]
          },
          "metadata": {},
          "execution_count": 79
        }
      ]
    },
    {
      "cell_type": "code",
      "metadata": {
        "id": "nSHc5WupgAHz"
      },
      "source": [
        "# find the index of the ground state\n",
        "ind_ground=np.argmin(eig_value)"
      ],
      "execution_count": null,
      "outputs": []
    },
    {
      "cell_type": "code",
      "metadata": {
        "colab": {
          "base_uri": "https://localhost:8080/"
        },
        "id": "V7xwUvwRgAH0",
        "outputId": "7003fca0-3cff-45a5-e71e-cea3ef2627e5"
      },
      "source": [
        "np.dot(np.dot(matrix_Udag,mat_Sz),matrix_U)[ind_ground,ind_ground]"
      ],
      "execution_count": null,
      "outputs": [
        {
          "output_type": "execute_result",
          "data": {
            "text/plain": [
              "-4.8076606218607973e-29"
            ]
          },
          "metadata": {},
          "execution_count": 81
        }
      ]
    },
    {
      "cell_type": "code",
      "metadata": {
        "id": "IbENoSuoP1P4",
        "outputId": "03e14da8-6591-47d5-c98a-3e7d08b49c0a",
        "colab": {
          "base_uri": "https://localhost:8080/"
        }
      },
      "source": [
        "eig_value"
      ],
      "execution_count": null,
      "outputs": [
        {
          "output_type": "execute_result",
          "data": {
            "text/plain": [
              "array([-5.38739092, -5.0315434 , -5.0315434 , ...,  3.        ,\n",
              "        3.        ,  3.        ])"
            ]
          },
          "metadata": {},
          "execution_count": 82
        }
      ]
    },
    {
      "cell_type": "markdown",
      "metadata": {
        "id": "WBXzy_C7P1P4"
      },
      "source": [
        "<font  face=Times color=darkblue size=3> The ground state is non-degenerate, while the 1st excited states are degenerate (for 2 site problem)."
      ]
    },
    {
      "cell_type": "code",
      "metadata": {
        "id": "UIXS1DzzP1P4",
        "outputId": "f8b1e63f-d6fd-45ed-f8c7-db1c9e7813c2",
        "colab": {
          "base_uri": "https://localhost:8080/"
        }
      },
      "source": [
        "np.dot(np.dot(matrix_Udag,mat_Sz),matrix_U)[1,1]"
      ],
      "execution_count": null,
      "outputs": [
        {
          "output_type": "execute_result",
          "data": {
            "text/plain": [
              "8.096659031378621e-13"
            ]
          },
          "metadata": {},
          "execution_count": 83
        }
      ]
    },
    {
      "cell_type": "code",
      "metadata": {
        "id": "IRCFJLGJP1P5",
        "outputId": "159ca9bd-2fee-410f-c3dc-a8bbc1a2c410",
        "colab": {
          "base_uri": "https://localhost:8080/"
        }
      },
      "source": [
        "np.dot(np.dot(matrix_Udag,mat_Sz),matrix_U)[2,2]"
      ],
      "execution_count": null,
      "outputs": [
        {
          "output_type": "execute_result",
          "data": {
            "text/plain": [
              "-1.0"
            ]
          },
          "metadata": {},
          "execution_count": 84
        }
      ]
    },
    {
      "cell_type": "code",
      "metadata": {
        "id": "HVSaMXFFP1P5",
        "outputId": "ef2b198e-c153-4f00-d691-09b0906964ae",
        "colab": {
          "base_uri": "https://localhost:8080/"
        }
      },
      "source": [
        "np.dot(np.dot(matrix_Udag,mat_Sz),matrix_U)[3,3]"
      ],
      "execution_count": null,
      "outputs": [
        {
          "output_type": "execute_result",
          "data": {
            "text/plain": [
              "0.9999999999999929"
            ]
          },
          "metadata": {},
          "execution_count": 85
        }
      ]
    },
    {
      "cell_type": "markdown",
      "metadata": {
        "id": "Z6BoUCk8gAH0"
      },
      "source": [
        "<font  face=Times color=darkblue size=3> Now, we see that for the antiferromagnet, the $S^z$ is generally equal to $0$ at ground state if N is even. And we can also see the $S_z$ at the triplet.\n",
        "    <br><br> You can check the value of $S_z$ if N is odd."
      ]
    },
    {
      "cell_type": "code",
      "metadata": {
        "id": "IQQvEThpgAH0"
      },
      "source": [],
      "execution_count": null,
      "outputs": []
    }
  ]
}