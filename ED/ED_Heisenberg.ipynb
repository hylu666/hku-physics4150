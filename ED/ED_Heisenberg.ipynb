{
  "nbformat": 4,
  "nbformat_minor": 0,
  "metadata": {
    "colab": {
      "name": "ED_Heisenberg.ipynb",
      "provenance": []
    },
    "kernelspec": {
      "display_name": "Python 3",
      "language": "python",
      "name": "python3"
    },
    "language_info": {
      "codemirror_mode": {
        "name": "ipython",
        "version": 3
      },
      "file_extension": ".py",
      "mimetype": "text/x-python",
      "name": "python",
      "nbconvert_exporter": "python",
      "pygments_lexer": "ipython3",
      "version": "3.8.5"
    }
  },
  "cells": [
    {
      "cell_type": "markdown",
      "metadata": {
        "id": "P3lb1QbqgAHg"
      },
      "source": [
        "##  Model"
      ]
    },
    {
      "cell_type": "markdown",
      "metadata": {
        "id": "VFsGt3_2gAHl"
      },
      "source": [
        "<font  face=Times color=darkblue size=3> The model hamiltonian is: $$H=J\\sum_{<i,j>}\\vec{S_i}\\cdot \\vec{S_j}=J\\sum_{<i,j>}(\\frac{1}{2}(S_i^+S_j^-+S_i^-S_j^+)+S_i^zS_j^z)$$ with the spin raising/lowering operators.<br><br> We consider $S=1/2$ 1-dimensional spin chain here."
      ]
    },
    {
      "cell_type": "markdown",
      "metadata": {
        "id": "gx8PTxAZgAHl"
      },
      "source": [
        "## ED"
      ]
    },
    {
      "cell_type": "markdown",
      "metadata": {
        "id": "kleeKo2VgAHm"
      },
      "source": [
        "<font  face=Times color=darkblue size=3>The basic idea is to construct the matrix of Hamiltonian and diagonalize it to get the eigenvalues and eigenvectors. <br><br> We choose the $S^z$ basis and use the bit representation. For example, for a N-spin chain, there are $2^N$ states and can be represented as: $$|0>=|\\downarrow,\\downarrow,...,\\downarrow> (=00...0)$$ $$|1>=|\\uparrow,\\downarrow,...,\\downarrow> (=00...1)$$ <br><br> To construct the matrix, we enumerate the states and $H_{ij}=<i|H|j>$. Just be careful that the pairs of spin raising/lowering opertors can flip the spins thus providing the off-diagonal elements, while the $S^z$ operators provide the diagonal elements."
      ]
    },
    {
      "cell_type": "code",
      "metadata": {
        "id": "D0axIXncJqD9"
      },
      "source": [
        "import numpy as np \n",
        "import matplotlib.pyplot as plt"
      ],
      "execution_count": 1,
      "outputs": []
    },
    {
      "cell_type": "markdown",
      "metadata": {
        "id": "gayHnkKrGT4A"
      },
      "source": [
        "#### About String concatenation"
      ]
    },
    {
      "cell_type": "code",
      "metadata": {
        "id": "iV89oBO2GT4B"
      },
      "source": [
        "# To show the process\n",
        "a='000'\n",
        "b='1111'\n",
        "c='22222'"
      ],
      "execution_count": 5,
      "outputs": []
    },
    {
      "cell_type": "code",
      "metadata": {
        "id": "SuBu2nWpGT4D",
        "outputId": "8c1e8e58-0254-4f26-932a-f3689cfe08d8",
        "colab": {
          "base_uri": "https://localhost:8080/"
        }
      },
      "source": [
        "print('a:',a)\n",
        "print('b:',b)\n",
        "print('c:',c)"
      ],
      "execution_count": 6,
      "outputs": [
        {
          "output_type": "stream",
          "name": "stdout",
          "text": [
            "a: 000\n",
            "b: 1111\n",
            "c: 22222\n"
          ]
        }
      ]
    },
    {
      "cell_type": "code",
      "metadata": {
        "id": "PGGtSxmhGT4F",
        "outputId": "d38d2db7-66c7-4266-b9b7-898ce5b8a804",
        "colab": {
          "base_uri": "https://localhost:8080/"
        }
      },
      "source": [
        "print('concatenation:a+b+c:',a+b+c)"
      ],
      "execution_count": 7,
      "outputs": [
        {
          "output_type": "stream",
          "name": "stdout",
          "text": [
            "concatenation:a+b+c: 000111122222\n"
          ]
        }
      ]
    },
    {
      "cell_type": "markdown",
      "metadata": {
        "id": "v5n-SpQ0GT4G"
      },
      "source": [
        "#### Code"
      ]
    },
    {
      "cell_type": "code",
      "metadata": {
        "colab": {
          "base_uri": "https://localhost:8080/",
          "height": 35
        },
        "id": "5XS-9_Y3gAHp",
        "outputId": "156fce66-0df1-4043-ca5f-032b1ff8694e"
      },
      "source": [
        "# set parameters\n",
        "N=3\n",
        "dimension=2**N\n",
        "#spin chain with all spin-down\n",
        "z='0'*N\n",
        "# initialize hamiltonian\n",
        "H=np.zeros((dimension,dimension))\n",
        "z"
      ],
      "execution_count": null,
      "outputs": [
        {
          "data": {
            "text/plain": [
              "'000'"
            ]
          },
          "execution_count": 2,
          "metadata": {},
          "output_type": "execute_result"
        }
      ]
    },
    {
      "cell_type": "code",
      "metadata": {
        "colab": {
          "base_uri": "https://localhost:8080/"
        },
        "id": "LQc-NWfdgAHq",
        "outputId": "876185cd-7abc-4c8b-fa76-90747fdcf520"
      },
      "source": [
        "# Matrix Construction\n",
        "for a in range(dimension):\n",
        "    for i in range(N):\n",
        "        j=np.mod(i+1,N)\n",
        "        state_chain=bin(a)[2:] # the first two should be omitted for this 'bin' function\n",
        "        l=len(state_chain)\n",
        "#        print(state_chain)\n",
        "        state_chain=z[0:N-l]+state_chain #make the length equal to N\n",
        "        if state_chain[i]==state_chain[j]: #i=j only diagonal elements\n",
        "            H[a,a]+=0.25\n",
        "        else:                              # else, the raising/lowering operators also have contributions\n",
        "            H[a,a]-=0.25\n",
        "            # then exchange i,j\n",
        "            element_i=state_chain[i]\n",
        "            element_j=state_chain[j]\n",
        "            #flip\n",
        "            if max(i,j)==N-1:\n",
        "                if i>j:  #here we are doing the concatenation of string (you can try other methods)\n",
        "                    state_chain=element_i+state_chain[1:N-1]+element_j\n",
        "#                    print(state_chain)\n",
        "                else:\n",
        "                    state_chain=state_chain[0:i]+element_j+element_i\n",
        "#                    print(state_chain)\n",
        "            else:\n",
        "                state_chain=state_chain[0:i]+element_j+element_i+state_chain[j+1:]\n",
        "            print(state_chain)\n",
        "            b=int(state_chain,2)\n",
        "            H[a,b]+=0.5"
      ],
      "execution_count": null,
      "outputs": [
        {
          "name": "stdout",
          "output_type": "stream",
          "text": [
            "010\n",
            "100\n",
            "100\n",
            "001\n",
            "101\n",
            "110\n",
            "010\n",
            "001\n",
            "011\n",
            "110\n",
            "101\n",
            "011\n"
          ]
        }
      ]
    },
    {
      "cell_type": "code",
      "metadata": {
        "colab": {
          "base_uri": "https://localhost:8080/"
        },
        "id": "qPJhfmZQgAHr",
        "outputId": "218c010c-7819-42f1-fe4d-802def9c01e8"
      },
      "source": [
        "H"
      ],
      "execution_count": null,
      "outputs": [
        {
          "data": {
            "text/plain": [
              "array([[ 0.75,  0.  ,  0.  ,  0.  ,  0.  ,  0.  ,  0.  ,  0.  ],\n",
              "       [ 0.  , -0.25,  0.5 ,  0.  ,  0.5 ,  0.  ,  0.  ,  0.  ],\n",
              "       [ 0.  ,  0.5 , -0.25,  0.  ,  0.5 ,  0.  ,  0.  ,  0.  ],\n",
              "       [ 0.  ,  0.  ,  0.  , -0.25,  0.  ,  0.5 ,  0.5 ,  0.  ],\n",
              "       [ 0.  ,  0.5 ,  0.5 ,  0.  , -0.25,  0.  ,  0.  ,  0.  ],\n",
              "       [ 0.  ,  0.  ,  0.  ,  0.5 ,  0.  , -0.25,  0.5 ,  0.  ],\n",
              "       [ 0.  ,  0.  ,  0.  ,  0.5 ,  0.  ,  0.5 , -0.25,  0.  ],\n",
              "       [ 0.  ,  0.  ,  0.  ,  0.  ,  0.  ,  0.  ,  0.  ,  0.75]])"
            ]
          },
          "execution_count": 4,
          "metadata": {},
          "output_type": "execute_result"
        }
      ]
    },
    {
      "cell_type": "code",
      "metadata": {
        "id": "wrS8msDigAHt"
      },
      "source": [
        "eig_value=np.real(np.linalg.eig(H)[0])# eigen_values\n",
        "eig_vec=np.real(np.linalg.eig(H)[1])  # eigenstates"
      ],
      "execution_count": null,
      "outputs": []
    },
    {
      "cell_type": "code",
      "metadata": {
        "id": "MpFRTik3gAHu",
        "outputId": "d4434ed7-405b-4eae-80d3-653962239e92"
      },
      "source": [
        "# ground state energy\n",
        "min(eig_value)"
      ],
      "execution_count": null,
      "outputs": [
        {
          "data": {
            "text/plain": [
              "-4.515446354492059"
            ]
          },
          "execution_count": 40,
          "metadata": {},
          "output_type": "execute_result"
        }
      ]
    },
    {
      "cell_type": "code",
      "metadata": {
        "id": "P2FxTrsvgAHv"
      },
      "source": [
        "energy_level=np.sort(eig_value)"
      ],
      "execution_count": null,
      "outputs": []
    },
    {
      "cell_type": "code",
      "metadata": {
        "id": "F2-yw_qPgAHv",
        "outputId": "35f60821-7859-47fc-deaa-e741d76c169a"
      },
      "source": [
        "plt.scatter(np.arange(0,len(energy_level)),energy_level,marker='_')\n",
        "plt.xlabel('Energy Level N')\n",
        "plt.ylabel('Energy')\n",
        "plt.title('Energy Level of Spin Chain')"
      ],
      "execution_count": null,
      "outputs": [
        {
          "data": {
            "text/plain": [
              "Text(0.5, 1.0, 'Energy Level of Spin Chain')"
            ]
          },
          "execution_count": 42,
          "metadata": {},
          "output_type": "execute_result"
        },
        {
          "data": {
            "image/png": "[encoded data removed]",
            "text/plain": [
              "<Figure size 432x288 with 1 Axes>"
            ]
          },
          "metadata": {
            "needs_background": "light"
          },
          "output_type": "display_data"
        }
      ]
    },
    {
      "cell_type": "markdown",
      "metadata": {
        "id": "ulUiYokTgAHw"
      },
      "source": [
        "<font  face=Times color=darkblue size=3> Then we find the ground state by searching for the lowest energy."
      ]
    },
    {
      "cell_type": "markdown",
      "metadata": {
        "id": "8DfmUnMjgAHw"
      },
      "source": [
        "### measurement"
      ]
    },
    {
      "cell_type": "markdown",
      "metadata": {
        "id": "tntsBTxdgAHx"
      },
      "source": [
        "<font  face=Times color=darkblue size=3> To measure observables, we take $S^z$ as an example. The expectation value of the n:th eigenstate is $$<n|S^z|n>=[U^{T*}S^zU]$$ where U is the matrix whose columns are the eigenvectors. <br> To construct the matrix of the operator, the method is quite similar to that of hamiltonian, but there is only diagonal elements: $S^z_{aa}=+\\frac{1}{2}n-\\frac{1}{2}(N-n)$."
      ]
    },
    {
      "cell_type": "code",
      "metadata": {
        "id": "5Qcw1UbggAHx"
      },
      "source": [
        "matrix_U=np.zeros((dimension,dimension)) #mat_U\n",
        "matrix_Udag=np.zeros((dimension,dimension))\n",
        "for i in range(dimension):\n",
        "    matrix_U[:,i]=eig_vec[:,i].reshape(dimension)\n",
        "    matrix_Udag[i,:]=np.conj(eig_vec[:,i].reshape(dimension))"
      ],
      "execution_count": null,
      "outputs": []
    },
    {
      "cell_type": "code",
      "metadata": {
        "id": "lxF-wsMjgAHy"
      },
      "source": [
        "mat_Sz=np.zeros((dimension,dimension))"
      ],
      "execution_count": null,
      "outputs": []
    },
    {
      "cell_type": "code",
      "metadata": {
        "id": "jwW8e6BygAHy"
      },
      "source": [
        "##construct Sz matrix\n",
        "for a in range(dimension):\n",
        "    state_chain=bin(a)[2:] # the first two should be omitted for this 'bin' function\n",
        "    l=len(state_chain)\n",
        "    state_chain=z[0:N-l]+state_chain #make the length equal to N\n",
        "    up_number=state_chain.count('1')\n",
        "    down_number=N-up_number\n",
        "    mat_Sz[a,a]=0.5*up_number-0.5*down_number"
      ],
      "execution_count": null,
      "outputs": []
    },
    {
      "cell_type": "code",
      "metadata": {
        "id": "yh58JWQZgAHz",
        "outputId": "7addd2ce-269c-4364-dac4-59d13ec4c9ee"
      },
      "source": [
        "mat_Sz"
      ],
      "execution_count": null,
      "outputs": [
        {
          "data": {
            "text/plain": [
              "array([[-5.,  0.,  0., ...,  0.,  0.,  0.],\n",
              "       [ 0., -4.,  0., ...,  0.,  0.,  0.],\n",
              "       [ 0.,  0., -4., ...,  0.,  0.,  0.],\n",
              "       ...,\n",
              "       [ 0.,  0.,  0., ...,  4.,  0.,  0.],\n",
              "       [ 0.,  0.,  0., ...,  0.,  4.,  0.],\n",
              "       [ 0.,  0.,  0., ...,  0.,  0.,  5.]])"
            ]
          },
          "execution_count": 46,
          "metadata": {},
          "output_type": "execute_result"
        }
      ]
    },
    {
      "cell_type": "code",
      "metadata": {
        "id": "nSHc5WupgAHz"
      },
      "source": [
        "# find the index of the ground state\n",
        "ind_ground=np.argmin(eig_value)"
      ],
      "execution_count": null,
      "outputs": []
    },
    {
      "cell_type": "code",
      "metadata": {
        "id": "V7xwUvwRgAH0",
        "outputId": "b709bfae-c72b-4813-ae5e-0cc706ee5cfc"
      },
      "source": [
        "np.dot(np.dot(matrix_Udag,mat_Sz),matrix_U)[ind_ground,ind_ground]"
      ],
      "execution_count": null,
      "outputs": [
        {
          "data": {
            "text/plain": [
              "-3.6700835456355467e-29"
            ]
          },
          "execution_count": 48,
          "metadata": {},
          "output_type": "execute_result"
        }
      ]
    },
    {
      "cell_type": "markdown",
      "metadata": {
        "id": "Z6BoUCk8gAH0"
      },
      "source": [
        "<font  face=Times color=darkblue size=3> Now, we see that for the antiferromagnet, the $S^z$ is generally equal to $0$ at ground state if N is even. <br><br> You can check the value of $S_z$ if N is odd."
      ]
    },
    {
      "cell_type": "code",
      "metadata": {
        "id": "IQQvEThpgAH0"
      },
      "source": [
        ""
      ],
      "execution_count": null,
      "outputs": []
    }
  ]
}