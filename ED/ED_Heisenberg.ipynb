{
 "cells": [
  {
   "cell_type": "markdown",
   "metadata": {},
   "source": [
    "##  Model"
   ]
  },
  {
   "cell_type": "markdown",
   "metadata": {},
   "source": [
    "<font  face=Times color=darkblue size=3> The model hamiltonian is: $$H=J\\sum_{<i,j>}\\vec{S_i}\\cdot \\vec{S_j}=J\\sum_{<i,j>}(\\frac{1}{2}(S_i^+S_j^-+S_i^-S_j^+)+S_i^zS_j^z)$$ with the spin raising/lowering operators.<br><br> We consider 1-dimensional spin chain here."
   ]
  },
  {
   "cell_type": "markdown",
   "metadata": {},
   "source": [
    "## ED"
   ]
  },
  {
   "cell_type": "markdown",
   "metadata": {},
   "source": [
    "<font  face=Times color=darkblue size=3>The basic idea is to construct the matrix of Hamiltonian and diagonalize it to get the eigenvalues and eigenvectors. <br><br> We choose the $S^z$ basis and use the bit representation. For example, for a N-spin chain, there are $2^N$ states and can be represented as: $$|0>=|\\downarrow,\\downarrow,...,\\downarrow> (=00...0)$$ $$|1>=|\\uparrow,\\downarrow,...,\\downarrow> (=00...1)$$ <br><br> To construct the matrix, we enumerate the states and $H_{ij}=<i|H|j>$. Just be careful that the pairs of spin raising/lowering opertors can flip the spins thus providing the off-diagonal elements, while the $S^z$ operators provide the diagonal elements."
   ]
  },
  {
   "cell_type": "code",
   "execution_count": 1,
   "metadata": {},
   "outputs": [],
   "source": [
    "import numpy as np\n",
    "import matplotlib.pyplot as plt"
   ]
  },
  {
   "cell_type": "code",
   "execution_count": 2,
   "metadata": {},
   "outputs": [],
   "source": [
    "# set parameters\n",
    "N=10\n",
    "dimension=2**N\n",
    "#spin chain with all spin-down\n",
    "z='0'*N\n",
    "# initialize hamiltonian\n",
    "H=np.zeros((dimension,dimension))"
   ]
  },
  {
   "cell_type": "code",
   "execution_count": 3,
   "metadata": {},
   "outputs": [],
   "source": [
    "# Matrix Construction\n",
    "for a in range(dimension):\n",
    "    for i in range(N):\n",
    "        j=np.mod(i+1,N)\n",
    "        state_chain=bin(a)[2:] # the first two should be omitted for this 'bin' function\n",
    "        l=len(state_chain)\n",
    "        state_chain=z[0:N-l]+state_chain #make the length equal to N\n",
    "        if state_chain[i]==state_chain[j]: #i=j only diagonal elements\n",
    "            H[a,a]+=0.25\n",
    "        else:                              # else, the raising/lowering operators also have contributions\n",
    "            H[a,a]-=0.25\n",
    "            # then exchange i,j\n",
    "            element_i=state_chain[i]\n",
    "            element_j=state_chain[j]\n",
    "            if max(i,j)==N-1:\n",
    "                if i>j:\n",
    "                    state_chain=element_i+state_chain[1:N-1]+element_j\n",
    "                else:\n",
    "                    state_chain=state_chain[0:i]+element_j+element_i\n",
    "            else:\n",
    "                state_chain=state_chain[0:i]+element_j+element_i+state_chain[j+1:]\n",
    "            b=int(state_chain,2)\n",
    "            H[a,b]=0.5"
   ]
  },
  {
   "cell_type": "code",
   "execution_count": 4,
   "metadata": {},
   "outputs": [
    {
     "data": {
      "text/plain": [
       "array([[2.5, 0. , 0. , ..., 0. , 0. , 0. ],\n",
       "       [0. , 1.5, 0.5, ..., 0. , 0. , 0. ],\n",
       "       [0. , 0.5, 1.5, ..., 0. , 0. , 0. ],\n",
       "       ...,\n",
       "       [0. , 0. , 0. , ..., 1.5, 0.5, 0. ],\n",
       "       [0. , 0. , 0. , ..., 0.5, 1.5, 0. ],\n",
       "       [0. , 0. , 0. , ..., 0. , 0. , 2.5]])"
      ]
     },
     "execution_count": 4,
     "metadata": {},
     "output_type": "execute_result"
    }
   ],
   "source": [
    "H"
   ]
  },
  {
   "cell_type": "code",
   "execution_count": 5,
   "metadata": {},
   "outputs": [],
   "source": [
    "eig_value=np.real(np.linalg.eig(H)[0])# eigen_values\n",
    "eig_vec=np.real(np.linalg.eig(H)[1])  # eigenstates"
   ]
  },
  {
   "cell_type": "code",
   "execution_count": 6,
   "metadata": {},
   "outputs": [
    {
     "data": {
      "text/plain": [
       "-4.515446354492059"
      ]
     },
     "execution_count": 6,
     "metadata": {},
     "output_type": "execute_result"
    }
   ],
   "source": [
    "# ground state energy\n",
    "min(eig_value)"
   ]
  },
  {
   "cell_type": "markdown",
   "metadata": {},
   "source": [
    "<font  face=Times color=darkblue size=3> Then we find the ground state by searching for the lowest energy."
   ]
  },
  {
   "cell_type": "markdown",
   "metadata": {},
   "source": [
    "### measurement"
   ]
  },
  {
   "cell_type": "markdown",
   "metadata": {},
   "source": [
    "<font  face=Times color=darkblue size=3> To measure observables, we take $S^z$ as an example. The expectation value of the n:th eigenstate is $$<n|S^z|n>=[U^{T*}S^zU]$$ where U is the matrix whose columns are the eigenvectors. <br> To construct the matrix of the operator, the method is quite similar to that of hamiltonian, but there is only diagonal elements: $S^z_{aa}=+\\frac{1}{2}n-\\frac{1}{2}(N-n)$."
   ]
  },
  {
   "cell_type": "code",
   "execution_count": 7,
   "metadata": {},
   "outputs": [],
   "source": [
    "matrix_U=np.zeros((dimension,dimension)) #mat_U\n",
    "matrix_Udag=np.zeros((dimension,dimension))\n",
    "for i in range(dimension):\n",
    "    matrix_U[:,i]=eig_vec[:,i].reshape(dimension)\n",
    "    matrix_Udag[i,:]=np.conj(eig_vec[:,i].reshape(dimension))"
   ]
  },
  {
   "cell_type": "code",
   "execution_count": 8,
   "metadata": {},
   "outputs": [],
   "source": [
    "mat_Sz=np.zeros((dimension,dimension))"
   ]
  },
  {
   "cell_type": "code",
   "execution_count": 9,
   "metadata": {},
   "outputs": [],
   "source": [
    "##construct Sz matrix\n",
    "for a in range(dimension):\n",
    "    state_chain=bin(a)[2:] # the first two should be omitted for this 'bin' function\n",
    "    l=len(state_chain)\n",
    "    state_chain=z[0:N-l]+state_chain #make the length equal to N\n",
    "    up_number=state_chain.count('1')\n",
    "    down_number=N-up_number\n",
    "    mat_Sz[a,a]=0.5*up_number-0.5*down_number"
   ]
  },
  {
   "cell_type": "code",
   "execution_count": 10,
   "metadata": {},
   "outputs": [
    {
     "data": {
      "text/plain": [
       "array([[-5.,  0.,  0., ...,  0.,  0.,  0.],\n",
       "       [ 0., -4.,  0., ...,  0.,  0.,  0.],\n",
       "       [ 0.,  0., -4., ...,  0.,  0.,  0.],\n",
       "       ...,\n",
       "       [ 0.,  0.,  0., ...,  4.,  0.,  0.],\n",
       "       [ 0.,  0.,  0., ...,  0.,  4.,  0.],\n",
       "       [ 0.,  0.,  0., ...,  0.,  0.,  5.]])"
      ]
     },
     "execution_count": 10,
     "metadata": {},
     "output_type": "execute_result"
    }
   ],
   "source": [
    "mat_Sz"
   ]
  },
  {
   "cell_type": "code",
   "execution_count": 11,
   "metadata": {},
   "outputs": [],
   "source": [
    "# find the index of the ground state\n",
    "ind_ground=np.argmin(eig_value)"
   ]
  },
  {
   "cell_type": "code",
   "execution_count": 12,
   "metadata": {},
   "outputs": [
    {
     "data": {
      "text/plain": [
       "-3.6700835456355467e-29"
      ]
     },
     "execution_count": 12,
     "metadata": {},
     "output_type": "execute_result"
    }
   ],
   "source": [
    "np.dot(np.dot(matrix_Udag,mat_Sz),matrix_U)[ind_ground,ind_ground]"
   ]
  },
  {
   "cell_type": "markdown",
   "metadata": {},
   "source": [
    "<font  face=Times color=darkblue size=3> Now, we see that for the antiferromagnet, the $S^z$ is generally equal to $0$ at ground state."
   ]
  },
  {
   "cell_type": "code",
   "execution_count": null,
   "metadata": {},
   "outputs": [],
   "source": []
  }
 ],
 "metadata": {
  "kernelspec": {
   "display_name": "Python 3",
   "language": "python",
   "name": "python3"
  },
  "language_info": {
   "codemirror_mode": {
    "name": "ipython",
    "version": 3
   },
   "file_extension": ".py",
   "mimetype": "text/x-python",
   "name": "python",
   "nbconvert_exporter": "python",
   "pygments_lexer": "ipython3",
   "version": "3.8.5"
  }
 },
 "nbformat": 4,
 "nbformat_minor": 4
}
