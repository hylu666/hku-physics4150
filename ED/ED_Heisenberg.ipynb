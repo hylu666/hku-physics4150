{
 "cells": [
  {
   "cell_type": "markdown",
   "metadata": {
    "id": "P3lb1QbqgAHg"
   },
   "source": [
    "##  Model"
   ]
  },
  {
   "cell_type": "markdown",
   "metadata": {
    "id": "VFsGt3_2gAHl"
   },
   "source": [
    "<font  face=Times color=darkblue size=3> The model hamiltonian is: $$H=J\\sum_{<i,j>}\\vec{S_i}\\cdot \\vec{S_j}=J\\sum_{<i,j>}(\\frac{1}{2}(S_i^+S_j^-+S_i^-S_j^+)+S_i^zS_j^z)$$ with the spin raising/lowering operators.<br><br> We consider $S=1/2$ 1-dimensional spin chain here."
   ]
  },
  {
   "cell_type": "markdown",
   "metadata": {
    "id": "gx8PTxAZgAHl"
   },
   "source": [
    "## ED"
   ]
  },
  {
   "cell_type": "markdown",
   "metadata": {
    "id": "kleeKo2VgAHm"
   },
   "source": [
    "<font  face=Times color=darkblue size=3>The basic idea is to construct the matrix of Hamiltonian and diagonalize it to get the eigenvalues and eigenvectors. <br><br> We choose the $S^z$ basis and use the bit representation. For example, for a N-spin chain, there are $2^N$ states and can be represented as: $$|0>=|\\downarrow,\\downarrow,...,\\downarrow> (=00...0)$$ $$|1>=|\\uparrow,\\downarrow,...,\\downarrow> (=00...1)$$ <br><br> To construct the matrix, we enumerate the states and $H_{ij}=<i|H|j>$. Just be careful that the pairs of spin raising/lowering opertors can flip the spins thus providing the off-diagonal elements, while the $S^z$ operators provide the diagonal elements."
   ]
  },
  {
   "cell_type": "code",
   "execution_count": 1,
   "metadata": {
    "id": "D0axIXncJqD9"
   },
   "outputs": [],
   "source": [
    "import numpy as np \n",
    "import matplotlib.pyplot as plt"
   ]
  },
  {
   "cell_type": "markdown",
   "metadata": {
    "id": "gayHnkKrGT4A"
   },
   "source": [
    "#### About String concatenation"
   ]
  },
  {
   "cell_type": "code",
   "execution_count": 20,
   "metadata": {
    "id": "iV89oBO2GT4B"
   },
   "outputs": [],
   "source": [
    "# To show the process\n",
    "a='0001'\n",
    "b='1111'\n",
    "c='22222'"
   ]
  },
  {
   "cell_type": "code",
   "execution_count": 22,
   "metadata": {
    "colab": {
     "base_uri": "https://localhost:8080/"
    },
    "id": "SuBu2nWpGT4D",
    "outputId": "74d29ae0-c733-40e1-ad82-66bf7f6638e9"
   },
   "outputs": [
    {
     "name": "stdout",
     "output_type": "stream",
     "text": [
      "a: 0001\n",
      "b: 1111\n",
      "c: 22222\n",
      "bin(a): 0b1010\n"
     ]
    }
   ],
   "source": [
    "print('a:',a)\n",
    "print('b:',b)\n",
    "print('c:',c)\n",
    "print('bin(a):', bin(10))"
   ]
  },
  {
   "cell_type": "code",
   "execution_count": 23,
   "metadata": {
    "colab": {
     "base_uri": "https://localhost:8080/"
    },
    "id": "PGGtSxmhGT4F",
    "outputId": "765d0977-644b-4bfb-915c-102947aab636"
   },
   "outputs": [
    {
     "name": "stdout",
     "output_type": "stream",
     "text": [
      "concatenation:a+b+c: 0001111122222\n"
     ]
    }
   ],
   "source": [
    "print('concatenation:a+b+c:',a+b+c)"
   ]
  },
  {
   "cell_type": "markdown",
   "metadata": {
    "id": "v5n-SpQ0GT4G"
   },
   "source": [
    "#### Code"
   ]
  },
  {
   "cell_type": "code",
   "execution_count": 2,
   "metadata": {
    "colab": {
     "base_uri": "https://localhost:8080/",
     "height": 35
    },
    "id": "5XS-9_Y3gAHp",
    "outputId": "93db6d9c-a162-4826-d2aa-db23715c502c"
   },
   "outputs": [
    {
     "data": {
      "text/plain": [
       "'00'"
      ]
     },
     "execution_count": 2,
     "metadata": {},
     "output_type": "execute_result"
    }
   ],
   "source": [
    "# set parameters\n",
    "N=2\n",
    "dimension=2**N\n",
    "#spin chain with all spin-down\n",
    "z='0'*N\n",
    "# initialize hamiltonian\n",
    "H=np.zeros((dimension,dimension))\n",
    "z"
   ]
  },
  {
   "cell_type": "code",
   "execution_count": 3,
   "metadata": {
    "id": "LQc-NWfdgAHq"
   },
   "outputs": [],
   "source": [
    "# Matrix Construction\n",
    "for a in range(dimension):\n",
    "    for i in range(N-1):\n",
    "        j=np.mod(i+1,N)\n",
    "        state_chain=bin(a)[2:] # the first two should be omitted for this 'bin' function\n",
    "        l=len(state_chain)\n",
    "#        print(state_chain)\n",
    "        state_chain=z[0:N-l]+state_chain # make the length equal to N\n",
    "        if state_chain[i]==state_chain[j]: # i=j only diagonal elements\n",
    "            H[a,a]+=0.25\n",
    "        else:                              # else, the raising/lowering operators also have contributions\n",
    "            H[a,a]-=0.25\n",
    "            # then exchange i,j\n",
    "            element_i=state_chain[i]\n",
    "            element_j=state_chain[j]\n",
    "            #flip\n",
    "            if max(i,j)==N-1:\n",
    "                if i>j:  #here we are doing the concatenation of string (you can try other methods)\n",
    "                    state_chain=element_i+state_chain[1:N-1]+element_j\n",
    "#                    print(state_chain)\n",
    "                else:\n",
    "                    state_chain=state_chain[0:i]+element_j+element_i\n",
    "#                    print(state_chain)\n",
    "            else:\n",
    "                state_chain=state_chain[0:i]+element_j+element_i+state_chain[j+1:]\n",
    "#            print(state_chain)\n",
    "            b=int(state_chain,2)\n",
    "            H[a,b]+=0.5"
   ]
  },
  {
   "cell_type": "code",
   "execution_count": 4,
   "metadata": {
    "colab": {
     "base_uri": "https://localhost:8080/"
    },
    "id": "qPJhfmZQgAHr",
    "outputId": "f42d9ba4-760d-4d9c-da97-ea8c317bc67e"
   },
   "outputs": [
    {
     "data": {
      "text/plain": [
       "array([[ 0.25,  0.  ,  0.  ,  0.  ],\n",
       "       [ 0.  , -0.25,  0.5 ,  0.  ],\n",
       "       [ 0.  ,  0.5 , -0.25,  0.  ],\n",
       "       [ 0.  ,  0.  ,  0.  ,  0.25]])"
      ]
     },
     "execution_count": 4,
     "metadata": {},
     "output_type": "execute_result"
    }
   ],
   "source": [
    "H"
   ]
  },
  {
   "cell_type": "code",
   "execution_count": 5,
   "metadata": {
    "id": "wrS8msDigAHt"
   },
   "outputs": [],
   "source": [
    "eig_value=np.real(np.linalg.eig(H)[0])# eigen_values\n",
    "eig_vec=np.real(np.linalg.eig(H)[1])  # eigenstates"
   ]
  },
  {
   "cell_type": "code",
   "execution_count": 6,
   "metadata": {
    "colab": {
     "base_uri": "https://localhost:8080/"
    },
    "id": "MpFRTik3gAHu",
    "outputId": "d1ca1162-5ed6-4048-e0a8-692ccdac3567"
   },
   "outputs": [
    {
     "data": {
      "text/plain": [
       "(-0.7499999999999999,\n",
       " array([ 0.        ,  0.70710678, -0.70710678,  0.        ]))"
      ]
     },
     "execution_count": 6,
     "metadata": {},
     "output_type": "execute_result"
    }
   ],
   "source": [
    "# ground state energy\n",
    "min(eig_value)\n",
    "# ground state wave function\n",
    "idx_sorted1 = np.argsort(eig_value)\n",
    "eig_value=eig_value[idx_sorted1]\n",
    "eig_vec=eig_vec[:,idx_sorted1]\n",
    "eig_value[0], eig_vec[:,0]"
   ]
  },
  {
   "cell_type": "code",
   "execution_count": 7,
   "metadata": {
    "id": "P2FxTrsvgAHv"
   },
   "outputs": [],
   "source": [
    "energy_level=np.sort(eig_value)"
   ]
  },
  {
   "cell_type": "code",
   "execution_count": 8,
   "metadata": {
    "colab": {
     "base_uri": "https://localhost:8080/",
     "height": 312
    },
    "id": "F2-yw_qPgAHv",
    "outputId": "7247b478-a184-4fc2-86c8-1efd53854d5b"
   },
   "outputs": [
    {
     "data": {
      "text/plain": [
       "Text(0.5, 1.0, 'Energy Level of Spin Chain')"
      ]
     },
     "execution_count": 8,
     "metadata": {},
     "output_type": "execute_result"
    },
    {
     "data": {
      "image/png": "[encoded data removed]",
      "text/plain": [
       "<Figure size 432x288 with 1 Axes>"
      ]
     },
     "metadata": {
      "needs_background": "light"
     },
     "output_type": "display_data"
    }
   ],
   "source": [
    "plt.scatter(np.arange(0,len(energy_level)),energy_level,marker='_')\n",
    "plt.xlabel('Energy Level N')\n",
    "plt.ylabel('Energy')\n",
    "plt.title('Energy Level of Spin Chain')"
   ]
  },
  {
   "cell_type": "markdown",
   "metadata": {
    "id": "ulUiYokTgAHw"
   },
   "source": [
    "<font  face=Times color=darkblue size=3> Then we find the ground state by searching for the lowest energy."
   ]
  },
  {
   "cell_type": "markdown",
   "metadata": {},
   "source": [
    "#### Another way to flip spins "
   ]
  },
  {
   "cell_type": "code",
   "execution_count": 20,
   "metadata": {},
   "outputs": [
    {
     "data": {
      "text/plain": [
       "'00010'"
      ]
     },
     "execution_count": 20,
     "metadata": {},
     "output_type": "execute_result"
    }
   ],
   "source": [
    "# for a string '00001', if we flip the index 3 and 4\n",
    "str_='00001'\n",
    "# instead of concatenation, we can convert it to list first\n",
    "site_3=str_[3]\n",
    "site_4=str_[4]\n",
    "list_=list(str_)\n",
    "list_[3]=site_4\n",
    "list_[4]=site_3\n",
    "#convert it back to string\n",
    "str_=''.join(list_)\n",
    "str_"
   ]
  },
  {
   "cell_type": "markdown",
   "metadata": {},
   "source": [
    "therefore, the construct the hamiltonian:"
   ]
  },
  {
   "cell_type": "code",
   "execution_count": null,
   "metadata": {},
   "outputs": [],
   "source": [
    "# Matrix Construction\n",
    "H=np.zeros((dimension,dimension))\n",
    "for a in range(dimension):\n",
    "    for i in range(N-1):\n",
    "        j=np.mod(i+1,N)\n",
    "        state_chain=bin(a)[2:] # the first two should be omitted for this 'bin' function\n",
    "        l=len(state_chain)\n",
    "#        print(state_chain)\n",
    "        state_chain=z[0:N-l]+state_chain # make the length equal to N\n",
    "        if state_chain[i]==state_chain[j]: # i=j only diagonal elements\n",
    "            H[a,a]+=0.25\n",
    "        else:                              # else, the raising/lowering operators also have contributions\n",
    "            H[a,a]-=0.25\n",
    "            # then exchange i,j\n",
    "            element_i=state_chain[i]\n",
    "            element_j=state_chain[j]\n",
    "            #flip\n",
    "            chain1=list(chain)\n",
    "            chain1[i]=element_j\n",
    "            chain1[j]=element_i\n",
    "            b=int(''.join(chain1),2)\n",
    "            H[a,b]+=0.5"
   ]
  },
  {
   "cell_type": "markdown",
   "metadata": {
    "id": "8DfmUnMjgAHw"
   },
   "source": [
    "### measurement"
   ]
  },
  {
   "cell_type": "markdown",
   "metadata": {
    "id": "tntsBTxdgAHx"
   },
   "source": [
    "<font  face=Times color=darkblue size=3> To measure observables, we take $S^z$ as an example. The expectation value of the n:th eigenstate is $$<n|S^z|n>=[U^{T*}S^zU]$$ where U is the matrix whose columns are the eigenvectors. <br> To construct the matrix of the operator, the method is quite similar to that of hamiltonian, but there is only diagonal elements: $S^z_{aa}=+\\frac{1}{2}n-\\frac{1}{2}(N-n)$."
   ]
  },
  {
   "cell_type": "code",
   "execution_count": 9,
   "metadata": {
    "id": "5Qcw1UbggAHx"
   },
   "outputs": [],
   "source": [
    "matrix_U=np.zeros((dimension,dimension)) #mat_U\n",
    "matrix_Udag=np.zeros((dimension,dimension))\n",
    "for i in range(dimension):\n",
    "    matrix_U[:,i]=eig_vec[:,i].reshape(dimension)\n",
    "    matrix_Udag[i,:]=np.conj(eig_vec[:,i].reshape(dimension))"
   ]
  },
  {
   "cell_type": "code",
   "execution_count": 10,
   "metadata": {
    "id": "lxF-wsMjgAHy"
   },
   "outputs": [],
   "source": [
    "mat_Sz=np.zeros((dimension,dimension))"
   ]
  },
  {
   "cell_type": "code",
   "execution_count": 11,
   "metadata": {
    "id": "jwW8e6BygAHy"
   },
   "outputs": [],
   "source": [
    "##construct Sz matrix\n",
    "for a in range(dimension):\n",
    "    state_chain=bin(a)[2:] # the first two should be omitted for this 'bin' function\n",
    "    l=len(state_chain)\n",
    "    state_chain=z[0:N-l]+state_chain #make the length equal to N\n",
    "    up_number=state_chain.count('1')\n",
    "    down_number=N-up_number\n",
    "    mat_Sz[a,a]=0.5*up_number-0.5*down_number"
   ]
  },
  {
   "cell_type": "code",
   "execution_count": 12,
   "metadata": {
    "colab": {
     "base_uri": "https://localhost:8080/"
    },
    "id": "yh58JWQZgAHz",
    "outputId": "cf67e933-38f0-43e3-f0d1-8cf11efbcf6e"
   },
   "outputs": [
    {
     "data": {
      "text/plain": [
       "array([[-1.,  0.,  0.,  0.],\n",
       "       [ 0.,  0.,  0.,  0.],\n",
       "       [ 0.,  0.,  0.,  0.],\n",
       "       [ 0.,  0.,  0.,  1.]])"
      ]
     },
     "execution_count": 12,
     "metadata": {},
     "output_type": "execute_result"
    }
   ],
   "source": [
    "mat_Sz"
   ]
  },
  {
   "cell_type": "code",
   "execution_count": 13,
   "metadata": {
    "id": "nSHc5WupgAHz"
   },
   "outputs": [],
   "source": [
    "# find the index of the ground state\n",
    "ind_ground=np.argmin(eig_value)"
   ]
  },
  {
   "cell_type": "code",
   "execution_count": 14,
   "metadata": {
    "colab": {
     "base_uri": "https://localhost:8080/"
    },
    "id": "V7xwUvwRgAH0",
    "outputId": "4223b3d8-4051-481e-b9f4-e4aaf3aafa10"
   },
   "outputs": [
    {
     "data": {
      "text/plain": [
       "0.0"
      ]
     },
     "execution_count": 14,
     "metadata": {},
     "output_type": "execute_result"
    }
   ],
   "source": [
    "np.dot(np.dot(matrix_Udag,mat_Sz),matrix_U)[ind_ground,ind_ground]"
   ]
  },
  {
   "cell_type": "code",
   "execution_count": 15,
   "metadata": {},
   "outputs": [
    {
     "data": {
      "text/plain": [
       "array([-0.75,  0.25,  0.25,  0.25])"
      ]
     },
     "execution_count": 15,
     "metadata": {},
     "output_type": "execute_result"
    }
   ],
   "source": [
    "eig_value"
   ]
  },
  {
   "cell_type": "markdown",
   "metadata": {},
   "source": [
    "<font  face=Times color=darkblue size=3> The ground state is non-degenerate, while the 1st excited states are degenerate (for 2 site problem)."
   ]
  },
  {
   "cell_type": "code",
   "execution_count": 16,
   "metadata": {},
   "outputs": [
    {
     "data": {
      "text/plain": [
       "-1.0"
      ]
     },
     "execution_count": 16,
     "metadata": {},
     "output_type": "execute_result"
    }
   ],
   "source": [
    "np.dot(np.dot(matrix_Udag,mat_Sz),matrix_U)[1,1]"
   ]
  },
  {
   "cell_type": "code",
   "execution_count": 18,
   "metadata": {},
   "outputs": [
    {
     "data": {
      "text/plain": [
       "1.0"
      ]
     },
     "execution_count": 18,
     "metadata": {},
     "output_type": "execute_result"
    }
   ],
   "source": [
    "np.dot(np.dot(matrix_Udag,mat_Sz),matrix_U)[2,2]"
   ]
  },
  {
   "cell_type": "code",
   "execution_count": 19,
   "metadata": {},
   "outputs": [
    {
     "data": {
      "text/plain": [
       "0.0"
      ]
     },
     "execution_count": 19,
     "metadata": {},
     "output_type": "execute_result"
    }
   ],
   "source": [
    "np.dot(np.dot(matrix_Udag,mat_Sz),matrix_U)[3,3]"
   ]
  },
  {
   "cell_type": "markdown",
   "metadata": {
    "id": "Z6BoUCk8gAH0"
   },
   "source": [
    "<font  face=Times color=darkblue size=3> Now, we see that for the antiferromagnet, the $S^z$ is generally equal to $0$ at ground state if N is even. And we can also see the $S_z$ at the triplet.\n",
    "    <br><br> You can check the value of $S_z$ if N is odd."
   ]
  },
  {
   "cell_type": "code",
   "execution_count": null,
   "metadata": {
    "id": "IQQvEThpgAH0"
   },
   "outputs": [],
   "source": []
  }
 ],
 "metadata": {
  "colab": {
   "name": "ED_Heisenberg.ipynb",
   "provenance": []
  },
  "kernelspec": {
   "display_name": "Python 3",
   "language": "python",
   "name": "python3"
  },
  "language_info": {
   "codemirror_mode": {
    "name": "ipython",
    "version": 3
   },
   "file_extension": ".py",
   "mimetype": "text/x-python",
   "name": "python",
   "nbconvert_exporter": "python",
   "pygments_lexer": "ipython3",
   "version": "3.8.5"
  }
 },
 "nbformat": 4,
 "nbformat_minor": 1
}
