{
  "cells": [
    {
      "cell_type": "markdown",
      "id": "cfbcf02e",
      "metadata": {
        "id": "cfbcf02e"
      },
      "source": [
        "## Energy levels of 4-site Heisenberg model "
      ]
    },
    {
      "cell_type": "markdown",
      "source": [
        "### To be finished ..."
      ],
      "metadata": {
        "id": "R38tqxdz-mGx"
      },
      "id": "R38tqxdz-mGx"
    },
    {
      "cell_type": "markdown",
      "id": "476b7701",
      "metadata": {
        "id": "476b7701"
      },
      "source": [
        "The model hamiltonian is: $$H=J\\sum_{<i,j>}\\vec{S_i}\\cdot \\vec{S_j}=J\\sum_{<i,j>}(\\frac{1}{2}(S_i^+S_j^-+S_i^-S_j^+)+S_i^zS_j^z)$$ with the spin raising/lowering operators.<br><br> We consider $S=1/2$ 1-dimensional spin chain with only 4 sites $N =4$ here."
      ]
    },
    {
      "cell_type": "markdown",
      "id": "210035cc",
      "metadata": {
        "id": "210035cc"
      },
      "source": [
        "Notice that the Hamiltonian commutes with either $S^{z}_{tot} = \\sum_{i}^{N} S^{z}_{i}$, total spin $S^{2}_{tot}=(\\sum_{i} S_{i})^2$ or the translation operator $T$, i.e. $T\\left | n\\right \\rangle = e^{ik}\\left | n\\right \\rangle$. Indeed, any two of these operators, {$H, S^{z}_{tot},S^{2}_{tot},T$} commutes with each other. Therefore, $S^z = -N/2,-N/2+1,...,N/2$, $S_{tot} = 0,1,...,N/2$ and $k = m2\\pi /N, m = 0,1,...,N-1$ are $\\bf{good}$ quantum numbers to describe a state and we can utilize them to block diagonalize $H$.\n",
        "\n",
        "For a 4 sites chain, the above three quantum numbers are sufficient to depict all the states, which means each energy eigenstate must differ by at least one quantum numbers. Any energy eigenstate can be expressed as $\\left | S,S^z,k\\right \\rangle$."
      ]
    },
    {
      "cell_type": "markdown",
      "id": "3affd3ca",
      "metadata": {
        "id": "3affd3ca"
      },
      "source": [
        "Below, we try to diagonalize the 4-site $H$ in both $S^z$ and $S_{tot}$ sectors such that the energy eigenstates we obtained are also the eigenstates of $S^z_{tot}$ and $S^{2}_{tot}$. "
      ]
    },
    {
      "cell_type": "code",
      "execution_count": 1,
      "id": "082e75a8",
      "metadata": {
        "id": "082e75a8"
      },
      "outputs": [],
      "source": [
        "import numpy as np \n",
        "import matplotlib.pyplot as plt"
      ]
    },
    {
      "cell_type": "code",
      "execution_count": 2,
      "id": "0c497e4e",
      "metadata": {
        "id": "0c497e4e",
        "outputId": "c626a1ca-6e54-45f6-b242-064c35ef99c1",
        "colab": {
          "base_uri": "https://localhost:8080/",
          "height": 35
        }
      },
      "outputs": [
        {
          "output_type": "execute_result",
          "data": {
            "text/plain": [
              "'0000'"
            ],
            "application/vnd.google.colaboratory.intrinsic+json": {
              "type": "string"
            }
          },
          "metadata": {},
          "execution_count": 2
        }
      ],
      "source": [
        "# set parameters\n",
        "N=4\n",
        "dimension=2**N\n",
        "#spin chain with all spin-down\n",
        "z='0'*N\n",
        "# initialize hamiltonian\n",
        "z"
      ]
    },
    {
      "cell_type": "code",
      "execution_count": 3,
      "id": "df0167a5",
      "metadata": {
        "id": "df0167a5"
      },
      "outputs": [],
      "source": [
        "def Get_H(N):\n",
        "# Matrix Construction\n",
        "    dimension = 2**N\n",
        "    H=np.zeros((dimension,dimension))\n",
        "    for a in range(dimension):\n",
        "        state_chain=bin(a)[2:] # the first two should be omitted for this 'bin' function\n",
        "        l=len(state_chain)\n",
        "        state_chain=z[0:N-l]+state_chain # make the length equal to N\n",
        "        print(state_chain)\n",
        "      # for PBC, we set i in range(N)\n",
        "      # for OBC, we set i in range(N-1)\n",
        "        for i in range(N):\n",
        "            j=np.mod(i+1,N)\n",
        "            state_chain=bin(a)[2:] # the first two should be omitted for this 'bin' function\n",
        "            l=len(state_chain)\n",
        "            state_chain=z[0:N-l]+state_chain # make the length equal to N\n",
        "     #       print(state_chain)\n",
        "            if state_chain[i]==state_chain[j]:# i=j only diagonal elements\n",
        "                H[a,a]+=0.25\n",
        "    #            print('a:',a)\n",
        "            else:                              # else, the raising/lowering operators also have contributions\n",
        "                H[a,a]-=0.25\n",
        "                # then exchange i,j\n",
        "                element_i=state_chain[i]\n",
        "                element_j=state_chain[j]\n",
        "                #flip\n",
        "                if max(i,j)==N-1:\n",
        "                    if i>j:  #here we are doing the concatenation of string (you can try other methods)\n",
        "    #                    print(state_chain)\n",
        "                        state_chain1=element_i+state_chain[1:N-1]+element_j\n",
        "    #                    print(state_chain)\n",
        "                    else:\n",
        "    #                    print(state_chain)\n",
        "                        state_chain1=state_chain[0:i]+element_j+element_i\n",
        "    #                    print(state_chain)\n",
        "                else:\n",
        "                    state_chain1=state_chain[0:i]+element_j+element_i+state_chain[j+1:]\n",
        "    #            print(state_chain)\n",
        "                b=int(state_chain1,2)\n",
        "    #            print('a:',a)\n",
        "    #            print('b:',b)\n",
        "                H[a,b]+=0.5\n",
        "    return H"
      ]
    },
    {
      "cell_type": "code",
      "execution_count": 4,
      "id": "e9c2e7a8",
      "metadata": {
        "id": "e9c2e7a8"
      },
      "outputs": [],
      "source": [
        "def Get_eig(H):\n",
        "    eig_value=np.real(np.linalg.eig(H)[0])# eigen_values\n",
        "    eig_vec=np.real(np.linalg.eig(H)[1])  # eigenstates\n",
        "    idx_sorted1 = np.argsort(eig_value)\n",
        "    eig_value=eig_value[idx_sorted1]\n",
        "    eig_vec=eig_vec[:,idx_sorted1]\n",
        "    return eig_value, eig_vec"
      ]
    },
    {
      "cell_type": "code",
      "execution_count": 5,
      "id": "79d0ce57",
      "metadata": {
        "id": "79d0ce57",
        "outputId": "23d0939a-1562-4af7-8acb-cda6f6c312e9",
        "colab": {
          "base_uri": "https://localhost:8080/",
          "height": 590
        }
      },
      "outputs": [
        {
          "output_type": "stream",
          "name": "stdout",
          "text": [
            "0000\n",
            "0001\n",
            "0010\n",
            "0011\n",
            "0100\n",
            "0101\n",
            "0110\n",
            "0111\n",
            "1000\n",
            "1001\n",
            "1010\n",
            "1011\n",
            "1100\n",
            "1101\n",
            "1110\n",
            "1111\n"
          ]
        },
        {
          "output_type": "execute_result",
          "data": {
            "text/plain": [
              "Text(0.5, 1.0, 'Energy Level of Spin Chain')"
            ]
          },
          "metadata": {},
          "execution_count": 5
        },
        {
          "output_type": "display_data",
          "data": {
            "text/plain": [
              "<Figure size 432x288 with 1 Axes>"
            ],
            "image/png": "[encoded data removed]"
          },
          "metadata": {
            "needs_background": "light"
          }
        }
      ],
      "source": [
        "H = Get_H(N)\n",
        "energy_level,eig_vec = Get_eig(H)\n",
        "\n",
        "plt.scatter(np.arange(0,len(energy_level)),energy_level,marker='_')\n",
        "plt.xlabel('Energy Level N')\n",
        "plt.ylabel('Energy')\n",
        "plt.title('Energy Level of Spin Chain')"
      ]
    },
    {
      "cell_type": "code",
      "execution_count": 6,
      "id": "01b955f3",
      "metadata": {
        "id": "01b955f3"
      },
      "outputs": [],
      "source": [
        " ##construct Sz matrix\n",
        "def Get_Sz(N):\n",
        "    dimension = 2**N\n",
        "    mat_Sz = np.zeros((dimension,dimension))\n",
        "    for a in range(dimension):\n",
        "        state_chain=bin(a)[2:] # the first two should be omitted for this 'bin' function\n",
        "        l=len(state_chain)\n",
        "        state_chain=z[0:N-l]+state_chain #make the length equal to N\n",
        "        up_number=state_chain.count('1')\n",
        "        down_number=N-up_number\n",
        "        mat_Sz[a,a]=0.5*up_number-0.5*down_number\n",
        "    return mat_Sz "
      ]
    },
    {
      "cell_type": "code",
      "execution_count": 7,
      "id": "7d9636d6",
      "metadata": {
        "id": "7d9636d6",
        "outputId": "8624ae44-a562-4559-e708-20c7d839ad22",
        "colab": {
          "base_uri": "https://localhost:8080/"
        }
      },
      "outputs": [
        {
          "output_type": "execute_result",
          "data": {
            "text/plain": [
              "array([-2., -1., -1.,  0., -1.,  0.,  0.,  1., -1.,  0.,  0.,  1.,  0.,\n",
              "        1.,  1.,  2.])"
            ]
          },
          "metadata": {},
          "execution_count": 7
        }
      ],
      "source": [
        "mat_Sz=Get_Sz(N);\n",
        "np.diag(mat_Sz)"
      ]
    },
    {
      "cell_type": "code",
      "execution_count": 8,
      "id": "31db08cb",
      "metadata": {
        "id": "31db08cb"
      },
      "outputs": [],
      "source": [
        "def Get_s2_tot(N):\n",
        "    kron = np.kron\n",
        "    eye = np.eye\n",
        "    sx = 1/2*np.array([[0,1],[1,0]])\n",
        "    sy = 1/2*np.array([[0,-1j],[1j,0]])\n",
        "    sz= 1/2*np.array([[1,0],[0,-1]])\n",
        "    s2_tot=N*3/4*eye(2**N,2**N);\n",
        "\n",
        "    for s_here in range(N):\n",
        "        for j in range(s_here+1,N):\n",
        "            a = s_here\n",
        "            b = j-s_here-1\n",
        "            c = N-j-1\n",
        "            s2_tot = s2_tot+2*kron(kron(kron(kron(eye(2**a),sx),eye(2**b)),sx),eye(2**c))\n",
        "            s2_tot = s2_tot+2*kron(kron(kron(kron(eye(2**a),sy),eye(2**b)),sy),eye(2**c))\n",
        "            s2_tot = s2_tot+2*kron(kron(kron(kron(eye(2**a),sz),eye(2**b)),sz),eye(2**c))\n",
        "    return np.real(s2_tot)\n"
      ]
    },
    {
      "cell_type": "code",
      "execution_count": 9,
      "id": "fb92a07c",
      "metadata": {
        "id": "fb92a07c"
      },
      "outputs": [],
      "source": [
        "s2_tot = Get_s2_tot(N)"
      ]
    },
    {
      "cell_type": "code",
      "execution_count": 10,
      "id": "bfd12e4b",
      "metadata": {
        "scrolled": true,
        "id": "bfd12e4b",
        "outputId": "6928d87f-3f87-4eda-ba2b-70d4e9da5e2a",
        "colab": {
          "base_uri": "https://localhost:8080/"
        }
      },
      "outputs": [
        {
          "output_type": "stream",
          "name": "stdout",
          "text": [
            "S^2 and H commute\n"
          ]
        }
      ],
      "source": [
        "if (H@s2_tot-s2_tot@H).any() != 0 :\n",
        "    print('not commute')\n",
        "else:\n",
        "    print('S^2 and H commute')"
      ]
    },
    {
      "cell_type": "code",
      "execution_count": 11,
      "id": "84c4dd56",
      "metadata": {
        "scrolled": true,
        "id": "84c4dd56"
      },
      "outputs": [],
      "source": [
        "E_list = []\n",
        "s2_list =[]\n",
        "s_list = []\n",
        "sz_list = []\n",
        "psi_list = np.zeros((2**N,2**N))\n",
        "index_all = range(2**N)\n",
        "\n",
        "for sz_here in range(-N//2,N//2+1,1):\n",
        "    index_sub = np.where(np.diag(mat_Sz) == sz_here)[0]\n",
        "    s_here = s2_tot[index_sub,:][:,index_sub]\n",
        "    H_sub = H[index_sub,:][:,index_sub] \n",
        "    if np.size(s_here)==1:\n",
        "        D_sub = np.around(s_here)\n",
        "        V_sub = np.array([1]).reshape(1,1)\n",
        "    else:\n",
        "        eig,eig_v = np.linalg.eig(s_here)\n",
        "        D_sub = np.around(eig)\n",
        "        idx = np.argsort(D_sub)\n",
        "        D_sub=D_sub[idx]\n",
        "        eig_v=eig_v[:,idx]\n",
        "        V_sub = eig_v\n",
        "        \n",
        "\n",
        "    \n",
        "    for s_here in range(abs(sz_here),N//2+1):\n",
        "        s2_here = s_here*(s_here+1)\n",
        "        idx = np.where(D_sub==s2_here)[0]\n",
        "        \n",
        "        V_subsub = V_sub[:,idx]\n",
        "        for i in range(1,np.shape(V_subsub)[1]):  # Gram-Schmidt process\n",
        "            for j in range(0,i):\n",
        "                V_subsub[:,i]=V_subsub[:,i]-(V_subsub[:,j].T @ V_subsub[:,i])*V_subsub[:,j]\n",
        "            V_subsub[:,i]=V_subsub[:,i]/np.linalg.norm(V_subsub[:,i])\n",
        "        #print(V_subsub.T @ V_subsub)\n",
        "        H_subsub = V_subsub.T @ H_sub @ V_subsub\n",
        "        H_subsub = (H_subsub+H_subsub.T)/2\n",
        "        eig, V_temp = np.linalg.eig(H_subsub)\n",
        "        E_temp = np.real(eig)\n",
        "        \n",
        "        for i in range(len(E_temp)):\n",
        "            E_list.append(np.around(E_temp[i],decimals=10))\n",
        "            s2_list.append(s2_here)\n",
        "            s_list.append(s_here)\n",
        "            sz_list.append(sz_here)"
      ]
    },
    {
      "cell_type": "code",
      "execution_count": 18,
      "id": "5fd8f735",
      "metadata": {
        "id": "5fd8f735",
        "outputId": "d5785e0b-b787-49d7-beb6-68f9259b9058",
        "colab": {
          "base_uri": "https://localhost:8080/",
          "height": 296
        }
      },
      "outputs": [
        {
          "output_type": "execute_result",
          "data": {
            "text/plain": [
              "Text(0, 0.5, 'E')"
            ]
          },
          "metadata": {},
          "execution_count": 18
        },
        {
          "output_type": "display_data",
          "data": {
            "text/plain": [
              "<Figure size 432x288 with 1 Axes>"
            ],
            "image/png": "[encoded data removed]"
          },
          "metadata": {
            "needs_background": "light"
          }
        }
      ],
      "source": [
        "plt.scatter(s_list,E_list)\n",
        "plt.xlabel(r\"s\")\n",
        "plt.ylabel(\"E\")"
      ]
    },
    {
      "cell_type": "code",
      "source": [
        "plt.scatter(sz_list,E_list)\n",
        "plt.xlabel(r\"$S^z$\")\n",
        "plt.ylabel(\"E\")"
      ],
      "metadata": {
        "id": "cxk5wbZYf8Tp",
        "outputId": "62dbd775-93f7-47a7-d642-2a8ccd8fbc19",
        "colab": {
          "base_uri": "https://localhost:8080/",
          "height": 299
        }
      },
      "id": "cxk5wbZYf8Tp",
      "execution_count": 20,
      "outputs": [
        {
          "output_type": "execute_result",
          "data": {
            "text/plain": [
              "Text(0, 0.5, 'E')"
            ]
          },
          "metadata": {},
          "execution_count": 20
        },
        {
          "output_type": "display_data",
          "data": {
            "text/plain": [
              "<Figure size 432x288 with 1 Axes>"
            ],
            "image/png": "[encoded data removed]"
          },
          "metadata": {
            "needs_background": "light"
          }
        }
      ]
    },
    {
      "cell_type": "code",
      "source": [
        "plt.scatter(sz_list,s_list)\n",
        "plt.xlabel(r\"$S^z$\")\n",
        "plt.ylabel(\"s\")"
      ],
      "metadata": {
        "id": "4hrzC_Baf_Hj",
        "outputId": "b0f6f2b7-6c2e-4459-cc74-a7be2a190688",
        "colab": {
          "base_uri": "https://localhost:8080/",
          "height": 299
        }
      },
      "id": "4hrzC_Baf_Hj",
      "execution_count": 22,
      "outputs": [
        {
          "output_type": "execute_result",
          "data": {
            "text/plain": [
              "Text(0, 0.5, 's')"
            ]
          },
          "metadata": {},
          "execution_count": 22
        },
        {
          "output_type": "display_data",
          "data": {
            "text/plain": [
              "<Figure size 432x288 with 1 Axes>"
            ],
            "image/png": "[encoded data removed]"
          },
          "metadata": {
            "needs_background": "light"
          }
        }
      ]
    },
    {
      "cell_type": "code",
      "source": [],
      "metadata": {
        "id": "2CHiDr_1gEya"
      },
      "id": "2CHiDr_1gEya",
      "execution_count": null,
      "outputs": []
    }
  ],
  "metadata": {
    "kernelspec": {
      "display_name": "Python 3 (ipykernel)",
      "language": "python",
      "name": "python3"
    },
    "language_info": {
      "codemirror_mode": {
        "name": "ipython",
        "version": 3
      },
      "file_extension": ".py",
      "mimetype": "text/x-python",
      "name": "python",
      "nbconvert_exporter": "python",
      "pygments_lexer": "ipython3",
      "version": "3.9.12"
    },
    "colab": {
      "provenance": []
    }
  },
  "nbformat": 4,
  "nbformat_minor": 5
}