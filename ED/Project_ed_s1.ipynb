{
 "cells": [
  {
   "cell_type": "markdown",
   "metadata": {
    "id": "P3lb1QbqgAHg"
   },
   "source": [
    "##  Model"
   ]
  },
  {
   "cell_type": "markdown",
   "metadata": {
    "id": "VFsGt3_2gAHl"
   },
   "source": [
    "<font  face=Times color=darkblue size=3> The model hamiltonian is: $$H=J\\sum_{<i,j>}\\vec{S_i}\\cdot \\vec{S_j}=J\\sum_{<i,j>}(\\frac{1}{2}(S_i^+S_j^-+S_i^-S_j^+)+S_i^zS_j^z)$$ with the spin raising/lowering operators.<br><br> We consider $S=1$ 1-dimensional spin chain here and take $N=2$ as an example. (but make sure the code works for longer chain as well)"
   ]
  },
  {
   "cell_type": "markdown",
   "metadata": {
    "id": "gx8PTxAZgAHl"
   },
   "source": [
    "## ED"
   ]
  },
  {
   "cell_type": "code",
   "execution_count": 1,
   "metadata": {
    "id": "D0axIXncJqD9"
   },
   "outputs": [],
   "source": [
    "import numpy as np \n",
    "import matplotlib.pyplot as plt"
   ]
  },
  {
   "cell_type": "markdown",
   "metadata": {
    "id": "TSjtzvyXM0Pa"
   },
   "source": [
    "<font  face=Times color=darkblue size=3>  Since $S_z$ can be $-1,\\ 0,$ or $1$, so in $S_z$ basis, we use base 3 to store the spin at each site instead of base 2 (1-bit) as we used for spin-$\\frac{1}{2}$ and we need to define the conversion functions between bases.\n",
    "    <br>For $S=1$, $S_z|-1\\rangle=-1$, $S_z|0\\rangle=0$, and $S_z|1\\rangle=1$, so the diagonal elements are no longer $0.25$. For the non-diagonal elements: $S_+|-1\\rangle=\\sqrt{2}|0\\rangle$, $S_+|0\\rangle=\\sqrt{2}|1\\rangle$, $S_+|1\\rangle=0$, $S_-|-1\\rangle=0$, $S_-|0\\rangle=\\sqrt{2}|-1\\rangle$, and $S_-|1\\rangle=\\sqrt{2}|0\\rangle$ (remember the constant $\\frac{1}{2}$ on the raising/lowering operators).\n",
    "    <br> As in the lecture, for the spin-1 case, the matrices are\n",
    "\n",
    "$S_z=\\begin{pmatrix} 1&& 0 && 0 \\\\ 0 && 0 && 0 \\\\ 0 && 0 && -1 \\end{pmatrix}$, $\\,$ \n",
    "$S_x=\\frac{1}{\\sqrt{2}}\\begin{pmatrix} 0 && 1 && 0 \\\\ 1 && 0 && 1 \\\\ 0 && 1 && 0 \\end{pmatrix}$,\n",
    "$\\,$ \n",
    "$S_y=\\frac{1}{\\sqrt{2}}\\begin{pmatrix} 0 && -i && 0 \\\\ i && 0 && -i \\\\ 0 && i && 0 \\end{pmatrix}$\n",
    "\n",
    "and the basis states are the eigenstate of the $S_z$ operator as\n",
    "\n",
    "$|-1\\rangle = \\begin{pmatrix} 0 \\\\ 0 \\\\ 1 \\end{pmatrix}$, $\\,$\n",
    "$|0\\rangle = \\begin{pmatrix} 0 \\\\ 1 \\\\ 0 \\end{pmatrix}$, $\\,$\n",
    "$|1\\rangle = \\begin{pmatrix} 1 \\\\ 0 \\\\ 0 \\end{pmatrix}$\n",
    "\n",
    "the raising and lowering operators are\n",
    "\n",
    "$S_+ = S_x + i S_y = \\sqrt{2}\\begin{pmatrix} 0 && 1 && 0 \\\\ 0 && 0 && 1 \\\\ 0 && 0 && 0 \\end{pmatrix}$, $\\,$\n",
    "$S_- = S_x - i S_y = \\sqrt{2}\\begin{pmatrix} 0 && 0 && 0 \\\\ 1 && 0 && 0 \\\\ 0 && 1 && 0 \\end{pmatrix}$ \n",
    "\n"
   ]
  },
  {
   "cell_type": "markdown",
   "metadata": {
    "id": "v5n-SpQ0GT4G"
   },
   "source": [
    "#### Code"
   ]
  },
  {
   "cell_type": "code",
   "execution_count": 2,
   "metadata": {
    "id": "Ee2eDZ3XM0Pb"
   },
   "outputs": [],
   "source": [
    "# define the conversion between base 3 and base 10\n",
    "# you might want to give a hint of divmod function in python\n",
    "def tri_2_ten(str_here):\n",
    "    l=len(str_here)\n",
    "    num=0\n",
    "    for i in range(l):\n",
    "        num+=np.power(3,(l-1-i))*int(str_here[i])\n",
    "    return num\n",
    "\n",
    "def ten_2_tri(num):\n",
    "    l=[]\n",
    "    while True:\n",
    "        num,reminder=divmod(num,3)\n",
    "        l.append(str(reminder))\n",
    "        if num==0:\n",
    "            return \"\".join(l[::-1])"
   ]
  },
  {
   "cell_type": "code",
   "execution_count": 30,
   "metadata": {
    "colab": {
     "base_uri": "https://localhost:8080/",
     "height": 35
    },
    "id": "5XS-9_Y3gAHp",
    "outputId": "b0fa8c79-3615-4417-ab01-61c07c1f853d"
   },
   "outputs": [
    {
     "data": {
      "text/plain": [
       "'0000'"
      ]
     },
     "execution_count": 30,
     "metadata": {},
     "output_type": "execute_result"
    }
   ],
   "source": [
    "# set parameters\n",
    "N=4\n",
    "dimension=3**N\n",
    "#spin chain with s_z=-1, which is '0'\n",
    "z='0'*N\n",
    "# initialize hamiltonian\n",
    "H=np.zeros((dimension,dimension))\n",
    "z"
   ]
  },
  {
   "cell_type": "code",
   "execution_count": 31,
   "metadata": {
    "id": "LQc-NWfdgAHq"
   },
   "outputs": [],
   "source": [
    "# Matrix Construction\n",
    "for a in range(dimension):\n",
    "    for i in range(N-1): #open-boundary\n",
    "        j=np.mod(i+1,N)\n",
    "        chain=ten_2_tri(a)\n",
    "        chain=z[0:N-len(chain)]+chain # make the length equal to N\n",
    "        if chain[i]=='1' or chain[j]=='1': #'1':sz=0, so no diagonal contribution\n",
    "            if  chain[i]==chain[j]: # the case '|0,0>'\n",
    "                chain_1=list(chain)\n",
    "                chain_2=list(chain)\n",
    "                chain_1[i]='2'\n",
    "                chain_1[j]='0'\n",
    "                chain_2[i]='0'\n",
    "                chain_2[j]='2'\n",
    "                b=tri_2_ten(''.join(chain_1))\n",
    "                H[a,b]+=1\n",
    "                c=tri_2_ten(''.join(chain_2))\n",
    "                H[a,c]+=1\n",
    "            else:                  # the case \\0,1>,\\0,-1>,\\1,0>,\\-1,0>\n",
    "                element_i=chain[i]\n",
    "                element_j=chain[j]\n",
    "                chain_1=list(chain)\n",
    "                chain_1[i]=element_j\n",
    "                chain_1[j]=element_i\n",
    "                b=tri_2_ten(''.join(chain_1))\n",
    "                H[a,b]+=1\n",
    "        elif chain[i]==chain[j]:  #|11>or|-1-1>\n",
    "            H[a,a]+=1\n",
    "        else:                     #\\-1,1> or \\1,-1>\n",
    "            H[a,a]+=-1\n",
    "            chain_1=list(chain)\n",
    "            chain_1[i]='1'\n",
    "            chain_1[j]='1'\n",
    "            b=tri_2_ten(''.join(chain_1))\n",
    "            H[a,b]+=1"
   ]
  },
  {
   "cell_type": "code",
   "execution_count": 32,
   "metadata": {
    "colab": {
     "base_uri": "https://localhost:8080/"
    },
    "id": "hMBCHEXBM0Pg",
    "outputId": "000feb39-3d9d-4030-bd0f-a2fbd5e303fe"
   },
   "outputs": [
    {
     "data": {
      "text/plain": [
       "array([[3., 0., 0., ..., 0., 0., 0.],\n",
       "       [0., 2., 0., ..., 0., 0., 0.],\n",
       "       [0., 0., 1., ..., 0., 0., 0.],\n",
       "       ...,\n",
       "       [0., 0., 0., ..., 1., 0., 0.],\n",
       "       [0., 0., 0., ..., 0., 2., 0.],\n",
       "       [0., 0., 0., ..., 0., 0., 3.]])"
      ]
     },
     "execution_count": 32,
     "metadata": {},
     "output_type": "execute_result"
    }
   ],
   "source": [
    "H"
   ]
  },
  {
   "cell_type": "code",
   "execution_count": 33,
   "metadata": {
    "colab": {
     "base_uri": "https://localhost:8080/"
    },
    "id": "jkVJFbPMM0Pg",
    "outputId": "9430028b-9b60-4663-8cda-a5a69bfd7603"
   },
   "outputs": [
    {
     "data": {
      "text/plain": [
       "81"
      ]
     },
     "execution_count": 33,
     "metadata": {},
     "output_type": "execute_result"
    }
   ],
   "source": [
    "dimension"
   ]
  },
  {
   "cell_type": "code",
   "execution_count": 34,
   "metadata": {
    "id": "wrS8msDigAHt"
   },
   "outputs": [],
   "source": [
    "eig_value=np.real(np.linalg.eig(H)[0])# eigen_values\n",
    "eig_vec=np.real(np.linalg.eig(H)[1])  # eigenstates"
   ]
  },
  {
   "cell_type": "code",
   "execution_count": 35,
   "metadata": {
    "colab": {
     "base_uri": "https://localhost:8080/"
    },
    "id": "MpFRTik3gAHu",
    "outputId": "3b8aa35f-3704-44c5-ae00-35e176b685d1"
   },
   "outputs": [
    {
     "data": {
      "text/plain": [
       "(-4.645751311064594,\n",
       " array([ 0.00000000e+00,  1.13445040e-16, -1.12528374e-16, -2.82270897e-17,\n",
       "         1.63729605e-17,  3.81970728e-16, -3.39415023e-16, -8.89191019e-16,\n",
       "        -2.73308797e-02, -7.79611586e-17, -1.77655770e-16, -1.52716813e-15,\n",
       "        -1.03421645e-17,  2.69263855e-15,  1.54303350e-01, -2.89178866e-15,\n",
       "        -1.26972470e-01, -3.51254017e-17,  3.73105240e-16, -3.92462742e-15,\n",
       "        -4.35579170e-01,  3.06349654e-15,  2.81275820e-01,  1.27996534e-17,\n",
       "        -1.54303350e-01, -3.58072785e-18,  6.47523975e-23, -8.49720560e-17,\n",
       "         2.09841289e-16,  8.87718156e-16,  1.44572593e-16, -2.33445066e-15,\n",
       "        -1.26972470e-01,  3.39922023e-15,  1.54303350e-01,  9.87130387e-18,\n",
       "        -1.10126619e-16,  2.21687384e-15,  2.81275820e-01, -2.30626336e-15,\n",
       "        -3.08606700e-01, -7.69688855e-18,  2.81275820e-01,  3.82301570e-18,\n",
       "        -1.30565281e-23,  5.98274079e-16,  1.54303350e-01,  5.08819095e-18,\n",
       "        -1.26972470e-01, -2.59968691e-18,  3.36028734e-24,  7.62432009e-19,\n",
       "        -7.00686999e-25,  2.39128085e-17,  2.34340108e-17, -7.64563409e-16,\n",
       "        -1.54303350e-01,  9.38988271e-16,  2.81275820e-01,  4.04429001e-18,\n",
       "        -4.35579170e-01, -3.88229824e-18,  4.08979406e-24, -1.76401666e-16,\n",
       "        -1.26972470e-01, -3.16438131e-18,  1.54303350e-01,  2.40315886e-18,\n",
       "        -1.85384366e-24, -9.42121642e-19,  5.95617748e-25,  8.79648093e-18,\n",
       "        -2.73308797e-02, -5.75182470e-19,  5.66798029e-25,  2.68772244e-19,\n",
       "        -2.12560718e-25, -4.29658830e-17,  3.76497267e-26, -1.05519351e-18,\n",
       "         0.00000000e+00]))"
      ]
     },
     "execution_count": 35,
     "metadata": {},
     "output_type": "execute_result"
    }
   ],
   "source": [
    "# ground state energy\n",
    "#min(eig_value)\n",
    "# ground state wave function\n",
    "idx_sorted1 = np.argsort(eig_value)\n",
    "eig_value=eig_value[idx_sorted1]\n",
    "eig_vec=eig_vec[:,idx_sorted1]\n",
    "eig_value[0], eig_vec[:,0]"
   ]
  },
  {
   "cell_type": "code",
   "execution_count": 77,
   "metadata": {
    "colab": {
     "base_uri": "https://localhost:8080/",
     "height": 312
    },
    "id": "F2-yw_qPgAHv",
    "outputId": "6f9a4ddf-6348-4bd8-f217-ae7e16f0ab38"
   },
   "outputs": [
    {
     "data": {
      "image/png": "[encoded data removed]",
      "text/plain": [
       "<Figure size 432x288 with 2 Axes>"
      ]
     },
     "metadata": {
      "needs_background": "light"
     },
     "output_type": "display_data"
    }
   ],
   "source": [
    "\n",
    "fig,ax1= plt.subplots()\n",
    "plt.scatter(np.arange(0,len(eig_value)),eig_value,marker='_',color='black')\n",
    "plt.xlabel('Eigenstates',size=16)\n",
    "plt.ylabel(r'$E$',size=16)\n",
    "plt.xticks([])\n",
    "plt.title('S=1 Spin Chain, '+'N='+str(N),size=16)\n",
    "plt.text(2,-4.7,'(Ground State)')\n",
    "\n",
    "left, bottom, width, height = [0.6, 0.2, 0.2, 0.25]\n",
    "ax2 = fig.add_axes([left, bottom, width, height])\n",
    "ax2.scatter(np.arange(0,len(eig_value)),eig_value,marker='_',color='black')\n",
    "ax2.set_xlim(-1,10)\n",
    "ax2.set_ylim(-5.1,-2.01)\n",
    "ax2.set_xticks([])\n",
    "ax2.set_xlabel('Eigenstates')\n",
    "ax2.set_ylabel(r'$E$')\n",
    "#plt.savefig('s1_4.eps',dpi=300,format='eps')\n",
    "#plt.xlim(-1,10)\n"
   ]
  },
  {
   "cell_type": "markdown",
   "metadata": {
    "id": "Z2_eeEJgM0Pj"
   },
   "source": [
    "<font  face=Times color=darkblue size=3> We can see the ground state is non-degenerate and the denegeracy of 1st and 2nd excited state are 3 and 5. <br> Then measure $\\langle S_z\\rangle$ and $\\langle S_{total}^2\\rangle$.\n",
    "    \n",
    "$S^2  = 2\\begin{pmatrix} 1 && 0 && 0 \\\\ 0 && 1 && 0 \\\\ 0 && 0 && 1 \\end{pmatrix}$."
   ]
  },
  {
   "cell_type": "code",
   "execution_count": null,
   "metadata": {
    "id": "O9HslHotM0Pj"
   },
   "outputs": [],
   "source": [
    "matrix_U=np.zeros((dimension,dimension)) #mat_U\n",
    "matrix_Udag=np.zeros((dimension,dimension))\n",
    "for i in range(dimension):\n",
    "    matrix_U[:,i]=eig_vec[:,i].reshape(dimension)\n",
    "    matrix_Udag[i,:]=np.conj(eig_vec[:,i].reshape(dimension))"
   ]
  },
  {
   "cell_type": "code",
   "execution_count": null,
   "metadata": {
    "id": "sxUmUDV_M0Pj"
   },
   "outputs": [],
   "source": [
    "mat_Sz=np.zeros((dimension,dimension))\n",
    "mat_S2=np.zeros((dimension,dimension))"
   ]
  },
  {
   "cell_type": "code",
   "execution_count": null,
   "metadata": {
    "id": "0I0yzLqQM0Pk"
   },
   "outputs": [],
   "source": [
    "##construct Sz matrix\n",
    "for a in range(dimension):\n",
    "    chain=ten_2_tri(a) \n",
    "    l=len(chain)\n",
    "    chain=z[0:N-l]+chain #make the length equal to N\n",
    "    up_number=chain.count('2')\n",
    "    down_number=chain.count('0')\n",
    "    mat_Sz[a,a]=1*up_number-1*down_number  #this code of measurement is for all chain\n",
    "    \n",
    "\n",
    "mat_S2=2*N*np.identity(dimension)+2*H              # this measurement is written for N=2 only"
   ]
  },
  {
   "cell_type": "code",
   "execution_count": null,
   "metadata": {
    "id": "7p21KRBjM0Pk",
    "outputId": "5a41c60c-2d8f-4746-c072-df7bb6b28601"
   },
   "outputs": [
    {
     "data": {
      "text/plain": [
       "array([[-2.,  0.,  0.,  0.,  0.,  0.,  0.,  0.,  0.],\n",
       "       [ 0., -1.,  0.,  0.,  0.,  0.,  0.,  0.,  0.],\n",
       "       [ 0.,  0.,  0.,  0.,  0.,  0.,  0.,  0.,  0.],\n",
       "       [ 0.,  0.,  0., -1.,  0.,  0.,  0.,  0.,  0.],\n",
       "       [ 0.,  0.,  0.,  0.,  0.,  0.,  0.,  0.,  0.],\n",
       "       [ 0.,  0.,  0.,  0.,  0.,  1.,  0.,  0.,  0.],\n",
       "       [ 0.,  0.,  0.,  0.,  0.,  0.,  0.,  0.,  0.],\n",
       "       [ 0.,  0.,  0.,  0.,  0.,  0.,  0.,  1.,  0.],\n",
       "       [ 0.,  0.,  0.,  0.,  0.,  0.,  0.,  0.,  2.]])"
      ]
     },
     "execution_count": 185,
     "metadata": {},
     "output_type": "execute_result"
    }
   ],
   "source": [
    " mat_Sz"
   ]
  },
  {
   "cell_type": "code",
   "execution_count": null,
   "metadata": {
    "id": "-aRHl27mM0Pk",
    "outputId": "98e4058d-7c92-4619-f809-ee7984d54cfd"
   },
   "outputs": [
    {
     "data": {
      "text/plain": [
       "array([[6., 0., 0., 0., 0., 0., 0., 0., 0.],\n",
       "       [0., 4., 0., 2., 0., 0., 0., 0., 0.],\n",
       "       [0., 0., 2., 0., 2., 0., 0., 0., 0.],\n",
       "       [0., 2., 0., 4., 0., 0., 0., 0., 0.],\n",
       "       [0., 0., 2., 0., 4., 0., 2., 0., 0.],\n",
       "       [0., 0., 0., 0., 0., 4., 0., 2., 0.],\n",
       "       [0., 0., 0., 0., 2., 0., 2., 0., 0.],\n",
       "       [0., 0., 0., 0., 0., 2., 0., 4., 0.],\n",
       "       [0., 0., 0., 0., 0., 0., 0., 0., 6.]])"
      ]
     },
     "execution_count": 186,
     "metadata": {},
     "output_type": "execute_result"
    }
   ],
   "source": [
    "mat_S2"
   ]
  },
  {
   "cell_type": "code",
   "execution_count": null,
   "metadata": {
    "id": "ARR8ESC4M0Pl"
   },
   "outputs": [],
   "source": [
    "mz_list=[]\n",
    "s2_list=[]\n",
    "for i in range(dimension):\n",
    "    mz_list.append(np.dot(np.dot(matrix_Udag,mat_Sz),matrix_U)[i,i])#measure\n",
    "    s2_list.append(np.dot(np.dot(matrix_Udag,mat_S2),matrix_U)[i,i])#measure s^2"
   ]
  },
  {
   "cell_type": "code",
   "execution_count": null,
   "metadata": {
    "id": "5ZX0caCfM0Pl",
    "outputId": "89c137f4-52dd-4eb9-c761-059f61badf61"
   },
   "outputs": [
    {
     "data": {
      "text/plain": [
       "array([-2., -1., -1., -1.,  1.,  1.,  1.,  1.,  1.])"
      ]
     },
     "execution_count": 188,
     "metadata": {},
     "output_type": "execute_result"
    }
   ],
   "source": [
    "eig_value"
   ]
  },
  {
   "cell_type": "code",
   "execution_count": null,
   "metadata": {
    "id": "hIqsn-u3M0Pl",
    "outputId": "f9fb20b0-dcd3-4791-da5e-b919bdb95c35"
   },
   "outputs": [
    {
     "data": {
      "text/plain": [
       "[0.0,\n",
       " 0.9999999999999998,\n",
       " 0.0,\n",
       " -0.9999999999999998,\n",
       " 0.9999999999999998,\n",
       " 0.0,\n",
       " -0.9999999999999998,\n",
       " -2.0,\n",
       " 2.0]"
      ]
     },
     "execution_count": 189,
     "metadata": {},
     "output_type": "execute_result"
    }
   ],
   "source": [
    "mz_list"
   ]
  },
  {
   "cell_type": "code",
   "execution_count": null,
   "metadata": {
    "id": "qg2QfyGsM0Pm",
    "outputId": "540845d3-e417-4694-cd6e-18cb07250065"
   },
   "outputs": [
    {
     "data": {
      "text/plain": [
       "[3.4512664603419266e-31,\n",
       " 1.9999999999999996,\n",
       " 1.9999999999999996,\n",
       " 1.9999999999999996,\n",
       " 5.999999999999999,\n",
       " 6.000000000000001,\n",
       " 5.999999999999999,\n",
       " 6.0,\n",
       " 6.0]"
      ]
     },
     "execution_count": 190,
     "metadata": {},
     "output_type": "execute_result"
    }
   ],
   "source": [
    "s2_list"
   ]
  },
  {
   "cell_type": "markdown",
   "metadata": {
    "id": "g9s0KS-cM0Pm"
   },
   "source": [
    "<font  face=Times color=darkblue size=3> For ground state: $E_0=-2$, $S_{total}^z=0$, and $S_{total}=0$.\n",
    "    <br>For the 3 1st excited state:$E_0=-1$, $S_{total}^z=-1,0,1$, and $S_{total}=1$.\n",
    "    <br> For the 5 2nd excited state:$E_0=1$, $S_{total}^z=-2,-1,0,1,2$, and $S_{total}=2$ ($S(S+1)=6$)."
   ]
  },
  {
   "cell_type": "code",
   "execution_count": null,
   "metadata": {
    "id": "jvVhuoGcM0Pn"
   },
   "outputs": [],
   "source": []
  }
 ],
 "metadata": {
  "colab": {
   "name": "ED_Heisenberg.ipynb",
   "provenance": []
  },
  "kernelspec": {
   "display_name": "Python 3",
   "language": "python",
   "name": "python3"
  },
  "language_info": {
   "codemirror_mode": {
    "name": "ipython",
    "version": 3
   },
   "file_extension": ".py",
   "mimetype": "text/x-python",
   "name": "python",
   "nbconvert_exporter": "python",
   "pygments_lexer": "ipython3",
   "version": "3.8.5"
  }
 },
 "nbformat": 4,
 "nbformat_minor": 1
}
