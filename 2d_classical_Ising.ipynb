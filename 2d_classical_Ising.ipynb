{
  "cells": [
    {
      "cell_type": "markdown",
      "id": "28f8ca90",
      "metadata": {
        "id": "28f8ca90"
      },
      "source": [
        "# Classical Ising model\n",
        "This notebook demonstrates the Monte Carlo study on the 2-d classical Ising model."
      ]
    },
    {
      "cell_type": "markdown",
      "id": "4d418021",
      "metadata": {
        "id": "4d418021"
      },
      "source": [
        "## 1. Introduction"
      ]
    },
    {
      "cell_type": "markdown",
      "source": [
        "### 1.1 Hamiltonian"
      ],
      "metadata": {
        "id": "qv5W3UebhYe3"
      },
      "id": "qv5W3UebhYe3"
    },
    {
      "cell_type": "markdown",
      "id": "1f3fd8f7",
      "metadata": {
        "id": "1f3fd8f7"
      },
      "source": [
        "Classical Ising model describe a system consist of certain configuration of spins, where only the nearest neighbor have nonzero interaction. The Hamiltonian (Energy) of the classical Ising model is given by, \n",
        "$$\n",
        " H(\\{\\sigma\\})=-J\\sum_{\\langle i,j\\rangle} \\sigma_i\\sigma_j\n",
        "$$\n",
        "\n",
        "The angle bracket under the first summation indicates that only the nearest neighbor $i$ and $j$ are considered. $\\sigma_i $ and $ \\sigma_j$ only take two values, +1 and -1, indicating a spin-1/2 partivle with two $S_z$ components (up and down).\n",
        "\n",
        "$J>0$ implies that spins tend to stays in the same direction, so as to achieve a lower energy, in which case the system is like a ferromagnetic material. By contrast, $J<0$ represents anti-ferromagnetic model.\n",
        "\n"
      ]
    },
    {
      "cell_type": "markdown",
      "source": [
        "### 1.2 Partition function"
      ],
      "metadata": {
        "id": "ZjqzMBnihfv_"
      },
      "id": "ZjqzMBnihfv_"
    },
    {
      "cell_type": "markdown",
      "source": [
        "In the two dimension classical Ising model, we assume there are some spin live on a square lattice with length $L$, then the total number of spins would be $N=L^2$.  Because of nearest interaction and periodic boundary condition, there are totally $2N$ interaction, or bond, on the lattice.\n",
        "\n",
        "Consider the partition function:\n",
        "$$\n",
        "Z=\\sum_{\\{\\sigma\\}}e^{-\\beta E\\{\\sigma\\}}\n",
        "$$\n",
        "where $\\beta$ is the thermaldynamic beta $\\beta=\\frac{1}{k_BT}$, with $k_B$ being the Boltzmann constant and $T$ being the temperature.  In the following parts, I will assume $k_B=1$ and $\\beta=\\frac{1}{T}$ simply is the inverse of temperature.  $\\beta$ and $T$ will be used interchangeably.\n",
        "\n",
        "The partition function shows the weighting of each configuration and the probability of such configuration's occurring.\n",
        "$$\n",
        "P(\\{\\sigma\\})=\\frac{1}{Z}e^{-\\beta E\\{\\sigma\\}}\n",
        "$$\n",
        "where $Z$ acts as a normalization constant, making sure that the sum of probability of all the configurations equals to 1.  It is obvious that the weighting of any configuration has a negative correlation with the total energy of that configuration, in other words, a system is more likely to stay at lower energy rather than at higher one."
      ],
      "metadata": {
        "id": "1jDSSaUJg69-"
      },
      "id": "1jDSSaUJg69-"
    },
    {
      "cell_type": "markdown",
      "source": [
        "## 2. Monte Carlo Method"
      ],
      "metadata": {
        "id": "qic08dAShdC2"
      },
      "id": "qic08dAShdC2"
    },
    {
      "cell_type": "markdown",
      "source": [
        "Consider a large ensemble of configurations of a certain system, $C=C_1,C_2,...,C_N$. A stochastic process is design such that the current configuration $C_k$ is generated from the previous one $C_{k-1}$ by making some changes. This sequence of configurations is called a Markov chain. With a given stable distribution $P(C)$, it is our mission to find out the transition probability, $P(C_i\\to C_j)$. Given an ensemble distributed according to $P(C)$, one can derive the ***detailed balanced condition***,\n",
        "$$\n",
        "\\frac{P(C_i\\to C_j)}{P(C_j\\to C_i)}=\\frac{P(C_j)}{P(C_i)}.\n",
        "$$\n",
        "\n",
        "\n",
        "With well-defined transition probabilities and distribution $P(\\{\\sigma\\})=\\frac{1}{Z}e^{-\\beta E\\{\\sigma\\}}$, one can generate configurations along a Markov chain. The expectation value of a certarin measurable $Q$ is,\n",
        "$$\n",
        "\\langle Q⟩=\\sum_{\\sigma}P(\\sigma)Q(\\sigma) = \\frac{1}{N}\\sum_{i=1}^{N}Q(C_i),\n",
        "$$\n",
        "where $N$ is the total number of sampling we do."
      ],
      "metadata": {
        "id": "V7LwViWqjUv3"
      },
      "id": "V7LwViWqjUv3"
    },
    {
      "cell_type": "markdown",
      "source": [
        "## 3. Algorithms"
      ],
      "metadata": {
        "id": "NTQrwMKmmbEf"
      },
      "id": "NTQrwMKmmbEf"
    },
    {
      "cell_type": "markdown",
      "source": [
        "### 3.1 The Metropolis algorithm"
      ],
      "metadata": {
        "id": "vfuD5NyZmg3W"
      },
      "id": "vfuD5NyZmg3W"
    },
    {
      "cell_type": "markdown",
      "source": [
        "Metropolis algorithm is also known as local update. Recall the detailed balanced condition \n",
        "$$\n",
        "\\frac{P(C_i\\to C_j)}{P(C_j\\to C_i)}=\\frac{P(C_j)}{P(C_i)}.\n",
        "$$\n",
        "We further write $P(C_i\\to C_j)=P^{choose}(C_i\\to C_j)P^{accept}(C_i\\to C_j)$. In Metropolis algorithm, $P^{choose}(C_i\\to C_j)$ is a constant and $P^{accept}(C_i\\to C_j) = min\\left \\{ \\frac{P(C_j)}{P(C_i},1 \\right \\}$. This piece of choice satisefies the detailed balanced condition and we can implement this as follows.\n",
        "1. Initialize the lattice $\\left \\{ S_i\\right \\}$ (randomly generate a configuration among {±1, ±1, ..., ±1} as the initial configuration). Set the lattice size L and the temperature T.\n",
        "2. Randomly choose a spin. Consider flipping the spin $S_i$ to $-S_i$, calculated the change of energy $\\Delta E$ of the system.\n",
        "3. The flip is accepted with the probability $P^{accept}$ shown above. In detail, if the flip lowers the energy of the system i.e., $\\Delta E<0$, we always accept the flip. Otherwise, flip the spin with $P=e^{-\\beta \\Delta E}$.\n",
        "4. Consider $L × L$ times of step 2-3 as one Monte Carlo iteration and monitor the behavior of physical observables.\n",
        "5. Repeat step 2-4 until the physical observable converges after certain iterations. This step is to make sure the system is fully thermalized. \n",
        "6. Repeat Monte Carlo steps and record the physical observables each step.\n",
        "\n"
      ],
      "metadata": {
        "id": "vA3GsylOmg0n"
      },
      "id": "vA3GsylOmg0n"
    },
    {
      "cell_type": "markdown",
      "source": [
        "### 3.2 The Wolff algorithm"
      ],
      "metadata": {
        "id": "Fl4V6nbcmgyH"
      },
      "id": "Fl4V6nbcmgyH"
    },
    {
      "cell_type": "markdown",
      "source": [
        "The Wolff algorithm is also named as cluster update. It is an analogy to the real physical system near the critical point where spins seem to form clusters. In the algorithm, spins form a cluster with some probability and the entire cluster is flipped with $P^{accept}=1$.\n",
        "The steps are below:\n",
        "1. Initialize the lattice $\\left \\{ S_i\\right \\}$ (randomly generate a configuration among {±1, ±1, ..., ±1} as the initial configuration). Set the lattice size L and the temperature T.\n",
        "2. Start the Monte Carlo step, a spin $S_i$ is selected at random.\n",
        "3. All its neighbors $S_j$s, are added to the cluster with a probability $P=1-e^{-2\\beta J}$,provided $S_i$ and $S_j$ are parallel and the bond between them has not been considered before.\n",
        "4. For the newly added spin, repeat the step 3 until no new spins are added into the cluster. Flip all the spins in the cluster, which ends one Monte Carlo step. \n",
        "5. Repeat step 2-4 until the physical observable converges after certain iterations. \n",
        "6. Repeat Monte Carlo steps and record the physical observables each step.  \n"
      ],
      "metadata": {
        "id": "AzN-KbmGmgvn"
      },
      "id": "AzN-KbmGmgvn"
    },
    {
      "cell_type": "markdown",
      "source": [
        "# maybe put code here "
      ],
      "metadata": {
        "id": "B96z7P49mgo_"
      },
      "id": "B96z7P49mgo_"
    },
    {
      "cell_type": "markdown",
      "source": [
        "## 4. Fintie size scaling"
      ],
      "metadata": {
        "id": "qIiSpOcKuPSG"
      },
      "id": "qIiSpOcKuPSG"
    },
    {
      "cell_type": "markdown",
      "source": [
        "In principle, for a system in thermal dynamic limit (system size tends to infinity) with continuous phase transition, the order parameter vanishes at one side of the critical point. Also, the second order derivatives of thermal dynamic functions, such as heat capacity, susceptibility have a singularity (diverge to infinity) at the critical point.  \n",
        "\n",
        "For Ising model, the order parameter, $\\langle |m|\\rangle$ is zero at $T>T_c$ if we consider a system with infinite size. However, for a finite system size, $\\langle |m|\\rangle$ will not vanish, for instead it remains at a nonzero constant for $T>T_c$. Also, the heat capacity and the susceptibility will not diverge to infinity but have a finite peak near $T_c$. Finite-size scaling theory tells that for finite-size systems, the physical measurables depend not only on the temperature but also on the system sizes. For example, the order parameter $\\langle |m|\\rangle$ scales as,\n",
        "$$\n",
        "\\langle |m|\\rangle(t,L)=L^{-\\beta/\\nu}g(tL^{1/\\nu})\n",
        "$$\n",
        "$$\n",
        "\\langle |m|\\rangle(t,L)L^{\\beta/\\nu}=g(tL^{1/\\nu})\n",
        "$$\n",
        "where $t=\\frac{|T-T_c|}{T_c}$, $\\beta = 1/8$ and $\\nu=1$ are two criticle exponents for 2-d Ising model. If $T=T_c, t=0$, the RHS is $g(0)$ independent of the system size $L$. Therefore, if we plot \\langle |m|\\rangle(t,L)L^{\\beta/\\nu} against the temperature for different $L$, curves for different $L$ must intersect as a point $T=T_c$."
      ],
      "metadata": {
        "id": "98MejYN6uPI3"
      },
      "id": "98MejYN6uPI3"
    },
    {
      "cell_type": "code",
      "source": [],
      "metadata": {
        "id": "GIwwKVWolGDf"
      },
      "id": "GIwwKVWolGDf",
      "execution_count": null,
      "outputs": []
    },
    {
      "cell_type": "code",
      "source": [],
      "metadata": {
        "id": "YvcFQ7nAjUL_"
      },
      "id": "YvcFQ7nAjUL_",
      "execution_count": null,
      "outputs": []
    },
    {
      "cell_type": "code",
      "execution_count": null,
      "id": "5f944853",
      "metadata": {
        "id": "5f944853"
      },
      "outputs": [],
      "source": []
    }
  ],
  "metadata": {
    "kernelspec": {
      "display_name": "Python 3 (ipykernel)",
      "language": "python",
      "name": "python3"
    },
    "language_info": {
      "codemirror_mode": {
        "name": "ipython",
        "version": 3
      },
      "file_extension": ".py",
      "mimetype": "text/x-python",
      "name": "python",
      "nbconvert_exporter": "python",
      "pygments_lexer": "ipython3",
      "version": "3.9.12"
    },
    "colab": {
      "provenance": []
    }
  },
  "nbformat": 4,
  "nbformat_minor": 5
}