{
 "cells": [
  {
   "cell_type": "markdown",
   "id": "28f8ca90",
   "metadata": {},
   "source": [
    "# Classical Ising model"
   ]
  },
  {
   "cell_type": "markdown",
   "id": "4d418021",
   "metadata": {},
   "source": [
    "## 1. Introduction"
   ]
  },
  {
   "cell_type": "markdown",
   "id": "1f3fd8f7",
   "metadata": {},
   "source": [
    "Classical Ising model describe a system consist of certain configuration of spins, where only the nearest neighbor have nonzero interaction. The Hamiltonian (Energy) of the classical Ising model is given by, \n",
    "$$\n",
    " H(\\{\\sigma\\})=-J\\sum_{\\langle i,j\\rangle} \\sigma_i\\sigma_j\n",
    "$$\n",
    "\n",
    "The angle bracket under the first summation indicates that only the nearest neighbor $i$ and $j$ are considered. $\\sigma_i $ and $ \\sigma_j$ only take two values, +1 and -1, indicating a spin-1/2 partivle with two $S_z$ components (up and down).\n",
    "\n",
    "$J>0$ implies that spins tend to stays in the same direction, so as to achieve a lower energy, in which case the system is like a ferromagnetic material. By contrast, $J<0$ means anti-ferromagnetic.\n",
    "\n"
   ]
  },
  {
   "cell_type": "code",
   "execution_count": null,
   "id": "5f944853",
   "metadata": {},
   "outputs": [],
   "source": []
  }
 ],
 "metadata": {
  "kernelspec": {
   "display_name": "Python 3 (ipykernel)",
   "language": "python",
   "name": "python3"
  },
  "language_info": {
   "codemirror_mode": {
    "name": "ipython",
    "version": 3
   },
   "file_extension": ".py",
   "mimetype": "text/x-python",
   "name": "python",
   "nbconvert_exporter": "python",
   "pygments_lexer": "ipython3",
   "version": "3.9.12"
  }
 },
 "nbformat": 4,
 "nbformat_minor": 5
}
