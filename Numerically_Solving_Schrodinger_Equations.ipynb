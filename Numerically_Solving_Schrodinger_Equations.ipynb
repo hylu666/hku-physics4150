{
 "cells": [
  {
   "cell_type": "markdown",
   "metadata": {},
   "source": [
    "# Numerically Solving Schrodinger Equations"
   ]
  },
  {
   "cell_type": "markdown",
   "metadata": {},
   "source": [
    "<font  face=Times color=darkblue size=4> After showing how to numerically solve the differential equations, we now use the techniques to solve single-particle Schrodinger equations."
   ]
  },
  {
   "cell_type": "markdown",
   "metadata": {},
   "source": [
    "## Stationary Schrodinger Equation"
   ]
  },
  {
   "cell_type": "markdown",
   "metadata": {},
   "source": [
    "### Introduction"
   ]
  },
  {
   "cell_type": "markdown",
   "metadata": {},
   "source": [
    "<font  face=Times color=darkblue size=4>We first consider stationary Schrodinger Equation, and take 1d harmonic oscillator as an example:$$E\\psi(x)=-\\frac{\\hbar^2}{2m}\\frac{\\partial^2}{\\partial x^2}\\psi(x)+V(x)\\psi(x)$$.\n",
    "<br>Ater discretization, we take $x_i=i\\times dx$,$i\\in [0,n+1]$,and then:$$E\\psi_i=-\\frac{\\hbar^2}{2m}\\frac{\\psi_{i+1}+\\psi_{i-1}-2\\psi_{i}}{dx^2}+V_i\\psi_i$$\n",
    "    with boundary condition:$\\psi_0=\\psi_{n+1}=0$\n",
    "<br>Thus, we get n linear equations, and we can write in matrix form.\n",
    "<br><br>For 1d harmonic oscillator:$$E\\psi_i=-\\frac{\\hbar^2}{2mdx^2}(\\psi_{i+1}+\\psi_{i-1})+(\\frac{\\hbar^2}{mdx^2}+\\frac{1}{2}mw^2(i-\\frac{n}{2})^2dx^2)\\psi_i$$\n",
    "<br>So, the matrix form is:$E'\\begin{bmatrix}\n",
    "\\psi_1  \\\\ \\vdots  \\\\ \\psi_n \\\\\\end{bmatrix}\n",
    "=\\begin{bmatrix} \\frac{1}{2}\\frac{(1-n/2)^2*dx^2}{HbarM}& -\\frac{1}{2}HbarM & \\cdots\\\\ \n",
    "-\\frac{1}{2}HbarM &\\ddots&\\cdots  \\\\ \n",
    "\\vdots &\\vdots&\\ddots\\\\\n",
    "\\end{bmatrix}\n",
    "\\begin{bmatrix}\n",
    "\\psi_1  \\\\ \\vdots  \\\\ \\psi_n \\\\\\end{bmatrix}$\n",
    "    with $HbarM=\\frac{\\hbar}{mwdx}, E'=E*dx/(\\hbar w)$.\n",
    "<br><br>Set HbarM=1, dx=0.01, n=200. So, after diagonalization, the eigenvalues are the energies and the eigenvectors are the wavefunctions."
   ]
  },
  {
   "cell_type": "markdown",
   "metadata": {},
   "source": [
    "### Code"
   ]
  },
  {
   "cell_type": "code",
   "execution_count": 1,
   "metadata": {},
   "outputs": [],
   "source": [
    "import numpy as np\n",
    "import matplotlib.pyplot as plt"
   ]
  },
  {
   "cell_type": "code",
   "execution_count": 84,
   "metadata": {},
   "outputs": [],
   "source": [
    "#set parameter\n",
    "dx=0.01\n",
    "n=200"
   ]
  },
  {
   "cell_type": "code",
   "execution_count": 85,
   "metadata": {},
   "outputs": [],
   "source": [
    "#set the matrix element\n",
    "the_matrix=np.zeros((200,200))\n",
    "#row 1:\n",
    "the_matrix[0,0]=0.99*0.99*0.5+1\n",
    "the_matrix[0,1]=-0.5\n",
    "#row n:\n",
    "the_matrix[n-1,n-1]=0.5+1\n",
    "the_matrix[n-1,n-2]=-0.5\n",
    "#other rows\n",
    "for i in range(1,n-1):\n",
    "    the_matrix[i,i]=np.power((i+1-100)/100,2)/2+1\n",
    "    the_matrix[i,i-1]=-0.5\n",
    "    the_matrix[i,i+1]=-0.5\n"
   ]
  },
  {
   "cell_type": "code",
   "execution_count": 86,
   "metadata": {},
   "outputs": [],
   "source": [
    "#diagonalization\n",
    "E_list,wf_list=np.linalg.eigh(the_matrix)"
   ]
  },
  {
   "cell_type": "code",
   "execution_count": 89,
   "metadata": {},
   "outputs": [
    {
     "data": {
      "text/plain": [
       "<matplotlib.legend.Legend at 0xd896370>"
      ]
     },
     "execution_count": 89,
     "metadata": {},
     "output_type": "execute_result"
    },
    {
     "data": {
      "image/png": "[encoded data removed]",
      "text/plain": [
       "<Figure size 432x288 with 1 Axes>"
      ]
     },
     "metadata": {
      "needs_background": "light"
     },
     "output_type": "display_data"
    }
   ],
   "source": [
    "#Energy plot\n",
    "n_list=np.arange(1,201)\n",
    "plt.plot(n_list,E_list/0.01,label='numerical')\n",
    "plt.plot(n_list,n_list+0.5,label='analytical')\n",
    "plt.xlabel('n')\n",
    "plt.ylabel('E')\n",
    "plt.title('Energy')\n",
    "plt.legend()"
   ]
  },
  {
   "cell_type": "code",
   "execution_count": null,
   "metadata": {},
   "outputs": [],
   "source": []
  },
  {
   "cell_type": "markdown",
   "metadata": {},
   "source": [
    "<font  face=Times color=darkblue size=4>We can see that, at low energy level, the result is acceptable, but at higher levels, the result get worse."
   ]
  },
  {
   "cell_type": "markdown",
   "metadata": {},
   "source": [
    "## Time-Dependent Schrodinger Equation"
   ]
  },
  {
   "cell_type": "markdown",
   "metadata": {},
   "source": [
    "### Introduction"
   ]
  },
  {
   "cell_type": "markdown",
   "metadata": {},
   "source": [
    "<font  face=Times color=darkblue size=4>Next, we consider time-dependent Schrodinger equation:$$i\\hbar\\frac{\\partial}{\\partial t}\\psi(t,x)=H(x)\\psi(t,x)$$\n",
    "<br><br>Using Crank-Nicolson Scheme, the equation can be written as:$$i\\hbar\\frac{\\psi^{n+1}_r-\\psi^{n}_r}{\\tau}=\\sum_{s=1}^NH_{r,s}\\frac{1}{2}(\\psi_s^n+\\psi_s^{n+1})$$\n",
    "    with $H_{r,s}=-\\frac{\\hbar^2}{2m}\\frac{\\delta_{r+1,s}+\\delta_{r-1,s}-2\\delta_{r,s}}{h^2}+V(x_r)\\delta_{r,s}$\n",
    "<br><br>Further:$$\\psi^{n+1}=(1+\\frac{i\\tau}{2\\hbar}H)^{-1}(1-\\frac{i\\tau}{2\\hbar}H)\\psi^n$$\n",
    "<br><br>Initial condition:$\\psi(t=0,x)=\\frac{1}{\\sqrt{\\sigma_0\\sqrt{2\\pi}}}e^{ik_0x}e^{-\\frac{1}{2}\\frac{(x-x_0)^2}{2\\sigma_0^2}}$,\n",
    "<br>$\\hbar=m=1,x_-10=0,L=40,\\sigma_0=1,k_0=7,N=401,\\tau=0.0002,h=L/N$, and the potential V inside to be 0."
   ]
  },
  {
   "cell_type": "markdown",
   "metadata": {},
   "source": [
    "### Code"
   ]
  },
  {
   "cell_type": "code",
   "execution_count": 2,
   "metadata": {},
   "outputs": [],
   "source": [
    "#set parameters\n",
    "hbar=1\n",
    "m=1\n",
    "x0=-10\n",
    "L=40\n",
    "sigma0=1\n",
    "k0=7\n",
    "N=400\n",
    "tau=0.03\n",
    "tn=600\n",
    "h=L/N\n",
    "x_list=[]\n",
    "for i in range(N):\n",
    "    x_list.append(i*h-L/2)"
   ]
  },
  {
   "cell_type": "code",
   "execution_count": 3,
   "metadata": {},
   "outputs": [],
   "source": [
    "psi_list=np.zeros((tn,N),dtype=np.complex64)\n",
    "#set psi_0\n",
    "for i in range(N):\n",
    "    psi_list[0,i]=(1/np.sqrt(sigma0*np.sqrt(np.pi)))*np.exp((1j)*k0*(x_list[i]-x0))*np.exp(-0.5*np.power(x_list[i]-x0,2)/(np.power(sigma0,2)))"
   ]
  },
  {
   "cell_type": "code",
   "execution_count": 4,
   "metadata": {},
   "outputs": [
    {
     "name": "stdout",
     "output_type": "stream",
     "text": [
      "as the sum of possibility is: 0.9999999825424379 we can say it is normalized\n"
     ]
    }
   ],
   "source": [
    "sum=0\n",
    "for i in psi_list[0]:\n",
    "    sum+=abs(i)**2*h\n",
    "print('as the sum of possibility is:',sum,'we can say it is normalized')"
   ]
  },
  {
   "cell_type": "code",
   "execution_count": 5,
   "metadata": {},
   "outputs": [],
   "source": [
    "#build the H matrix\n",
    "matrix_H=np.zeros((N,N))\n",
    "#first row\n",
    "matrix_H[0,0]=(-(hbar*hbar)/(2*m))*(-2/np.power(h,2))\n",
    "matrix_H[0,1]=(-(hbar*hbar)/(2*m))*(1/np.power(h,2))\n",
    "#last row\n",
    "matrix_H[N-1,N-1]=(-(hbar*hbar)/(2*m))*(-2/np.power(h,2))\n",
    "matrix_H[N-1,N-2]=(-(hbar*hbar)/(2*m))*(1/np.power(h,2))\n",
    "#other rows\n",
    "for i in range(1,N-1):\n",
    "    matrix_H[i,i]=(-(hbar*hbar)/(2*m))*(-2/np.power(h,2))\n",
    "    matrix_H[i,i+1]=(-(hbar*hbar)/(2*m))*(1/np.power(h,2))\n",
    "    matrix_H[i,i-1]=(-(hbar*hbar)/(2*m))*(1/np.power(h,2))"
   ]
  },
  {
   "cell_type": "code",
   "execution_count": 6,
   "metadata": {},
   "outputs": [],
   "source": [
    "# the new matrix in the formula\n",
    "mat_1plus_inv=np.linalg.inv(np.identity(N)+((1j*tau)/(2*hbar))*matrix_H)\n",
    "mat_1minus=np.identity(N)-((1j*tau)/(2*hbar))*matrix_H"
   ]
  },
  {
   "cell_type": "code",
   "execution_count": 7,
   "metadata": {},
   "outputs": [],
   "source": [
    "for i in range(1,tn):\n",
    "    psi_list[i]=np.dot(np.dot(mat_1plus_inv,mat_1minus),psi_list[i-1].reshape(N,1)).reshape(N,)"
   ]
  },
  {
   "cell_type": "code",
   "execution_count": 8,
   "metadata": {},
   "outputs": [
    {
     "name": "stdout",
     "output_type": "stream",
     "text": [
      "Using matplotlib backend: TkAgg\n",
      "Populating the interactive namespace from numpy and matplotlib\n"
     ]
    },
    {
     "name": "stderr",
     "output_type": "stream",
     "text": [
      "c:\\工具\\python\\lib\\site-packages\\IPython\\core\\magics\\pylab.py:160: UserWarning: pylab import has clobbered these variables: ['pylab', 'sum']\n",
      "`%matplotlib` prevents importing * from pylab and numpy\n",
      "  \"\\n`%matplotlib` prevents importing * from pylab and numpy\"\n"
     ]
    }
   ],
   "source": [
    "import pylab\n",
    "%pylab"
   ]
  },
  {
   "cell_type": "code",
   "execution_count": 9,
   "metadata": {},
   "outputs": [],
   "source": [
    "from IPython import display\n",
    "fig = plt.figure()\n",
    "plt.ion() \n",
    "for index in range(150):\n",
    "    fig.clf()  # 清空当前Figure对象\n",
    "    xx=x_list\n",
    "    yy=abs(psi_list[index*4])**2\n",
    "    ax1 = fig.add_subplot(111)\n",
    "    ax1.set_xlabel('x')\n",
    "    ax1.set_title('possibility(x)')\n",
    "    ax1.plot(xx,yy)\n",
    "    plt.pause(0.1)\n",
    "    #display.clear_output(wait=True)\n",
    "plt.ioff()\n",
    "plt.show()"
   ]
  },
  {
   "cell_type": "markdown",
   "metadata": {},
   "source": [
    "<font  face=Times color=darkblue size=4>Using similar scheme, by adding some potential or change boundary and initial conditions, you can easily check the solution of Schrodinger Equation in other cases.\n",
    "     <br>For example, take the conditions above unchanged, except that we add rectangular potential barrier of $V=k_0^2/2$ at -2<x<2."
   ]
  },
  {
   "cell_type": "code",
   "execution_count": 6,
   "metadata": {},
   "outputs": [],
   "source": [
    "#set parameters\n",
    "hbar=1\n",
    "m=1\n",
    "x0=-10\n",
    "L=40\n",
    "sigma0=1\n",
    "k0=7\n",
    "N=400\n",
    "tau=0.03\n",
    "tn=600\n",
    "h=L/N\n",
    "x_list=[]\n",
    "for i in range(N):\n",
    "    x_list.append(i*h-L/2)"
   ]
  },
  {
   "cell_type": "code",
   "execution_count": 7,
   "metadata": {},
   "outputs": [],
   "source": [
    "psi_list=np.zeros((tn,N),dtype=np.complex64)\n",
    "#set psi_0\n",
    "for i in range(N):\n",
    "    psi_list[0,i]=(1/np.sqrt(sigma0*np.sqrt(np.pi)))*np.exp((1j)*k0*(x_list[i]-x0))*np.exp(-0.5*np.power(x_list[i]-x0,2)/(np.power(sigma0,2)))"
   ]
  },
  {
   "cell_type": "code",
   "execution_count": 8,
   "metadata": {},
   "outputs": [],
   "source": [
    "#build the H matrix (add V)\n",
    "matrix_H=np.zeros((N,N))\n",
    "#first row\n",
    "matrix_H[0,0]=(-(hbar*hbar)/(2*m))*(-2/np.power(h,2))\n",
    "matrix_H[0,1]=(-(hbar*hbar)/(2*m))*(1/np.power(h,2))\n",
    "#last row\n",
    "matrix_H[N-1,N-1]=(-(hbar*hbar)/(2*m))*(-2/np.power(h,2))\n",
    "matrix_H[N-1,N-2]=(-(hbar*hbar)/(2*m))*(1/np.power(h,2))\n",
    "#other rows\n",
    "for i in range(1,N-1):\n",
    "    matrix_H[i,i]=(-(hbar*hbar)/(2*m))*(-2/np.power(h,2))\n",
    "    matrix_H[i,i+1]=(-(hbar*hbar)/(2*m))*(1/np.power(h,2))\n",
    "    matrix_H[i,i-1]=(-(hbar*hbar)/(2*m))*(1/np.power(h,2))\n",
    "    if 180<i<220:\n",
    "        matrix_H[i,i]+=k0**2/2"
   ]
  },
  {
   "cell_type": "code",
   "execution_count": 9,
   "metadata": {},
   "outputs": [],
   "source": [
    "# the new matrix in the formula\n",
    "mat_1plus_inv=np.linalg.inv(np.identity(N)+((1j*tau)/(2*hbar))*matrix_H)\n",
    "mat_1minus=np.identity(N)-((1j*tau)/(2*hbar))*matrix_H"
   ]
  },
  {
   "cell_type": "code",
   "execution_count": 10,
   "metadata": {},
   "outputs": [],
   "source": [
    "for i in range(1,tn):\n",
    "    psi_list[i]=np.dot(np.dot(mat_1plus_inv,mat_1minus),psi_list[i-1].reshape(N,1)).reshape(N,)"
   ]
  },
  {
   "cell_type": "code",
   "execution_count": 11,
   "metadata": {},
   "outputs": [
    {
     "name": "stdout",
     "output_type": "stream",
     "text": [
      "Using matplotlib backend: TkAgg\n",
      "Populating the interactive namespace from numpy and matplotlib\n"
     ]
    },
    {
     "name": "stderr",
     "output_type": "stream",
     "text": [
      "c:\\工具\\python\\lib\\site-packages\\IPython\\core\\magics\\pylab.py:160: UserWarning: pylab import has clobbered these variables: ['pylab']\n",
      "`%matplotlib` prevents importing * from pylab and numpy\n",
      "  \"\\n`%matplotlib` prevents importing * from pylab and numpy\"\n"
     ]
    }
   ],
   "source": [
    "import pylab\n",
    "%pylab"
   ]
  },
  {
   "cell_type": "code",
   "execution_count": 13,
   "metadata": {},
   "outputs": [],
   "source": [
    "from IPython import display\n",
    "fig = plt.figure()\n",
    "plt.ion() \n",
    "for index in range(150):\n",
    "    fig.clf()  # 清空当前Figure对象\n",
    "    xx=x_list\n",
    "    yy=abs(psi_list[index*4])**2\n",
    "    ax1 = fig.add_subplot(111)\n",
    "    ax1.set_xlabel('x')\n",
    "    ax1.set_title('possibility(x)')\n",
    "    ax1.plot(xx,yy)\n",
    "    plt.pause(0.1)\n",
    "    #display.clear_output(wait=True)\n",
    "plt.ioff()\n",
    "plt.show()"
   ]
  },
  {
   "cell_type": "markdown",
   "metadata": {},
   "source": [
    "<font  face=Times color=darkblue size=4>Now, you could easily see the difference of propogation."
   ]
  },
  {
   "cell_type": "code",
   "execution_count": null,
   "metadata": {},
   "outputs": [],
   "source": []
  }
 ],
 "metadata": {
  "kernelspec": {
   "display_name": "Python 3",
   "language": "python",
   "name": "python3"
  },
  "language_info": {
   "codemirror_mode": {
    "name": "ipython",
    "version": 3
   },
   "file_extension": ".py",
   "mimetype": "text/x-python",
   "name": "python",
   "nbconvert_exporter": "python",
   "pygments_lexer": "ipython3",
   "version": "3.6.8"
  }
 },
 "nbformat": 4,
 "nbformat_minor": 4
}
