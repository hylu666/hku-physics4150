{
 "cells": [
  {
   "cell_type": "markdown",
   "metadata": {},
   "source": [
    "# Partial Differential Equations"
   ]
  },
  {
   "cell_type": "markdown",
   "metadata": {},
   "source": [
    "<font  face=Times color=darkblue size=4> In this notebook, we are gonna show some computational methods to solve several cases of partial differential equations"
   ]
  },
  {
   "cell_type": "markdown",
   "metadata": {},
   "source": [
    "## Traffic Light Simulation"
   ]
  },
  {
   "cell_type": "markdown",
   "metadata": {},
   "source": [
    "### Background Introduction"
   ]
  },
  {
   "cell_type": "markdown",
   "metadata": {},
   "source": [
    "<font  face=Times color=darkblue size=4>  We characterize the traffic density by $\\rho(t,x)$,denoting the number of vehicles per unit length at time t and the position x along the road. Furthermote, the flow of the traffic is charaterized by the flux F(t,x),$F(t,x)=F(\\rho(t,x))=v(\\rho)\\rho=v_{max}(1-\\frac{\\rho}{\\rho_{max}})\\rho$. \n",
    "    <br>The equation of continuity:$\\frac{\\partial \\rho}{\\partial t}=-\\frac{\\partial F(t,x)}{\\partial x}$.\n",
    "    <br><br>We now simulate vehicles at a traffic light. We consider a road with periodic boundary conditions, and with a traffic light. \n",
    "    At t<0, the light is red and the vehicles wait for the light to turn green at t=0. Then, the vehicles start moving. Denoting the circumference of the road by L, with the traffic light located at x=L/2, we assume the initial traffic density at t=0:\n",
    "    $$\\rho(t=0,x)=\\rho_0(x)=\\begin{cases}\\rho_{max}, \\frac{L}{4}<x<\\frac{L}{2}\\\\ 0,else \\end{cases}$$\n",
    "     We set $L=400m, v_{max}=33m/s,h=1m,\\tau=h/v_{max}$, and we set the density scale by putting $\\rho_{max}=1$"
   ]
  },
  {
   "cell_type": "markdown",
   "metadata": {},
   "source": [
    "### Simulation Using Lax Method"
   ]
  },
  {
   "cell_type": "markdown",
   "metadata": {},
   "source": [
    "<font  face=Times color=darkblue size=4> To solve this, we are gonna use Lax Method for advection equation $\\frac{\\partial u}{\\partial t}=-c\\frac{\\partial u}{\\partial x}.$\n",
    "    <br>$$u(n+1,r)=\\frac{1}{2}(u(n,r+1)+u(n,r-1))-\\frac{c\\tau}{2h}(u(n,r+1)-u(n,r-1))$$ and here,$c=v_{max}(1-\\frac{2\\rho}{\\rho_{max}}).$"
   ]
  },
  {
   "cell_type": "code",
   "execution_count": 2,
   "metadata": {},
   "outputs": [],
   "source": [
    "import numpy as np\n",
    "import matplotlib.pyplot as plt\n",
    "# set parameters given above\n",
    "n=660 #t=n*tau\n",
    "L=400\n",
    "h=1\n",
    "v_max=33\n",
    "rho_max=1\n",
    "tau=h/v_max"
   ]
  },
  {
   "cell_type": "code",
   "execution_count": null,
   "metadata": {},
   "outputs": [],
   "source": [
    "rho_list=np.zeros((n,int(L/h)+1))  #build list of rho\n",
    "\n",
    "#initial condition\n",
    "for i in range(int(L/4)+1,int(L/2)):\n",
    "    rho_list[0,i]=rho_max\n",
    "t_list=[0]"
   ]
  },
  {
   "cell_type": "code",
   "execution_count": null,
   "metadata": {},
   "outputs": [],
   "source": [
    "x_list=np.arange(0,401)"
   ]
  },
  {
   "cell_type": "code",
   "execution_count": null,
   "metadata": {},
   "outputs": [],
   "source": [
    "for i in range(1,n):\n",
    "    t_list.append(i)\n",
    "    for j in range(int(L/h)+1):\n",
    "        j_plus1=j+1\n",
    "        j_minus1=j-1\n",
    "        c=v_max*(1-2*rho_list[i-1,j]/rho_max)\n",
    "        #periodic boundary\n",
    "        if j_plus1>int(L/h):\n",
    "            j_plus1=0\n",
    "        if j_minus1<0:\n",
    "            j_minus1=int(L/h)\n",
    "        rho_list[i,j]=0.5*(rho_list[i-1,j_plus1]+rho_list[i-1,j_minus1])-(0.5*c*tau/h)*(rho_list[i-1,j_plus1]-rho_list[i-1,j_minus1])"
   ]
  },
  {
   "cell_type": "code",
   "execution_count": 6,
   "metadata": {},
   "outputs": [
    {
     "name": "stdout",
     "output_type": "stream",
     "text": [
      "Using matplotlib backend: TkAgg\n",
      "Populating the interactive namespace from numpy and matplotlib\n"
     ]
    },
    {
     "name": "stderr",
     "output_type": "stream",
     "text": [
      "c:\\工具\\python\\lib\\site-packages\\IPython\\core\\magics\\pylab.py:160: UserWarning: pylab import has clobbered these variables: ['pylab']\n",
      "`%matplotlib` prevents importing * from pylab and numpy\n",
      "  \"\\n`%matplotlib` prevents importing * from pylab and numpy\"\n"
     ]
    }
   ],
   "source": [
    "import pylab\n",
    "%pylab"
   ]
  },
  {
   "cell_type": "code",
   "execution_count": null,
   "metadata": {},
   "outputs": [],
   "source": [
    "from IPython import display\n",
    "fig = plt.figure()\n",
    "plt.ion() \n",
    "for index in range(66):\n",
    "    fig.clf()  # 清空当前Figure对象\n",
    "    xx=x_list\n",
    "    yy=rho_list[index*10]\n",
    "    ax1 = fig.add_subplot(111)\n",
    "    ax1.set_xlabel('x')\n",
    "    ax1.set_title('density of vehicles')\n",
    "    #ax1.set_xlim(150,250)                    #you can set xlim to see clearly the discontinuity\n",
    "    ax1.plot(xx,yy)\n",
    "    plt.pause(0.1)\n",
    "    #display.clear_output(wait=True)\n",
    "plt.ioff()\n",
    "plt.show()"
   ]
  },
  {
   "cell_type": "markdown",
   "metadata": {},
   "source": [
    "<font  face=Times color=darkblue size=4> Since no extra vehicles added to this period-boundary road, the total number of vehicles is constant. From the figures above, we can see the discontinuity of the initial configuration leads to a shockfront, a discontinuity in the traffic density, which propagates through the system."
   ]
  },
  {
   "cell_type": "markdown",
   "metadata": {},
   "source": [
    "## Simulation of Tsunami Waves"
   ]
  },
  {
   "cell_type": "markdown",
   "metadata": {},
   "source": [
    "### Shallow-Water Equations"
   ]
  },
  {
   "cell_type": "markdown",
   "metadata": {},
   "source": [
    "<font  face=Times color=darkblue size=4>Soving the hydrodynamic equations to describe the dynamics of tsunami waves is quite complicated, so we derive the so call shallow-water equations and then solve numerically. The figure of two-dimensional ocean is shown below.\n",
    "    <img src=\"shallow-water.jpeg\" width=\"60%\">"
   ]
  },
  {
   "cell_type": "markdown",
   "metadata": {},
   "source": [
    "<font  face=Times color=darkblue size=4> The two-dimensional shallow-water equations can be written as:\n",
    "    $$\\frac{\\partial}{\\partial t} \\begin{pmatrix} h\\\\ \\overline{u} \\end{pmatrix}=-\\frac{\\partial}{\\partial x}\\begin{pmatrix}(h-b)\\overline{u}\\\\ \\frac{1}{2}\\overline{u}^2+gh \\end{pmatrix}.$$\n",
    "    in terms of water surface h, and the averaged horizontal flow velocity $\\overline{u}$.  b is the ocean floor.\n",
    "    <br><br>We take the ocean extend from $-x_0$ to $+x_0$, with a parabolic ocean floor,\n",
    "    $$b(x)=b_0(\\frac{x^2}{x_0^2}-1).$$\n",
    "    As boundary conditions, we set $h(t,x=\\pm x_0)=0,\\overline{u}(t,x=\\rm x_0)=0.$\n",
    "    <br>We consider an initial static perturbation of Gaussian form $h(t=0,x)=h_0e^{-x^2/D^2}, \\overline{u}(t=0,x)=0$ generated by underwater earthquake.\n",
    "    <br><br> In our simulation, we took the following values, where the last colum denotes the value in units of 100 m and 1 s:\n",
    "    \\begin{equation}\n",
    "    \\begin{aligned}\n",
    "    \\\\& b_0\\quad =\\quad 1km \\quad \\ \\ \\doteq \\quad 10\n",
    "    \\\\& x_0\\quad =\\quad 10km \\quad \\doteq \\quad 100\n",
    "    \\\\& h_0\\quad =\\quad 1m \\qquad \\doteq \\quad 0.01\n",
    "    \\\\& D\\quad \\ =\\quad 1km \\ \\ \\quad \\doteq \\quad 10\n",
    "    \\\\& g\\quad \\ \\ =\\quad 10m/s^2  \\ \\ \\ \\doteq \\quad 0.1\n",
    "    \\\\& h\\quad \\ \\ =\\quad 100m \\  \\quad \\doteq \\quad 1\n",
    "    \\\\& \\tau \\quad \\ \\  =\\quad 0.3s \\ \\ \\  \\quad \\doteq \\quad 0.3\n",
    "    \\end{aligned}\n",
    "    \\end{equation}"
   ]
  },
  {
   "cell_type": "markdown",
   "metadata": {},
   "source": [
    "### Leap-Frog Method Simulation"
   ]
  },
  {
   "cell_type": "markdown",
   "metadata": {},
   "source": [
    "<font  face=Times color=darkblue size=4> General form of leap-frog method for $\\frac{\\partial u}{\\partial t}=-\\frac{\\partial F(u)}{\\partial x}$:$$u(n+1,r)=u(n-1,r)-\\frac{\\tau}{h}(F(n,r+1)-F(n,r-1)).$$\n",
    "    The scheme is not self-starting, so that (only) for the first step, from n=0 to n=1, we have to resigh other schemes, such as Lax method."
   ]
  },
  {
   "cell_type": "code",
   "execution_count": null,
   "metadata": {},
   "outputs": [],
   "source": [
    "# set parameters\n",
    "\n",
    "b0=10\n",
    "x0=100\n",
    "h0=0.01\n",
    "D=10\n",
    "g=0.1\n",
    "h=1\n",
    "tau=0.3\n",
    "\n",
    "nt=2000"
   ]
  },
  {
   "cell_type": "code",
   "execution_count": null,
   "metadata": {},
   "outputs": [],
   "source": [
    "# build arrays\n",
    "\n",
    "b_list=np.zeros(int(2*x0/h+1))\n",
    "h_list=np.zeros((nt,int(2*x0/h+1)))\n",
    "u_list=np.zeros((nt,int(2*x0/h+1)))"
   ]
  },
  {
   "cell_type": "code",
   "execution_count": null,
   "metadata": {},
   "outputs": [],
   "source": [
    "# use the boundary and initial conditions\n",
    "\n",
    "for i in range(int(2*x0/h+1)):\n",
    "    b_list[i]=b0*(np.power(i-x0,2)/np.power(100,2)-1)\n",
    "\n",
    "for i in range(nt):\n",
    "    h_list[i,0]=0   #although it is already 0, just show the complete progress\n",
    "    h_list[i,-1]=0\n",
    "    u_list[i,0]=0\n",
    "    u_list[i,-1]=0\n",
    "    \n",
    "for i in range(int(2*x0/h+1)):\n",
    "    h_list[0,i]=h0*np.exp(-np.power(i-x0,2)/np.power(D,2))\n",
    "    u_list[0,i]=0 #although it is already 0, just show the complete progress"
   ]
  },
  {
   "cell_type": "code",
   "execution_count": null,
   "metadata": {},
   "outputs": [],
   "source": [
    "# for the first step, use Lax Method which is introduced before\n",
    "for i in range(1,int(2*x0/h)):\n",
    "    c_h=u_list[0,i]\n",
    "    c_u=u_list[0,i]\n",
    "    u_list[1,i]=0.5*(u_list[0,i+1]+u_list[0,i-1])-(0.5*c_u*tau/h)*(u_list[0,i+1]-u_list[0,i-1])\n",
    "    h_list[1,i]=0.5*(h_list[0,i+1]+h_list[0,i-1])-(0.5*c_h*tau/h)*(h_list[0,i+1]-h_list[0,i-1])"
   ]
  },
  {
   "cell_type": "code",
   "execution_count": null,
   "metadata": {},
   "outputs": [],
   "source": [
    "#for the rest steps use leap-frog method\n",
    "for i in range(2,nt):\n",
    "    for j in range(1,int(2*x0/h)):\n",
    "        F_h_plus1=(h_list[i-1,j+1]-b_list[j+1])*u_list[i-1,j+1]\n",
    "        F_h_minus1=(h_list[i-1,j-1]-b_list[j-1])*u_list[i-1,j-1]\n",
    "        F_u_plus1=0.5*np.power(u_list[i-1,j+1],2)+g*h_list[i-1,j+1]\n",
    "        F_u_minus1=0.5*np.power(u_list[i-1,j-1],2)+g*h_list[i-1,j-1]\n",
    "        h_list[i,j]=h_list[i-2,j]-(tau/h)*(F_h_plus1-F_h_minus1)\n",
    "        u_list[i,j]=u_list[i-2,j]-(tau/h)*(F_u_plus1-F_u_minus1)"
   ]
  },
  {
   "cell_type": "code",
   "execution_count": null,
   "metadata": {},
   "outputs": [],
   "source": [
    "x_list=[]\n",
    "for i in range(int(2*x0/h+1)):\n",
    "    x_list.append(int(i-x0))\n",
    "t_list=[]\n",
    "for i in range(nt):\n",
    "    t_list.append(i*tau)\n",
    "    "
   ]
  },
  {
   "cell_type": "code",
   "execution_count": null,
   "metadata": {},
   "outputs": [],
   "source": [
    "fig = plt.figure()\n",
    "plt.ion() \n",
    "for index in range(200):\n",
    "    fig.clf()  # 清空当前Figure对象\n",
    "    xx=x_list\n",
    "    yy=u_list[index*10]\n",
    "    yy2=h_list[index*10]\n",
    "    ax1 = fig.add_subplot(121)\n",
    "    ax1.set_xlabel('x')\n",
    "    ax1.set_title('hotizontal velocity u')\n",
    "    ax1.plot(xx,yy)\n",
    "    ax2 = fig.add_subplot(122)\n",
    "    ax2.set_xlabel('x')\n",
    "    ax2.set_title('water surface h')\n",
    "    ax2.plot(xx,yy2)\n",
    "    plt.pause(0.1)\n",
    "    #display.clear_output(wait=True)\n",
    "plt.ioff()\n",
    "plt.show()"
   ]
  },
  {
   "cell_type": "markdown",
   "metadata": {},
   "source": [
    "<font  face=Times color=darkblue size=4> Thus, we have showed the numerical solution of shallow-water equations."
   ]
  },
  {
   "cell_type": "markdown",
   "metadata": {},
   "source": [
    "## Maxwell Equations"
   ]
  },
  {
   "cell_type": "markdown",
   "metadata": {},
   "source": [
    "<font  face=Times color=darkblue size=4> The time evolution of the fields specified by the curl equations:\n",
    "    \\begin{equation}\n",
    "    \\begin{aligned}\n",
    "    \\\\& \\frac{1}{c}\\frac{\\partial E}{\\partial t} = \\bigtriangledown \\times B -\\frac{4\\pi}{c}j\n",
    "    \\\\& \\frac{1}{c}\\frac{\\partial B}{\\partial t} = -\\bigtriangledown \\times E\n",
    "    \\end{aligned}\n",
    "    \\end{equation}\n",
    "    We choose units such that c=1,$\\tau=0.25$, and choose 30 cubes. Then, the definition of j, E, B are shown in the figures below.\n",
    "    <img src=\"def_j.jpeg\" width=\"20%\"><img src=\"def_e.jpeg\" width=\"50%\"><img src=\"def_b.jpeg\" width=\"50%\">\n",
    "    <br>As is shown:$$(\\bigtriangledown\\times E)_z=\\frac{1}{h}\\sum_{f=1}^{4}E_f$$\n",
    "    $$(\\bigtriangledown\\times B)_y=\\frac{1}{h}\\sum_{e=1}^{4}E_e$$"
   ]
  },
  {
   "cell_type": "markdown",
   "metadata": {},
   "source": [
    "### Using Yee Scheme for Numerial Solution"
   ]
  },
  {
   "cell_type": "markdown",
   "metadata": {},
   "source": [
    "<font  face=Times color=darkblue size=4> Using Staggered Grids: the variable is located on the integer grid, its first derivative is best evaluated on the half-grid and vice-versa.\n",
    "  <br> <br> The Yee Scheme is:\n",
    "    \\begin{equation}\n",
    "    \\begin{aligned}\n",
    "    \\\\& E_f(t+\\tau/2,\\vec{r})=E_f(t-\\tau/2,\\vec(r))+\\tau[\\frac{1}{h}\\sum_{ef=1}^{4}B_{ef}(t,\\vec{r})-4\\pi j_f(t,\\vec{r})]\n",
    "    \\\\& B_e(t+\\tau,\\vec{r})=B_e(t,\\vec{r})-\\frac{\\tau}{h}\\sum_{fe=1}^4E_{fe}(t+\\tau/2,\\vec{r})\n",
    "    \\end{aligned}\n",
    "    \\end{equation}\n",
    "   In the first equation, the sum is over four edges of the face f, and in the second equation, the sum is over the four faces that share the same edge.\n",
    "    <br><br> A current loop is constructed in the center of the system in the xy-plane around the central. Initially, the current is off, and no fields and charges are present. Then, we turn it on, and show the B-field in the xz-plane. At the boundary, all fields are hold fixed to vanish."
   ]
  },
  {
   "cell_type": "code",
   "execution_count": 20,
   "metadata": {},
   "outputs": [],
   "source": [
    "h=1\n",
    "tau=0.25\n",
    "nt=30\n",
    "nh=30"
   ]
  },
  {
   "cell_type": "code",
   "execution_count": 21,
   "metadata": {},
   "outputs": [],
   "source": [
    "h_list=[]\n",
    "for i in range(nh):\n",
    "    h_list.append(h*i)\n",
    "\n",
    "jx_list=np.zeros((nt,nh,nh,nh))\n",
    "jy_list=np.zeros((nt,nh,nh,nh))\n",
    "jz_list=np.zeros((nt,nh,nh,nh))\n",
    "\n",
    "#turn on the current loop\n",
    "jx_list[0,15,14,14]=-1\n",
    "jx_list[0,15,15,14]=1\n",
    "jy_list[0,14,15,14]=1\n",
    "jy_list[0,15,15,14]=-1\n",
    "\n",
    "Ex_list=np.zeros((nt,nh,nh,nh))\n",
    "Ey_list=np.zeros((nt,nh,nh,nh))\n",
    "Ez_list=np.zeros((nt,nh,nh,nh))\n",
    "\n",
    "Bx_list=np.zeros((nt,nh,nh,nh))\n",
    "By_list=np.zeros((nt,nh,nh,nh))\n",
    "Bz_list=np.zeros((nt,nh,nh,nh))"
   ]
  },
  {
   "cell_type": "code",
   "execution_count": 22,
   "metadata": {},
   "outputs": [],
   "source": [
    "for i in range(1,nt):\n",
    "    for ix in range(1,nh-1):\n",
    "        for iy in range(1,nh-1):\n",
    "            for iz in range(1,nh-1):\n",
    "                Ex_list[i,ix,iy,iz]=Ex_list[i-1,ix,iy,iz]-tau*((1/h)*(-Bz_list[i-1,ix,iy,iz]-By_list[i-1,ix,iy,iz+1]+Bz_list[i-1,ix,iy+1,iz]+By_list[i-1,ix,iy,iz])-4*np.pi*jx_list[i-1,ix,iy,iz])\n",
    "                Ey_list[i,ix,iy,iz]=Ey_list[i-1,ix,iy,iz]-tau*((1/h)*(-Bx_list[i-1,ix,iy,iz]-Bz_list[i-1,ix+1,iy,iz]+Bx_list[i-1,ix,iy,iz+1]+Bz_list[i-1,ix,iy,iz])-4*np.pi*jy_list[i-1,ix,iy,iz])\n",
    "                Ez_list[i,ix,iy,iz]=Ez_list[i-1,ix,iy,iz]-tau*((1/h)*(-By_list[i-1,ix,iy,iz]-Bx_list[i-1,ix,iy+1,iz]+By_list[i-1,ix+1,iy,iz]+Bx_list[i-1,ix,iy,iz])-4*np.pi*jz_list[i-1,ix,iy,iz]) \n",
    "                Bz_list[i,ix,iy,iz]=Bz_list[i-1,ix,iy,iz]-(tau/h)*(Ex_list[i,ix,iy-1,iz]+Ey_list[i,ix,iy,iz]-Ex_list[i,ix,iy,iz]-Ey_list[i,ix-1,iy,iz])\n",
    "                Bx_list[i,ix,iy,iz]=Bx_list[i-1,ix,iy,iz]-(tau/h)*(Ey_list[i,ix,iy,iz-1]+Ez_list[i,ix,iy,iz]-Ey_list[i,ix,iy,iz]-Ez_list[i,ix,iy-1,iz])\n",
    "                By_list[i,ix,iy,iz]=By_list[i-1,ix,iy,iz]-(tau/h)*(Ez_list[i,ix-1,iy,iz]+Ex_list[i,ix,iy,iz]-Ez_list[i,ix,iy,iz]-Ex_list[i,ix,iy,iz-1])\n",
    "                "
   ]
  },
  {
   "cell_type": "code",
   "execution_count": 23,
   "metadata": {},
   "outputs": [],
   "source": [
    "fig = plt.figure()\n",
    "plt.ion() \n",
    "for index in range(nt):\n",
    "    fig.clf()\n",
    "    ax3 = fig.add_subplot(1,2,1,projection='3d')\n",
    "    ax2 = fig.add_subplot(1,2,2,projection='3d')\n",
    "    X, Y = np.meshgrid(h_list,h_list)\n",
    "    Z=Bx_list[index,X,15,Y]\n",
    "    Z1=Bz_list[index,X,15,Y]\n",
    "    ax3.plot_surface(X,Y,Z,cmap='rainbow')\n",
    "    ax3.set_xlabel('x')\n",
    "    ax3.set_ylabel('z')\n",
    "    ax3.set_title('B_x')\n",
    "    ax2.plot_surface(X,Y,Z1,cmap='rainbow')\n",
    "    ax2.set_xlabel('x')\n",
    "    ax2.set_ylabel('z')\n",
    "    ax2.set_title('B_z')\n",
    "    plt.pause(0.1)\n",
    "    #display.clear_output(wait=True)\n",
    "plt.ioff()\n",
    "plt.show()\n",
    "\n"
   ]
  },
  {
   "cell_type": "code",
   "execution_count": null,
   "metadata": {},
   "outputs": [],
   "source": []
  },
  {
   "cell_type": "markdown",
   "metadata": {},
   "source": [
    "<font  face=Times color=darkblue size=4> "
   ]
  }
 ],
 "metadata": {
  "kernelspec": {
   "display_name": "Python 3",
   "language": "python",
   "name": "python3"
  },
  "language_info": {
   "codemirror_mode": {
    "name": "ipython",
    "version": 3
   },
   "file_extension": ".py",
   "mimetype": "text/x-python",
   "name": "python",
   "nbconvert_exporter": "python",
   "pygments_lexer": "ipython3",
   "version": "3.6.8"
  }
 },
 "nbformat": 4,
 "nbformat_minor": 4
}
