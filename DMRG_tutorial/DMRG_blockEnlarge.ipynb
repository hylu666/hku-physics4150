{
  "cells": [
    {
      "cell_type": "markdown",
      "metadata": {
        "id": "qgDkpOWsmfkI"
      },
      "source": [
        "# DMRG Test: Block Growth Version"
      ]
    },
    {
      "cell_type": "markdown",
      "metadata": {
        "id": "eQTBQ90omfkK"
      },
      "source": [
        "Edited by [Song Menghan](https://quantummc.xyz/members/menghan-song/), Aug.2022.\n",
        "\n",
        "This is a notebook for a simple traditional DMRG algorithm with block growth method. The code shown in this notebook is adapted from Garrison and Mishmash in the [simple-dmrg website](https://simple-dmrg.readthedocs.io/en/latest/).  \n",
        "\n",
        "For further information, one can read the following two review articles by Malvezzi  [arXiv:cond-mat/0304375](https://arxiv.org/abs/cond-mat/0304375v1) and Schollwoeck [arXiv:1008.3477](https://arxiv.org/abs/1008.3477v2)."
      ]
    },
    {
      "cell_type": "markdown",
      "metadata": {
        "id": "HOEAauKqmfkK"
      },
      "source": [
        "## 1. Introduction\n",
        "\n",
        "### 1.1 Background\n",
        "The core idea behind the DMRG is to find a way in which one can increase the system size without increasing the Hilbert space. \n",
        "\n",
        "This is typically done in two steps:\n",
        "\n",
        "$\\bullet $ Construct large systems from samll systems by gradually increase the system size. So far, the Hilbert space grows exponentially and we have not improved anything.\n",
        "\n",
        "$\\bullet $ Truncate the Hilbert space to a certain value, keeping its size invariant when more sites are added.\n",
        "\n",
        "Here two key steps are in order:\n",
        "\n",
        "$\\bullet$ How to enlarge the system?\n",
        "\n",
        "$\\bullet$ What is the criterion to truncate the Hilbert space?\n"
      ]
    },
    {
      "cell_type": "markdown",
      "metadata": {
        "id": "zMO6gvc7mfkL"
      },
      "source": [
        "### 1.2 Procedure\n",
        "To start with, we consider a single site which is described by the state $d_i (i=1,...,D)$. Define a block $B(l,m)$ consist $l$ sites and $H_B$ denotes the Hamiltonion of length $l$ chain <font color=red> [please explain explicitly what is $H_B$ (Heisenberg model?)]</span>. \n",
        "\n",
        "$m$ is the dimension of the basis in which we represent the operators of the block (If we do nothing, $m=D^{L}$). \n",
        "\n",
        "The block is then grown by adding a site to it, forming an enlarged block, $B^{e}$. Denote $\\left | b_1  \\right \\rangle ...\\left | b_m  \\right \\rangle $ and $\\left | d_1  \\right \\rangle ...\\left | d_D  \\right \\rangle $ the basis of the block and the additional site, the basis of the enlarged block is their direct product,\n",
        "\n",
        "$$\n",
        "\\left | b_k^{e}  \\right \\rangle=\\left | b_i  \\right \\rangle \\otimes \\left | d_j  \\right \\rangle,\n",
        "$$\n",
        "<font color=red> [please explain what are the meanings of super/subscript e, k, i and j ?]</span>\n",
        "\n",
        "and thus the dimension of the Hilbert space for $B^{e}$ is the product of that for $B(l,m)$ and a site, $i.e. m\\times D$."
      ]
    },
    {
      "cell_type": "markdown",
      "metadata": {
        "id": "kSXkUBWTmfkL"
      },
      "source": [
        "The next step is to form the superblock which consists of two enlarged blocks connected to each other. \n",
        "\n",
        "<font color=red> [can we add a simple figure here with two blocks on each side and two dots in the center?]</span>\n",
        "<br/><br/>\n",
        "\n",
        "### 1.3 OBC of infinite chain\n",
        "This sample code considers the open boundary conditions (OBC) and aims to compute the ground state energy of an infinite chain. \n",
        "\n",
        "For infinite chain algorithm, the superblock is formed by connecting the enlarged block $B_{e}$ and its replica(reflected) $B_{e}^{'}$ together. Compute the Hamiltonian of the superblock and diagonalize it to find its ground state energy and wavefunction,\n",
        "\n",
        "$$\n",
        "\\left | \\Psi_{gs} \\right \\rangle =\\sum_{i=1}^{m\\times D}\\sum_{j=1}^{m\\times D} a_{i,j}\\left | b_{i}^{e} \\right \\rangle\\otimes \\left | b_j^{'e} \\right \\rangle,\n",
        "$$\n",
        "\n",
        "which is written in a basis that is the tensor product of the system(e.g. left enlarged block) and the environment(e.g. right replica). We can further compute the density matrix of the system,\n",
        "\n",
        "$$\n",
        "\\rho _{i,i^{'}}=\\sum_{j=1}^{m\\times D}a_{i,j}a_{i^{'},j}^{*} .\n",
        "$$\n",
        "\n",
        "**In statistic mechanics, density matrix tells us which states of the system contribute the most to the above ground state**. \n",
        "\n",
        "The density matrix has the same dimension and block-diagonal structure of $H_e$, for the enlarged block. Let's denote \n",
        "\n",
        "$\\left | u_{a} \\right \\rangle$ the eigenvectors \n",
        "\n",
        "and \n",
        "\n",
        "$w_{a}(a=1,...,m\\times D)$ the eigenvalues of $\\rho$, \n",
        "\n",
        "then $\\sum_{a}w_a =1$ with $w_a$ is the probability of the system being in the state $\\left | u_{a} \\right \\rangle$ when the system is at the ground state $\\left | \\Psi_{gs} \\right \\rangle$.\n",
        "<br/><br/>\n",
        "\n",
        "### 1.4 Reduced density matrix\n",
        "\n",
        "The structure of the density matrix hints that one can keep only the most relevant states (with the largest few $w_{a}$) to describe the system at the ground states, which reduces the exponentially large Hilbert space into a fixed size. To make an optimal choice, we need to order the state $\\left | u_{a} \\right \\rangle$ by their eigenvalues $w_{a}$ in a decending order and we only use the largest $m$ eigenvectors as a new reduced basis to describe $B_e$. Now the enlarged block is interpreted as $B_e (l+1,m)$ instead of $B_e (l+1,m\\times D)$. \n",
        "\n",
        "Since we adapts a new basis for $B_e$. We need to rotate the operators into the new basis. For example, the Hamiltonian is transformed as,\n",
        "\n",
        "$$\n",
        "H_{B(l+1,m)}=OH_{e}O^{\\dagger},\n",
        "$$\n",
        "\n",
        "where the rows of the $(m,(m\\times D))$ matrix $O$ are the selected  $\\left | u_{a} \\right \\rangle$. Again, we clearly see that the Hilbert space size is cut back to $m$. \n",
        "\n",
        "<font color=red> [can we add a simple figure here with the dimension of the arrays indicated?]\n",
        "$$\n",
        "\\begin{pmatrix}\n",
        "1 & 2 \\\\\n",
        "4 & 5 \n",
        "\\end{pmatrix}=\n",
        "\\begin{pmatrix}\n",
        "1 & 2 & 3\\\\\n",
        "4 & 5 & 6\n",
        "\\end{pmatrix}\n",
        "\\begin{pmatrix}\n",
        "4 & 5 & 6\\\\ \n",
        "7 & 8 & 9 \\\\\n",
        "10 & 11 & 12 \\\\\n",
        "\\end{pmatrix}\n",
        "\\begin{pmatrix}\n",
        "4 & 5 \\\\ \n",
        "7 & 8  \\\\\n",
        "10 & 11 \\\\\n",
        "\\end{pmatrix}\n",
        "$$\n",
        "\n",
        "</span>\n",
        "\n",
        "Then we continue add a site to the exsisting block and repeat the routine. We are able to reach a large system size since the Hilbert space size has a ceiling $m$. See whether the ground state energy of the superblock converges. If so, we successfully approximate the thermal dynamic limit.\n"
      ]
    },
    {
      "cell_type": "markdown",
      "metadata": {
        "id": "6OMDjHsImfkM"
      },
      "source": [
        "## 2. Sample code"
      ]
    },
    {
      "cell_type": "code",
      "execution_count": 1,
      "metadata": {
        "id": "qAW5uSBcmfkN"
      },
      "outputs": [],
      "source": [
        "from __future__ import print_function, division  \n",
        "import numpy as np\n",
        "from scipy.sparse import kron, identity\n",
        "from scipy.sparse.linalg import eigsh  # Lanczos routine from ARPACK\n",
        "from collections import namedtuple"
      ]
    },
    {
      "cell_type": "code",
      "execution_count": 2,
      "metadata": {
        "id": "TRMVJcxzmfkO"
      },
      "outputs": [],
      "source": [
        "Block = namedtuple(\"Block\", [\"length\", \"basis_size\", \"operator_dict\"])\n",
        "EnlargedBlock = namedtuple(\"EnlargedBlock\", [\"length\", \"basis_size\", \"operator_dict\"])\n",
        "\n",
        "model_d = 2 # single site basis for spin-1/2\n"
      ]
    },
    {
      "cell_type": "code",
      "execution_count": 3,
      "metadata": {
        "id": "7Qvbb3Z0mfkO"
      },
      "outputs": [],
      "source": [
        "def is_valid_block(block):\n",
        "    for op in block.operator_dict.values():\n",
        "        if op.shape[0] != block.basis_size or op.shape[1] != block.basis_size:\n",
        "            return False\n",
        "    return True\n",
        "is_valid_enlarged_block = is_valid_block"
      ]
    },
    {
      "cell_type": "code",
      "execution_count": 5,
      "metadata": {
        "id": "DbCX9agvmfkP"
      },
      "outputs": [],
      "source": [
        "def GetSpinOp(spin):\n",
        "    '''\n",
        "    Given a spin quantum number\n",
        "    return various spin operators and one site H\n",
        "    '''\n",
        "    Jp = lambda j,m: np.sqrt(j*(j+1)-m*(m+1))\n",
        "    Jm = lambda j,m: np.sqrt(j*(j+1)-m*(m-1))\n",
        "    \n",
        "    Mdim = int(2*spin+1)\n",
        "    \n",
        "    Sz = np.zeros((Mdim,Mdim))\n",
        "    Sp = np.zeros((Mdim,Mdim))\n",
        "    Sm = np.zeros((Mdim,Mdim))\n",
        "    \n",
        "    for ii in range(Mdim):\n",
        "        sm = spin-ii\n",
        "        Sz[ii,ii]= sm\n",
        "        if ii > 0:\n",
        "            Sp[ii-1,ii]=Jp(spin,sm)\n",
        "        if ii < 2*spin:\n",
        "            Sm[ii+1,ii]=Jm(spin,sm)\n",
        "    Sx = (Sp+Sm)/2\n",
        "    Sy = (Sp-Sm)/(2j)\n",
        "    \n",
        "    H1 = np.zeros((Mdim,Mdim))\n",
        "    \n",
        "    return Sz,Sp,H1"
      ]
    },
    {
      "cell_type": "code",
      "execution_count": 6,
      "metadata": {
        "scrolled": true,
        "id": "imCoWXDFmfkP",
        "outputId": "19b30d9c-ba94-495c-ed9d-f10a604175c9",
        "colab": {
          "base_uri": "https://localhost:8080/"
        }
      },
      "outputs": [
        {
          "output_type": "execute_result",
          "data": {
            "text/plain": [
              "(array([[ 0.5,  0. ],\n",
              "        [ 0. , -0.5]]), array([[0., 1.],\n",
              "        [0., 0.]]), array([[0., 0.],\n",
              "        [0., 0.]]))"
            ]
          },
          "metadata": {},
          "execution_count": 6
        }
      ],
      "source": [
        "Sz1,Sp1,H1 = GetSpinOp(1/2)\n",
        "Sz1,Sp1,H1"
      ]
    },
    {
      "cell_type": "markdown",
      "metadata": {
        "id": "YW_Ju22tmfkQ"
      },
      "source": [
        "Adding a site to the block, compute the enlarged H as follows:\n",
        "$$\n",
        "H_e=H_B\\otimes I_d+\\frac{J}{2}(S_b^{+}\\otimes S_d^{-}+S_b^{-}\\otimes S_d^{+})+J_z S_b^{z}\\otimes S_d^{z},\n",
        "$$\n",
        "\n",
        "considering the internal block part and the interaction part with a new spin."
      ]
    },
    {
      "cell_type": "code",
      "execution_count": 7,
      "metadata": {
        "id": "ytG0pKOpmfkQ"
      },
      "outputs": [],
      "source": [
        "def H2(Sz1, Sp1, Sz2, Sp2):  # two-site part of the enlarged H\n",
        "    \"\"\"\n",
        "    Given the operators S^z and S^+ on two sites in different Hilbert spaces\n",
        "    (e.g. two blocks), returns a Kronecker product representing the\n",
        "    corresponding two-site term in the Hamiltonian that joins the two sites.\n",
        "    \"\"\"\n",
        "    J = Jz = 1.\n",
        "    TwoSiteH = (J/2)*(kron(Sp1,Sp2.conjugate().transpose())+kron(Sp1.conjugate().transpose(),Sp2))\\\n",
        "    +Jz*kron(Sz1, Sz2)\n",
        "    \n",
        "    return TwoSiteH\n"
      ]
    },
    {
      "cell_type": "code",
      "execution_count": 8,
      "metadata": {
        "id": "JjtsyW_jmfkR"
      },
      "outputs": [],
      "source": [
        "initial_block = Block(length=1, basis_size=model_d, operator_dict={\n",
        "    \"H\": H1,\n",
        "    \"conn_Sz\": Sz1,\n",
        "    \"conn_Sp\": Sp1,})\n",
        "\n",
        "# conn refers to the connection operator, that is, the operator on the edge of\n",
        "# the block, on the interior of the chain.  We need to be able to represent S^z\n",
        "# and S^+ on that site in the current basis in order to grow the chain."
      ]
    },
    {
      "cell_type": "code",
      "execution_count": 9,
      "metadata": {
        "id": "vChLFKUNmfkR",
        "outputId": "c7d6ada1-688f-4363-a3ee-6a913b447045",
        "colab": {
          "base_uri": "https://localhost:8080/"
        }
      },
      "outputs": [
        {
          "output_type": "execute_result",
          "data": {
            "text/plain": [
              "Block(length=1, basis_size=2, operator_dict={'H': array([[0., 0.],\n",
              "       [0., 0.]]), 'conn_Sz': array([[ 0.5,  0. ],\n",
              "       [ 0. , -0.5]]), 'conn_Sp': array([[0., 1.],\n",
              "       [0., 0.]])})"
            ]
          },
          "metadata": {},
          "execution_count": 9
        }
      ],
      "source": [
        "initial_block"
      ]
    },
    {
      "cell_type": "markdown",
      "metadata": {
        "id": "C4aTK-5omfkR"
      },
      "source": [
        "Together with the Block Hamiltonian $H_b$, we need to present the spin operators of the rightmost site of the $\\mathbf{enlarged}$ block in the basis of the enlarged block (basis with one more site added). For example, the spin-1/2 $S_z$ transforms as:\n",
        "$$\n",
        "(S_r^{z})_e = I_b\\otimes S_d^{z}=I_b\\otimes \\begin{bmatrix}\n",
        " 0.5 & 0 \\\\\n",
        " 0 & -0.5\n",
        "\\end{bmatrix}\n",
        "$$\n",
        ", where $I_b$ is the identity matrix of the block Hilbert space, $S_d^{z}$ is the $S_z$ operator for the righmost site."
      ]
    },
    {
      "cell_type": "code",
      "execution_count": 10,
      "metadata": {
        "id": "r0NCLoWgmfkS"
      },
      "outputs": [],
      "source": [
        "def enlarge_block(block):\n",
        "    \"\"\"\n",
        "    Enlarges the block by adding one site\n",
        "    Return the Enlarged block\n",
        "    \"\"\"\n",
        "    mblock = block.basis_size\n",
        "    o = block.operator_dict\n",
        "\n",
        "    # Create the new operators for the enlarged block.  Our basis becomes a\n",
        "    # Kronecker product of the Block basis and the single-site basis.  NOTE:\n",
        "    # `kron` uses the tensor product convention making blocks of the second\n",
        "    # array scaled by the first.  As such, we adopt this convention for\n",
        "    # Kronecker products throughout the code.\n",
        "    enlarged_operator_dict = {\n",
        "        \"H\": kron(o[\"H\"], identity(model_d)) + kron(identity(mblock), H1) + H2(o[\"conn_Sz\"], o[\"conn_Sp\"], Sz1, Sp1),\n",
        "        \"conn_Sz\": kron(identity(mblock), Sz1),\n",
        "        \"conn_Sp\": kron(identity(mblock), Sp1),\n",
        "    }\n",
        "\n",
        "    return EnlargedBlock(length=(block.length + 1),\n",
        "                         basis_size=(block.basis_size * model_d),\n",
        "                         operator_dict=enlarged_operator_dict)"
      ]
    },
    {
      "cell_type": "code",
      "execution_count": 11,
      "metadata": {
        "id": "DJzAZELgmfkS"
      },
      "outputs": [],
      "source": [
        "def ChangeBasis(operator,trans_mat):\n",
        "    '''\n",
        "    Transform the operator into the truncated basis with trans_mat\n",
        "    '''\n",
        "    op_new = trans_mat.conjugate().transpose().dot(operator.dot(trans_mat))\n",
        "    return op_new\n",
        "    "
      ]
    },
    {
      "cell_type": "markdown",
      "metadata": {
        "id": "c0ie580hmfkS"
      },
      "source": [
        "Here we define a single DMRG step with one site added. \n",
        "\n",
        "Note that the formation of the superblock Hamiltonian is similar to that for $H_e$. They both consist three parts: Hamiltonian for both enlarged block (in the construction for $H_e$, one can regard the additional site as a right block with a single site Hamiltonion which is zero) and the interaction between the connecting sites.\n",
        "\n",
        "$$\n",
        "H_s=H_e\\otimes I_e^{'}+I_e \\otimes H_e^{'}+\\frac{J}{2}((S_r^{+})_e \\otimes (S_r^{-})_{e}^{'}+(S_r^{-})_e\\otimes (S_r^{+})_e^{'})+J_z (S_r^{z})_e\\otimes (S_r^{z})_e^{'},\n",
        "$$\n",
        "\n",
        "where the subscript $r$ means the rightmost site of the block, and $'$ stands for the replica enlarged block.\n",
        "\n",
        "We sum up the eigenvalues of the discarded eigenstates $(1-\\sum_{a=1}^{m}w_a)$ as the measure for the truncation error. In many cases, this number is roughly proportional to the error in the energy. "
      ]
    },
    {
      "cell_type": "code",
      "execution_count": 13,
      "metadata": {
        "id": "l0BkUoMDmfkS"
      },
      "outputs": [],
      "source": [
        "def single_dmrg_step(sys,env,mm):\n",
        "    '''\n",
        "    single DMRG step with the maximum truncation mm, mm states in the new basis\n",
        "    '''\n",
        "    assert is_valid_block(sys)\n",
        "    assert is_valid_block(env) #check whether the block is legal\n",
        "    \n",
        "    sys_enl = enlarge_block(sys)\n",
        "    \n",
        "    if sys is env: #if they are same, not need to compute again\n",
        "        env_enl = sys_enl\n",
        "    else:\n",
        "        env_enl = enlarge_block(env)\n",
        "    \n",
        "    assert is_valid_enlarged_block(sys_enl)\n",
        "    assert is_valid_enlarged_block(env_enl) #check whether enl_block is legal\n",
        "    \n",
        "    #construct the superblock Hamiltonian.\n",
        "    m_sys_enl = sys_enl.basis_size\n",
        "    m_env_enl = env_enl.basis_size\n",
        "    sys_enl_op = sys_enl.operator_dict\n",
        "    env_enl_op = env_enl.operator_dict\n",
        "    superblock_H = kron(sys_enl_op[\"H\"],identity(m_env_enl))\\\n",
        "                  +kron(identity(m_sys_enl), env_enl_op[\"H\"])\\\n",
        "                  +H2(sys_enl_op[\"conn_Sz\"], sys_enl_op[\"conn_Sp\"], env_enl_op[\"conn_Sz\"], env_enl_op[\"conn_Sp\"])\n",
        "    \n",
        "    #find the superblock ground state. \n",
        "    #'SA' means find the 'smallest in amplitude' eig_value\n",
        "    #|psi0> = sigma{i}sigma{j}: a(i,j)|bi>|bj>\n",
        "    #|bi>, |bj> are the basis of the sys and env\n",
        "    #reshape the eigenvector such that (row,colum) corresponds to (sys,env)\n",
        "    #Now, the matrix elements of psi0 are a(i,j)\n",
        "    #rho is the density matrix\n",
        "    (energy,), psi0 = eigsh(superblock_H, k=1, which=\"SA\")\n",
        "    psi0 = psi0.reshape([sys_enl.basis_size, -1], order=\"C\")\n",
        "    rho = np.dot(psi0,psi0.conjugate().transpose())\n",
        "    \n",
        "    evals,evecs = np.linalg.eigh(rho)\n",
        "    possible_eigenstates = []\n",
        "    for eig_val, eig_vec in zip(evals, evecs.transpose()):\n",
        "        possible_eigenstates.append((eig_val, eig_vec))\n",
        "    possible_eigenstates.sort(reverse=True, key=lambda x: x[0])  # largest eigenvalue first\n",
        "\n",
        "    #Based on the truncation 'mm', compute trans_mat\n",
        "    my_m = min(len(possible_eigenstates),mm)\n",
        "    trans_mat = np.zeros((sys_enl.basis_size, my_m), dtype='d', order='F')\n",
        "    for i,(eig_val,eig_vec) in enumerate(possible_eigenstates[:my_m]):\n",
        "        trans_mat[:,i] = eig_vec\n",
        "    \n",
        "    truncation_error = 1 - sum([x[0] for x in possible_eigenstates[:my_m]])\n",
        "    print(\"truncation error:\", truncation_error)\n",
        "    \n",
        "    #change the basis for each operator\n",
        "    new_operator_dict={}\n",
        "    for name, op in sys_enl.operator_dict.items():\n",
        "        new_operator_dict[name] = ChangeBasis(op,trans_mat)\n",
        "    \n",
        "    newblock = Block(length=sys_enl.length,\n",
        "                     basis_size=my_m,\n",
        "                     operator_dict=new_operator_dict)\n",
        "    \n",
        "    return newblock, energy\n",
        "    \n",
        "    \n",
        "    \n",
        "    "
      ]
    },
    {
      "cell_type": "markdown",
      "metadata": {
        "id": "KZuya86nmfkT"
      },
      "source": [
        "### 2.1 Infinite system algorithm"
      ]
    },
    {
      "cell_type": "code",
      "execution_count": 14,
      "metadata": {
        "id": "hp-FBdNnmfkT"
      },
      "outputs": [],
      "source": [
        "def infinite_system(L,mm):\n",
        "    block = initial_block\n",
        "    #keep growing the block\n",
        "    #let the right block = left block, i.e. env=sys\n",
        "    while 2*block.length<L:\n",
        "        #1st step, grow 1 to 2 sites, hence 4 sites in superblock\n",
        "        print('L =',block.length*2 + 2) \n",
        "        block, energy = single_dmrg_step(block, block, mm)\n",
        "        print('E/L =', energy/(block.length*2))\n"
      ]
    },
    {
      "cell_type": "code",
      "execution_count": 15,
      "metadata": {
        "id": "-1kNNkXwmfkT"
      },
      "outputs": [],
      "source": [
        "def Run_infinite(L):\n",
        "    if __name__ == \"__main__\":\n",
        "        np.set_printoptions(precision=10, suppress=True, threshold=10000, linewidth=300)\n",
        "        infinite_system(L, mm=20)\n",
        "        \n",
        "        "
      ]
    },
    {
      "cell_type": "code",
      "execution_count": 16,
      "metadata": {
        "id": "aUhB-OqMmfkT",
        "outputId": "d7a262f8-60a6-4100-90f7-deb3e090ad82",
        "colab": {
          "base_uri": "https://localhost:8080/"
        }
      },
      "outputs": [
        {
          "output_type": "stream",
          "name": "stdout",
          "text": [
            "L = 4\n",
            "truncation error: -4.440892098500626e-16\n",
            "E/L = -0.4040063509461094\n",
            "L = 6\n",
            "truncation error: 3.3306690738754696e-16\n",
            "E/L = -0.41559618898132095\n",
            "L = 8\n",
            "truncation error: 2.220446049250313e-16\n",
            "E/L = -0.42186657483598666\n",
            "L = 10\n",
            "truncation error: 9.166301051521941e-11\n",
            "E/L = -0.42580352072828853\n",
            "L = 12\n",
            "truncation error: 3.1294844493601204e-10\n",
            "E/L = -0.4285075524242812\n",
            "L = 14\n",
            "truncation error: 1.6584675854858233e-09\n",
            "E/L = -0.4304803311837219\n",
            "L = 16\n",
            "truncation error: 4.333193359684628e-09\n",
            "E/L = -0.43198356451228404\n",
            "L = 18\n",
            "truncation error: 1.0037189857037276e-08\n",
            "E/L = -0.4331672644472634\n",
            "L = 20\n",
            "truncation error: 1.8536259638324282e-08\n",
            "E/L = -0.4341236316813933\n",
            "L = 22\n",
            "truncation error: 3.338432952304515e-08\n",
            "E/L = -0.43491247896381285\n",
            "L = 24\n",
            "truncation error: 4.786561780267817e-08\n",
            "E/L = -0.4355743093654312\n",
            "L = 26\n",
            "truncation error: 7.762831222279942e-08\n",
            "E/L = -0.436137536172096\n",
            "L = 28\n",
            "truncation error: 9.409576695595945e-08\n",
            "E/L = -0.4366226762361586\n",
            "L = 30\n",
            "truncation error: 1.4473940113113315e-07\n",
            "E/L = -0.4370449255351589\n",
            "L = 32\n",
            "truncation error: 1.5656966401156325e-07\n",
            "E/L = -0.43741576747851624\n",
            "L = 34\n",
            "truncation error: 2.3367886459180198e-07\n",
            "E/L = -0.4377440583858044\n",
            "L = 36\n",
            "truncation error: 2.3328573983683043e-07\n",
            "E/L = -0.4380367172658704\n",
            "L = 38\n",
            "truncation error: 3.4174925200858297e-07\n",
            "E/L = -0.4382992548529166\n",
            "L = 40\n",
            "truncation error: 3.2169359698297484e-07\n",
            "E/L = -0.43853608211590556\n",
            "L = 42\n",
            "truncation error: 4.6558344413138997e-07\n",
            "E/L = -0.43875081060410875\n",
            "L = 44\n",
            "truncation error: 4.1916707416156385e-07\n",
            "E/L = -0.4389463797606247\n",
            "L = 46\n",
            "truncation error: 6.01732554450507e-07\n",
            "E/L = -0.43912525917425876\n",
            "L = 48\n",
            "truncation error: 5.2325164179301e-07\n",
            "E/L = -0.43928947807534674\n",
            "L = 50\n",
            "truncation error: 7.46972479315211e-07\n",
            "E/L = -0.4394407867202406\n",
            "L = 52\n",
            "truncation error: 6.317749935424999e-07\n",
            "E/L = -0.4395806262708661\n",
            "L = 54\n",
            "truncation error: 8.984404492595743e-07\n",
            "E/L = -0.43971027616427205\n",
            "L = 56\n",
            "truncation error: 7.428809212228771e-07\n",
            "E/L = -0.4398307834790991\n",
            "L = 58\n",
            "truncation error: 1.0536764584179181e-06\n",
            "E/L = -0.43994310943177684\n",
            "L = 60\n",
            "truncation error: 8.550227981185543e-07\n",
            "E/L = -0.44004802866025605\n",
            "L = 62\n",
            "truncation error: 1.2106151282553768e-06\n",
            "E/L = -0.4401462813458196\n",
            "L = 64\n",
            "truncation error: 9.669377561971615e-07\n",
            "E/L = -0.4402384486578021\n",
            "L = 66\n",
            "truncation error: 1.3675537893220735e-06\n",
            "E/L = -0.440325113593548\n",
            "L = 68\n",
            "truncation error: 1.0776131865730676e-06\n",
            "E/L = -0.4404067166905809\n",
            "L = 70\n",
            "truncation error: 1.5231112393543356e-06\n",
            "E/L = -0.4404837268529639\n",
            "L = 72\n",
            "truncation error: 1.1862518612959505e-06\n",
            "E/L = -0.44055648028343086\n",
            "L = 74\n",
            "truncation error: 1.6761847464463742e-06\n",
            "E/L = -0.4406253615586218\n",
            "L = 76\n",
            "truncation error: 1.2922388360481207e-06\n",
            "E/L = -0.44069062807148857\n",
            "L = 78\n",
            "truncation error: 1.8259090707184455e-06\n",
            "E/L = -0.4407526010566441\n",
            "L = 80\n",
            "truncation error: 1.395111521640402e-06\n",
            "E/L = -0.44081147742597027\n",
            "L = 82\n",
            "truncation error: 1.9716193249141867e-06\n",
            "E/L = -0.44086753013571445\n",
            "L = 84\n",
            "truncation error: 1.494533426238398e-06\n",
            "E/L = -0.44092090902742564\n",
            "L = 86\n",
            "truncation error: 2.1128181804108692e-06\n",
            "E/L = -0.4409718497658886\n",
            "L = 88\n",
            "truncation error: 1.5902715710947035e-06\n",
            "E/L = -0.44102046510263054\n",
            "L = 90\n",
            "truncation error: 2.2491474302999137e-06\n",
            "E/L = -0.4410669615394034\n",
            "L = 92\n",
            "truncation error: 1.6821772953479197e-06\n",
            "E/L = -0.44111142228039846\n",
            "L = 94\n",
            "truncation error: 2.3803636524100114e-06\n",
            "E/L = -0.44115403075535065\n",
            "L = 96\n",
            "truncation error: 1.7701700645300633e-06\n",
            "E/L = -0.44119484640213164\n",
            "L = 98\n",
            "truncation error: 2.5063175123074544e-06\n",
            "E/L = -0.44123403419570534\n",
            "L = 100\n",
            "truncation error: 1.854223981245795e-06\n",
            "E/L = -0.44127163429559924\n"
          ]
        }
      ],
      "source": [
        "Run_infinite(L=100)"
      ]
    },
    {
      "cell_type": "markdown",
      "metadata": {
        "id": "3CfS_NR0mfkU"
      },
      "source": [
        "### 2.2 Finite system algorithm"
      ]
    },
    {
      "cell_type": "markdown",
      "metadata": {
        "id": "1-nr_dnsmfkU"
      },
      "source": [
        "In this fintie system algorithm, we aims to simulate the finite chain with length L precisely instead of reaching the thermal dynamic limit. Therefore, we need to grow the block to our required length, fix it and we do sweeps to equilibrate the chain. The overall procedure is listed below:\n",
        "1. First use the infinite size algorithm until the superblock size reaches the chain size L under investigation. After every truncation save all operators of the reduced block to disk.\n",
        "2. Denote the length of the system block by $l$. Load the environment block of size $L − l − 2$ from disk, this is the right block.\n",
        "3. Call single_dmrg_step with inputs sys and env which are save in the disk. Then, the system block's length increases by one, $l\\to l+1$.\n",
        "4. Continue step 2 and 3 untill the environment block becomes a single site.\n",
        "5. Then reverse the system and the environment, do step 4 untill energy converges.\n"
      ]
    },
    {
      "cell_type": "code",
      "execution_count": 22,
      "metadata": {
        "id": "RlLrzofjmfkU"
      },
      "outputs": [],
      "source": [
        "def graphic(sys_block, env_block, sys_label=\"l\"):\n",
        "    \"\"\"This is a graphic representation of the block,\n",
        "    =: stands for the system\n",
        "    -: stands for the environment\n",
        "    **: stands for the intermedium two sites\n",
        "    \"\"\"\n",
        "    assert sys_label in (\"l\", \"r\")\n",
        "    graphic = (\"=\" * sys_block.length) + \"**\" + (\"-\" * env_block.length)\n",
        "    if sys_label == \"r\":\n",
        "        # The system should be on the right and the environment should be on\n",
        "        # the left, so reverse the graphic.\n",
        "        graphic = graphic[::-1]\n",
        "    return graphic"
      ]
    },
    {
      "cell_type": "code",
      "execution_count": 23,
      "metadata": {
        "id": "MbudXHMFmfkU"
      },
      "outputs": [],
      "source": [
        "def finite_system_algorithm(L, m_warmup, m_sweep_list):\n",
        "    '''\n",
        "    This function print the process of sweeps and return the ground state energy of the finite system.\n",
        "    A sweep goes as:\n",
        "    ====**---- >> ======**-- >> -------**= >> --**====== >> =**------- >> ====**----\n",
        "    \n",
        "    L: system length\n",
        "    m_warmup: the truncation length used for growing the system to length L\n",
        "    m_sweep_list: a list contains different 'mm' for consideration.\n",
        "    '''\n",
        "    assert L % 2 == 0  # require that L is an even number\n",
        "\n",
        "    # To keep things simple, this dictionary is not actually saved to disk, but\n",
        "    # we use it to represent persistent storage.\n",
        "    block_disk = {}  # \"disk\" storage for Block objects\n",
        "\n",
        "    # Use the infinite system algorithm to build up to desired size.  Each time\n",
        "    # we construct a block, we save it for future reference as both a left\n",
        "    # (\"l\") and right (\"r\") block, as the infinite system algorithm assumes the\n",
        "    # environment is a mirror image of the system.\n",
        "    block = initial_block\n",
        "    block_disk[\"l\", block.length] = block\n",
        "    block_disk[\"r\", block.length] = block\n",
        "    while 2 * block.length < L:\n",
        "        # Perform a single DMRG step and save the new Block to \"disk\"\n",
        "        # grow block size to L/2 and now the system is L/2 -2 \n",
        "        print(graphic(block, block))\n",
        "        block, energy = single_dmrg_step(block, block, mm=m_warmup)\n",
        "        print(\"E/L =\", energy / (block.length * 2))\n",
        "        block_disk[\"l\", block.length] = block\n",
        "        block_disk[\"r\", block.length] = block\n",
        "\n",
        "    # Now that the system is built up to its full size, we perform sweeps using\n",
        "    # the finite system algorithm.  At first the left block will act as the\n",
        "    # system, growing at the expense of the right block (the environment), but\n",
        "    # once we come to the end of the chain these roles will be reversed.\n",
        "    sys_label, env_label = \"l\", \"r\"\n",
        "    sys_block = block; del block  # rename the variable\n",
        "    for mm in m_sweep_list:\n",
        "        while True:\n",
        "            # Load the appropriate environment block from \"disk\"\n",
        "            env_block = block_disk[env_label, L - sys_block.length - 2]\n",
        "            if env_block.length == 1:\n",
        "                # We've come to the end of the chain, so we reverse course.\n",
        "                sys_block, env_block = env_block, sys_block\n",
        "                sys_label, env_label = env_label, sys_label\n",
        "\n",
        "            # Perform a single DMRG step.\n",
        "            print(graphic(sys_block, env_block, sys_label))\n",
        "            sys_block, energy = single_dmrg_step(sys_block, env_block, mm=mm)\n",
        "\n",
        "            print(\"E/L =\", energy / L)\n",
        "\n",
        "            # Save the block from this step to disk.\n",
        "            block_disk[sys_label, sys_block.length] = sys_block\n",
        "\n",
        "            # Check whether we just completed a full sweep.\n",
        "            if sys_label == \"l\" and 2 * sys_block.length == L:\n",
        "                break  # escape from the \"while True\" loop"
      ]
    },
    {
      "cell_type": "code",
      "execution_count": 24,
      "metadata": {
        "id": "bFBB39wKmfkV"
      },
      "outputs": [],
      "source": [
        "def Run_finite(L):\n",
        "    if __name__ == \"__main__\":\n",
        "        np.set_printoptions(precision=10, suppress=True, threshold=10000, linewidth=300)\n",
        "\n",
        "        finite_system_algorithm(L, m_warmup=10, m_sweep_list=[20])"
      ]
    },
    {
      "cell_type": "code",
      "execution_count": 25,
      "metadata": {
        "scrolled": true,
        "id": "lT5xzCLrmfkV",
        "outputId": "bc7d6e26-aeb5-492d-9b5a-eb3b1bff31a0",
        "colab": {
          "base_uri": "https://localhost:8080/"
        }
      },
      "outputs": [
        {
          "output_type": "stream",
          "name": "stdout",
          "text": [
            "=**-\n",
            "truncation error: -4.440892098500626e-16\n",
            "E/L = -1.161437827766148\n",
            "==**--\n",
            "truncation error: 0.0009637667328763477\n",
            "E/L = -1.2283791615707664\n",
            "===**---\n",
            "truncation error: 0.00023686234322362054\n",
            "E/L = -1.2638894710278605\n",
            "====**----\n",
            "truncation error: 0.0022339429937699995\n",
            "E/L = -1.287443479918379\n",
            "=====**---\n",
            "truncation error: 4.7292809124410695e-07\n",
            "E/L = -1.2867436738537357\n",
            "======**--\n",
            "truncation error: 3.42379409379312e-07\n",
            "E/L = -1.2874997913701742\n",
            "-------**=\n",
            "truncation error: 9.992007221626409e-16\n",
            "E/L = -1.2874994815824075\n",
            "------**==\n",
            "truncation error: 3.4237941115566883e-07\n",
            "E/L = -1.2874997913701731\n",
            "-----**===\n",
            "truncation error: 9.953071220536458e-07\n",
            "E/L = -1.287500752718821\n",
            "----**====\n",
            "truncation error: 1.1630179393984363e-06\n",
            "E/L = -1.2884333373528656\n",
            "---**=====\n",
            "truncation error: 1.1027216428871611e-06\n",
            "E/L = -1.2886570592055053\n",
            "--**======\n",
            "truncation error: 4.471280863338478e-07\n",
            "E/L = -1.2894441655187454\n",
            "=**-------\n",
            "truncation error: 3.3306690738754696e-16\n",
            "E/L = -1.2894437736826516\n",
            "==**------\n",
            "truncation error: 4.4712808866531617e-07\n",
            "E/L = -1.2894441655187412\n",
            "===**-----\n",
            "truncation error: 3.4027881644638214e-06\n",
            "E/L = -1.2894471784869599\n",
            "====**----\n",
            "truncation error: 3.486743791247804e-06\n",
            "E/L = -1.289448986025337\n"
          ]
        }
      ],
      "source": [
        "Run_finite(10)"
      ]
    },
    {
      "cell_type": "markdown",
      "metadata": {
        "id": "7fvvIv2zmfkV"
      },
      "source": [
        "## 3. Benchmark with ED"
      ]
    },
    {
      "cell_type": "code",
      "execution_count": 26,
      "metadata": {
        "id": "LA_Qog7bmfkV"
      },
      "outputs": [],
      "source": [
        "def ED_1d(N,OBC=None):\n",
        "    dimension=2**N\n",
        "    #spin chain with all spin-down\n",
        "    z='0'*N\n",
        "    # initialize hamiltonian\n",
        "    H=np.zeros((dimension,dimension))\n",
        "    # Matrix Construction\n",
        "    for a in range(dimension):\n",
        "        if OBC==True:\n",
        "            num=N-1\n",
        "        else:\n",
        "            num=N\n",
        "        for i in range(num): #N-1 if OBC\n",
        "\n",
        "            j=np.mod(i+1,N)\n",
        "            state_chain=bin(a)[2:] # the first two should be omitted for this 'bin' function\n",
        "            l=len(state_chain)\n",
        "    #        print(state_chain)\n",
        "            state_chain=z[0:N-l]+state_chain # make the length equal to N\n",
        "            if state_chain[i]==state_chain[j]: # i=j only diagonal elements\n",
        "                H[a,a]+=0.25\n",
        "            else:                              # else, the raising/lowering operators also have contributions\n",
        "                H[a,a]-=0.25\n",
        "                # then exchange i,j\n",
        "                element_i=state_chain[i]\n",
        "                element_j=state_chain[j]\n",
        "                #flip\n",
        "                if j==0:  #here we are doing the concatenation of string (you can try other methods)\n",
        "                  state_chain1=element_i+state_chain[1:N-1]+element_j\n",
        "                else:\n",
        "                  state_chain1=state_chain[0:i]+element_j+element_i+state_chain[j+1:]\n",
        "                b=int(state_chain1,2)\n",
        "                H[a,b]+=0.5\n",
        "    eig_value=np.real(np.linalg.eig(H)[0])# eigen_values\n",
        "    eig_vec=np.real(np.linalg.eig(H)[1])  # eigenstates\n",
        "    \n",
        "    idx_sorted1 = np.argsort(eig_value)\n",
        "    eig_value=eig_value[idx_sorted1]\n",
        "    eig_vec=eig_vec[:,idx_sorted1]\n",
        "    eig_value[0]/N, eig_vec[:,0]\n",
        "    energy_level=np.sort(eig_value/N)\n",
        "    #return Ground Energy per site\n",
        "    return energy_level[0]\n",
        "    "
      ]
    },
    {
      "cell_type": "code",
      "execution_count": 27,
      "metadata": {
        "id": "_8OLmI6imfkV",
        "outputId": "462338ec-620d-4ff8-fc2b-44b58a115ba5",
        "colab": {
          "base_uri": "https://localhost:8080/"
        }
      },
      "outputs": [
        {
          "output_type": "stream",
          "name": "stdout",
          "text": [
            "L = 4\n",
            "E/L = -0.40400635094610937\n",
            "L = 6\n",
            "E/L = -0.4155961889813223\n",
            "L = 8\n",
            "E/L = -0.42186657483598755\n",
            "L = 10\n",
            "E/L = -0.4258035207282885\n"
          ]
        }
      ],
      "source": [
        "for L in [4,6,8,10]:\n",
        "    print('L =',L)\n",
        "    E0 = ED_1d(L,OBC=True)\n",
        "    print('E/L =', E0)"
      ]
    },
    {
      "cell_type": "markdown",
      "metadata": {
        "id": "XOlHXIRKmfkV"
      },
      "source": [
        "## 4. Test for spin-1 chain"
      ]
    },
    {
      "cell_type": "code",
      "execution_count": 28,
      "metadata": {
        "id": "JKigoCtOmfkW",
        "outputId": "cc4c3836-c9b2-47e8-9197-2cec13dca99e",
        "colab": {
          "base_uri": "https://localhost:8080/"
        }
      },
      "outputs": [
        {
          "output_type": "execute_result",
          "data": {
            "text/plain": [
              "(array([[ 1.,  0.,  0.],\n",
              "        [ 0.,  0.,  0.],\n",
              "        [ 0.,  0., -1.]]), array([[0.          , 1.4142135624, 0.          ],\n",
              "        [0.          , 0.          , 1.4142135624],\n",
              "        [0.          , 0.          , 0.          ]]), array([[0., 0., 0.],\n",
              "        [0., 0., 0.],\n",
              "        [0., 0., 0.]]))"
            ]
          },
          "metadata": {},
          "execution_count": 28
        }
      ],
      "source": [
        "Block = namedtuple(\"Block\", [\"length\", \"basis_size\", \"operator_dict\"])\n",
        "EnlargedBlock = namedtuple(\"EnlargedBlock\", [\"length\", \"basis_size\", \"operator_dict\"])\n",
        "\n",
        "model_d = 3 # single site basis for spin-1/2\n",
        "\n",
        "Sz1,Sp1,H1 = GetSpinOp(1)\n",
        "Sz1,Sp1,H1\n"
      ]
    },
    {
      "cell_type": "code",
      "execution_count": 29,
      "metadata": {
        "id": "R1LNVTI7mfkW"
      },
      "outputs": [],
      "source": [
        "initial_block = Block(length=1, basis_size=model_d, operator_dict={\n",
        "    \"H\": H1,\n",
        "    \"conn_Sz\": Sz1,\n",
        "    \"conn_Sp\": Sp1,})"
      ]
    },
    {
      "cell_type": "code",
      "execution_count": 30,
      "metadata": {
        "scrolled": true,
        "id": "14EhwwIZmfkW",
        "outputId": "6df5d71f-7135-4ecd-ce01-93f147b093e7",
        "colab": {
          "base_uri": "https://localhost:8080/"
        }
      },
      "outputs": [
        {
          "output_type": "stream",
          "name": "stdout",
          "text": [
            "=**-\n",
            "truncation error: -2.220446049250313e-16\n",
            "E/L = -1.1614378277661481\n",
            "==**--\n",
            "truncation error: 0.0009637667328746824\n",
            "E/L = -1.2283791615707684\n",
            "---**=\n",
            "truncation error: -2.220446049250313e-16\n",
            "E/L = -1.2276091976687162\n",
            "--**==\n",
            "truncation error: 1.120216479577607e-07\n",
            "E/L = -1.2283791615707678\n",
            "=**---\n",
            "truncation error: 1.1102230246251565e-16\n",
            "E/L = -1.2283789756826693\n",
            "==**--\n",
            "truncation error: 1.1202164706958229e-07\n",
            "E/L = -1.2283791615707689\n"
          ]
        }
      ],
      "source": [
        "Run_finite(6)"
      ]
    },
    {
      "cell_type": "code",
      "execution_count": 31,
      "metadata": {
        "scrolled": true,
        "id": "WroeBp1ZmfkW",
        "outputId": "3d00a596-bdfa-4641-bcac-a88dd30c44e0",
        "colab": {
          "base_uri": "https://localhost:8080/"
        }
      },
      "outputs": [
        {
          "output_type": "stream",
          "name": "stdout",
          "text": [
            "L = 4\n",
            "truncation error: 4.440892098500626e-16\n",
            "E/L = -1.1614378277661475\n",
            "L = 6\n",
            "truncation error: 1.1202164684753768e-07\n",
            "E/L = -1.2283791615707684\n",
            "L = 8\n",
            "truncation error: 1.6147017241063821e-06\n",
            "E/L = -1.265578933719902\n",
            "L = 10\n",
            "truncation error: 3.588730170811516e-06\n",
            "E/L = -1.289449145847944\n",
            "L = 12\n",
            "truncation error: 7.155731815089439e-06\n",
            "E/L = -1.306148675593042\n",
            "L = 14\n",
            "truncation error: 1.1752284542088098e-05\n",
            "E/L = -1.3185250883940771\n",
            "L = 16\n",
            "truncation error: 1.3970248320949175e-05\n",
            "E/L = -1.3280824162835736\n",
            "L = 18\n",
            "truncation error: 2.084283886683025e-05\n",
            "E/L = -1.3356938899770974\n",
            "L = 20\n",
            "truncation error: 2.011019233982836e-05\n",
            "E/L = -1.3418995850937752\n",
            "L = 22\n",
            "truncation error: 2.77606064185143e-05\n",
            "E/L = -1.3470580557683858\n",
            "L = 24\n",
            "truncation error: 2.5018305201518487e-05\n",
            "E/L = -1.3514098883352534\n",
            "L = 26\n",
            "truncation error: 3.2103085188972535e-05\n",
            "E/L = -1.3551314950194588\n",
            "L = 28\n",
            "truncation error: 2.8674917264881472e-05\n",
            "E/L = -1.3583462897261112\n",
            "L = 30\n",
            "truncation error: 3.4519641600283535e-05\n",
            "E/L = -1.361152056147194\n",
            "L = 32\n",
            "truncation error: 3.12324474169845e-05\n",
            "E/L = -1.3636188176319834\n",
            "L = 34\n",
            "truncation error: 3.5741581798864885e-05\n",
            "E/L = -1.3658053434816984\n",
            "L = 36\n",
            "truncation error: 3.2936086834745026e-05\n",
            "E/L = -1.3677544431554738\n",
            "L = 38\n",
            "truncation error: 3.6296297882709716e-05\n",
            "E/L = -1.369503527180343\n",
            "L = 40\n",
            "truncation error: 3.4040308846905454e-05\n",
            "E/L = -1.371080284862098\n",
            "L = 42\n",
            "truncation error: 3.650553480294416e-05\n",
            "E/L = -1.3725095836507306\n",
            "L = 44\n",
            "truncation error: 3.4749921558052677e-05\n",
            "E/L = -1.3738101329366066\n",
            "L = 46\n",
            "truncation error: 3.6548545153114453e-05\n",
            "E/L = -1.3749990419491107\n",
            "L = 48\n",
            "truncation error: 3.520788154032228e-05\n",
            "E/L = -1.3760894025231354\n",
            "L = 50\n",
            "truncation error: 3.651925717362836e-05\n",
            "E/L = -1.3770933280731357\n"
          ]
        }
      ],
      "source": [
        "Run_infinite(50)"
      ]
    },
    {
      "cell_type": "code",
      "execution_count": null,
      "metadata": {
        "id": "_nLMB5XzmfkW"
      },
      "outputs": [],
      "source": []
    }
  ],
  "metadata": {
    "kernelspec": {
      "display_name": "Python 3",
      "language": "python",
      "name": "python3"
    },
    "language_info": {
      "codemirror_mode": {
        "name": "ipython",
        "version": 3
      },
      "file_extension": ".py",
      "mimetype": "text/x-python",
      "name": "python",
      "nbconvert_exporter": "python",
      "pygments_lexer": "ipython3",
      "version": "3.8.5"
    },
    "colab": {
      "provenance": []
    }
  },
  "nbformat": 4,
  "nbformat_minor": 0
}