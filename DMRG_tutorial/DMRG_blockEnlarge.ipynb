{
  "cells": [
    {
      "cell_type": "markdown",
      "metadata": {
        "id": "WgLImSFxbB3O"
      },
      "source": [
        "# DMRG Test: Block Growth Version"
      ]
    },
    {
      "cell_type": "code",
      "source": [
        ""
      ],
      "metadata": {
        "id": "5EQdyA4abD46"
      },
      "execution_count": null,
      "outputs": []
    },
    {
      "cell_type": "markdown",
      "metadata": {
        "id": "9TMuRCU-bB3S"
      },
      "source": [
        "Edited by [Song Menghan](https://quantummc.xyz/members/menghan-song/), Aug.2022.\n",
        "\n",
        "This is a notebook for a simple DMRG algorithm with block growth method. The code shown in this notebook is adapted from Dr. Garrison and Dr. Mishmash from the [simple-dmrg website](https://simple-dmrg.readthedocs.io/en/latest/).  \n",
        "\n",
        "For further information, one can read the reference of this notebook [arXiv:cond-mat/0304375](https://arxiv.org/abs/cond-mat/0304375v1), [arXiv:1008.3477](https://arxiv.org/abs/1008.3477v2)."
      ]
    },
    {
      "cell_type": "markdown",
      "metadata": {
        "id": "acobQxwbbB3T"
      },
      "source": [
        "## Introduction\n",
        "\n",
        "The core idea behind the DMRG is to find a way in which one can increase the system size without increasing the Hilbert space. \n",
        "\n",
        "This is typically done in two steps:\n",
        "\n",
        "$\\bullet $ Construct large systems from samll systems by gradually increase the system size. So far, the Hilbert space grows exponentially and we have not improved anything.\n",
        "\n",
        "$\\bullet $ Truncate the Hilbert space to a certain value, keeping its size invariant when more sites are added.\n",
        "\n",
        "Here two key processes are involved.\n",
        "\n",
        "$\\bullet$ How to enlarge the system?\n",
        "\n",
        "$\\bullet$ What is the criterion to truncate the Hilbert space?\n"
      ]
    },
    {
      "cell_type": "markdown",
      "metadata": {
        "id": "va7wnW1cbB3U"
      },
      "source": [
        "To start with, we consider a single site which is described by the state $d_i (i=1,...,D)$. Define a block $B(l,m)$ consist $l$ sites and $H_B$ denotes the Hamiltonion of length $l$ chain. $m$ is the dimension of the basis in which we represent the operators of the block (If we do nothing, $m=D^{L}$). \n",
        "\n",
        "The block is then grown by adding a site to it, forming an enlarged block, $B^{e}$. Denote $\\left | b_1  \\right \\rangle ...\\left | b_m  \\right \\rangle $ and $\\left | d_1  \\right \\rangle ...\\left | d_D  \\right \\rangle $ the basis of the block and the additional site, the basis of the enlarged block is their direct product,\n",
        "\n",
        "$$\n",
        "\\left | b_k^{e}  \\right \\rangle=\\left | b_i  \\right \\rangle \\otimes \\left | d_j  \\right \\rangle,\n",
        "$$\n",
        "\n",
        "and thus the dimension of the Hilbert space for $B^{e}$ is the product of that for $B(l,m)$ and a site, $i.e. m\\times D$."
      ]
    },
    {
      "cell_type": "markdown",
      "metadata": {
        "id": "EC5jH2-RbB3V"
      },
      "source": [
        "The next step is to form the superblock which consists of two enlarged blocks connected to each other. This sample code considers the open boundary conditions (OBC) and aims to compute the ground state energy of an infinite chain. \n",
        "\n",
        "For infinite chain algorithm, the superblock is formed by connecting the enlarged block $B_{e}$ and its replica(reflected) $B_{e}^{'}$ together. Compute the Hamiltonian of the superblock and diagonalize it to find its ground state energy and wavefunction,\n",
        "\n",
        "$$\n",
        "\\left | \\Psi_{gs} \\right \\rangle =\\sum_{i=1}^{m\\times D}\\sum_{j=1}^{m\\times D} a_{i,j}\\left | b_{i}^{e} \\right \\rangle\\otimes \\left | b_j^{'e} \\right \\rangle,\n",
        "$$\n",
        "\n",
        "which is written is a basis that is the tensor product of the system(e.g. left enlarged block) and the environment(e.g. right replica). We can further compute the density matrix of the system,\n",
        "\n",
        "$$\n",
        "\\rho _{i,i^{'}}=\\sum_{j=1}^{m\\times D}a_{i,j}a_{i^{'},j}^{*} .\n",
        "$$\n",
        "\n",
        "In statistic mechanics, density matrix tells us which states of the system contribute the most to the above ground state. The density matrix ahs the same dimension and block-diagonal structure of $H_e$, for the enlarged block. Let's denote $\\left | u_{a} \\right \\rangle, w_{a}(a=1,...,m\\times D)$ the eigenvectors and eigenvalues of $\\rho$, then $\\sum_{a}w_a =1$ with $w_a$ is the probability of the system being in the state $\\left | u_{a} \\right \\rangle$ when the universe is at the ground state $\\left | \\Psi_{gs} \\right \\rangle$.\n",
        "\n",
        "The above analysis guides to keep only the most relevant states to describe the system at the ground states, which reduce the exponentially large Hilbert space into a fixed size. To make an optimal choice, we need to order the state $\\left | u_{a} \\right \\rangle$ by their eigenvalues $w_{a}$ in a decending order and we only use the largest $m$ eigenvectors as a new reduced basis to describe $B_e$. Now the enlarged block is interpreted as $B_e (l+1,m)$ instead of $B_e (l+1,m\\times D)$ (assume $m<m\\times D$). \n",
        "\n",
        "Since we adapts a new basis for $B_e$. We need to rotate the operators into the new basis. For example, the Hamiltonian is transformed as,\n",
        "\n",
        "$$\n",
        "H_{B(l+1,m)}=OH_{e}O^{\\dagger},\n",
        "$$\n",
        "\n",
        "where the rows of the $(m,(m\\times D))$ matrix $O$ are the selected  $\\left | u_{a} \\right \\rangle$. Again, we clearly see that the Hilbert space size is cut back to $m$. \n",
        "\n",
        "Then we continue add a site to the exsisting block and repeat the routine. We are able to reach a large system size since the Hilbert space size has a ceiling $m$. See whether the ground state energy of the superblock converges. If so, we successfully approximate the thermal dynamic limit.\n"
      ]
    },
    {
      "cell_type": "markdown",
      "metadata": {
        "id": "cns2w4SCbB3W"
      },
      "source": [
        "## Sample code"
      ]
    },
    {
      "cell_type": "code",
      "execution_count": null,
      "metadata": {
        "id": "4bDAf2eAbB3X"
      },
      "outputs": [],
      "source": [
        "from __future__ import print_function, division  \n",
        "import numpy as np\n",
        "from scipy.sparse import kron, identity\n",
        "from scipy.sparse.linalg import eigsh  # Lanczos routine from ARPACK\n",
        "from collections import namedtuple"
      ]
    },
    {
      "cell_type": "code",
      "execution_count": null,
      "metadata": {
        "id": "TWmhJ7BsbB3Z"
      },
      "outputs": [],
      "source": [
        "Block = namedtuple(\"Block\", [\"length\", \"basis_size\", \"operator_dict\"])\n",
        "EnlargedBlock = namedtuple(\"EnlargedBlock\", [\"length\", \"basis_size\", \"operator_dict\"])\n",
        "\n",
        "model_d = 2 # single site basis for spin-1/2\n"
      ]
    },
    {
      "cell_type": "code",
      "execution_count": null,
      "metadata": {
        "id": "abj9f23JbB3a"
      },
      "outputs": [],
      "source": [
        "def is_valid_block(block):\n",
        "    for op in block.operator_dict.values():\n",
        "        if op.shape[0] != block.basis_size or op.shape[1] != block.basis_size:\n",
        "            return False\n",
        "    return True\n",
        "is_valid_enlarged_block = is_valid_block"
      ]
    },
    {
      "cell_type": "code",
      "execution_count": null,
      "metadata": {
        "id": "lQfi6IYsbB3a"
      },
      "outputs": [],
      "source": [
        "def GetSpinOp(spin):\n",
        "    '''\n",
        "    Given a spin quantum number\n",
        "    return various spin operators and one site H\n",
        "    '''\n",
        "    Jp = lambda j,m: np.sqrt(j*(j+1)-m*(m+1))\n",
        "    Jm = lambda j,m: np.sqrt(j*(j+1)-m*(m-1))\n",
        "    \n",
        "    Mdim = int(2*spin+1)\n",
        "    \n",
        "    Sz = np.zeros((Mdim,Mdim))\n",
        "    Sp = np.zeros((Mdim,Mdim))\n",
        "    Sm = np.zeros((Mdim,Mdim))\n",
        "    \n",
        "    for ii in range(Mdim):\n",
        "        sm = spin-ii\n",
        "        Sz[ii,ii]= sm\n",
        "        if ii > 0:\n",
        "            Sp[ii-1,ii]=Jp(spin,sm)\n",
        "        if ii < 2*spin:\n",
        "            Sm[ii+1,ii]=Jm(spin,sm)\n",
        "    Sx = (Sp+Sm)/2\n",
        "    Sy = (Sp-Sm)/(2j)\n",
        "    \n",
        "    H1 = np.zeros((2,2))\n",
        "    \n",
        "    return Sz,Sp,H1"
      ]
    },
    {
      "cell_type": "code",
      "execution_count": null,
      "metadata": {
        "scrolled": true,
        "id": "7yrkt9eqbB3b",
        "outputId": "131313b6-1e69-40f5-970d-25e71eb28a11"
      },
      "outputs": [
        {
          "data": {
            "text/plain": [
              "(array([[ 0.5,  0. ],\n",
              "        [ 0. , -0.5]]),\n",
              " array([[0., 1.],\n",
              "        [0., 0.]]),\n",
              " array([[0., 0.],\n",
              "        [0., 0.]]))"
            ]
          },
          "execution_count": 5,
          "metadata": {},
          "output_type": "execute_result"
        }
      ],
      "source": [
        "Sz1,Sp1,H1 = GetSpinOp(1/2)\n",
        "Sz1,Sp1,H1"
      ]
    },
    {
      "cell_type": "markdown",
      "metadata": {
        "id": "Oa2a4PTMbB3c"
      },
      "source": [
        "Adding a site to the block, compute the enlarged H as follows:\n",
        "$$\n",
        "H_e=H_B\\otimes I_d+\\frac{J}{2}(S_b^{+}\\otimes S_d^{-}+S_b^{-}\\otimes S_d^{+})+J_z S_b^{z}\\otimes S_d^{z},\n",
        "$$\n",
        "\n",
        "considering the internal block part and the interaction part with a new spin."
      ]
    },
    {
      "cell_type": "code",
      "execution_count": null,
      "metadata": {
        "id": "RnnrP4oGbB3d"
      },
      "outputs": [],
      "source": [
        "def H2(Sz1, Sp1, Sz2, Sp2):  # two-site part of the enlarged H\n",
        "    \"\"\"\n",
        "    Given the operators S^z and S^+ on two sites in different Hilbert spaces\n",
        "    (e.g. two blocks), returns a Kronecker product representing the\n",
        "    corresponding two-site term in the Hamiltonian that joins the two sites.\n",
        "    \"\"\"\n",
        "    J = Jz = 1.\n",
        "    TwoSiteH = (J/2)*(kron(Sp1,Sp2.conjugate().transpose())+kron(Sp1.conjugate().transpose(),Sp2))\\\n",
        "    +Jz*kron(Sz1, Sz2)\n",
        "    \n",
        "    return TwoSiteH\n"
      ]
    },
    {
      "cell_type": "code",
      "execution_count": null,
      "metadata": {
        "id": "mfPvo1eJbB3d"
      },
      "outputs": [],
      "source": [
        "initial_block = Block(length=1, basis_size=model_d, operator_dict={\n",
        "    \"H\": H1,\n",
        "    \"conn_Sz\": Sz1,\n",
        "    \"conn_Sp\": Sp1,})\n",
        "\n",
        "# conn refers to the connection operator, that is, the operator on the edge of\n",
        "# the block, on the interior of the chain.  We need to be able to represent S^z\n",
        "# and S^+ on that site in the current basis in order to grow the chain."
      ]
    },
    {
      "cell_type": "code",
      "execution_count": null,
      "metadata": {
        "id": "ndV_einYbB3e",
        "outputId": "4f077da6-7295-4dc6-de36-66f8c2b4f44e"
      },
      "outputs": [
        {
          "data": {
            "text/plain": [
              "Block(length=1, basis_size=2, operator_dict={'H': array([[0., 0.],\n",
              "       [0., 0.]]), 'conn_Sz': array([[ 0.5,  0. ],\n",
              "       [ 0. , -0.5]]), 'conn_Sp': array([[0., 1.],\n",
              "       [0., 0.]])})"
            ]
          },
          "execution_count": 8,
          "metadata": {},
          "output_type": "execute_result"
        }
      ],
      "source": [
        "initial_block"
      ]
    },
    {
      "cell_type": "markdown",
      "metadata": {
        "id": "_49Z6r1hbB3e"
      },
      "source": [
        "Together with the Block Hamiltonian $H_b$, we need to present the spin operators of the rightmost site of the $\\mathbf{enlarged}$ block in the basis of the enlarged block (basis with one more site added). For example, the spin-1/2 $S_z$ transforms as:\n",
        "$$\n",
        "(S_r^{z})_e = I_b\\otimes S_d^{z}=I_b\\otimes \\begin{bmatrix}\n",
        " 0.5 & 0 \\\\\n",
        " 0 & -0.5\n",
        "\\end{bmatrix}\n",
        "$$\n",
        ", where $I_b$ is the identity matrix of the block Hilbert space, $S_d^{z}$ is the $S_z$ operator for the righmost site."
      ]
    },
    {
      "cell_type": "code",
      "execution_count": null,
      "metadata": {
        "id": "lmCJdCKbbB3e"
      },
      "outputs": [],
      "source": [
        "def enlarge_block(block):\n",
        "    \"\"\"\n",
        "    Enlarges the block by adding one site\n",
        "    Return the Enlarged block\n",
        "    \"\"\"\n",
        "    mblock = block.basis_size\n",
        "    o = block.operator_dict\n",
        "\n",
        "    # Create the new operators for the enlarged block.  Our basis becomes a\n",
        "    # Kronecker product of the Block basis and the single-site basis.  NOTE:\n",
        "    # `kron` uses the tensor product convention making blocks of the second\n",
        "    # array scaled by the first.  As such, we adopt this convention for\n",
        "    # Kronecker products throughout the code.\n",
        "    enlarged_operator_dict = {\n",
        "        \"H\": kron(o[\"H\"], identity(model_d)) + kron(identity(mblock), H1) + H2(o[\"conn_Sz\"], o[\"conn_Sp\"], Sz1, Sp1),\n",
        "        \"conn_Sz\": kron(identity(mblock), Sz1),\n",
        "        \"conn_Sp\": kron(identity(mblock), Sp1),\n",
        "    }\n",
        "\n",
        "    return EnlargedBlock(length=(block.length + 1),\n",
        "                         basis_size=(block.basis_size * model_d),\n",
        "                         operator_dict=enlarged_operator_dict)"
      ]
    },
    {
      "cell_type": "code",
      "execution_count": null,
      "metadata": {
        "id": "jkuHhLIzbB3f"
      },
      "outputs": [],
      "source": [
        "def ChangeBasis(operator,trans_mat):\n",
        "    '''\n",
        "    Transform the operator into the truncated basis with trans_mat\n",
        "    '''\n",
        "    op_new = trans_mat.conjugate().transpose().dot(operator.dot(trans_mat))\n",
        "    return op_new\n",
        "    "
      ]
    },
    {
      "cell_type": "markdown",
      "metadata": {
        "id": "UD9aR5vZbB3f"
      },
      "source": [
        "Here we define a single DMRG step with one site added. \n",
        "\n",
        "Note that the formation of the superblock Hamiltonian is similar to that for $H_e$. They both consist three parts: Hamiltonian for both enlarged block (in the construction for $H_e$, one can regard the additional site as a right block with a single site Hamiltonion which is zero) and the interaction between the connecting sites.\n",
        "\n",
        "$$\n",
        "H_s=H_e\\otimes I_e^{'}+I_e \\otimes H_e^{'}+\\frac{J}{2}((S_r^{+})_e \\otimes (S_r^{-})_{e}^{'}+(S_r^{-})_e\\otimes (S_r^{+})_e^{'})+J_z (S_r^{z})_e\\otimes (S_r^{z})_e^{'},\n",
        "$$\n",
        "\n",
        "where the subscript $r$ means the rightmost site of the block, and $'$ stands for the replica enlarged block.\n",
        "\n",
        "We sum up the eigenvalues of the discarded eigenstates $(1-\\sum_{a=1}^{m}w_a)$ as the measure for the truncation error. In many cases, this number is roughly proportional to the error in the energy. "
      ]
    },
    {
      "cell_type": "code",
      "execution_count": null,
      "metadata": {
        "id": "wVqPNUKQbB3f"
      },
      "outputs": [],
      "source": [
        "def single_dmrg_step(sys,env,mm):\n",
        "    '''\n",
        "    single DMRG step with the maximum truncation mm, mm states in the new basis\n",
        "    '''\n",
        "    assert is_valid_block(sys)\n",
        "    assert is_valid_block(env) #check whether the block is legal\n",
        "    \n",
        "    sys_enl = enlarge_block(sys)\n",
        "    \n",
        "    if sys is env: #if they are same, not need to compute again\n",
        "        env_enl = sys_enl\n",
        "    else:\n",
        "        env_enl = enlarge_block(env)\n",
        "    \n",
        "    assert is_valid_enlarged_block(sys_enl)\n",
        "    assert is_valid_enlarged_block(env_enl) #check whether enl_block is legal\n",
        "    \n",
        "    #construct the superblock Hamiltonian.\n",
        "    m_sys_enl = sys_enl.basis_size\n",
        "    m_env_enl = env_enl.basis_size\n",
        "    sys_enl_op = sys_enl.operator_dict\n",
        "    env_enl_op = env_enl.operator_dict\n",
        "    superblock_H = kron(sys_enl_op[\"H\"],identity(m_env_enl))\\\n",
        "                  +kron(identity(m_sys_enl), env_enl_op[\"H\"])\\\n",
        "                  +H2(sys_enl_op[\"conn_Sz\"], sys_enl_op[\"conn_Sp\"], env_enl_op[\"conn_Sz\"], env_enl_op[\"conn_Sp\"])\n",
        "    \n",
        "    #find the superblock ground state. \n",
        "    #'SA' means find the 'smallest in amplitude' eig_value\n",
        "    #|psi0> = sigma{i}sigma{j}: a(i,j)|bi>|bj>\n",
        "    #|bi>, |bj> are the basis of the sys and env\n",
        "    #rehape the eigenvector such that (row,colum) corresponds to (sys,env)\n",
        "    #Now, the matrix elements of psi0 are a(i,j)\n",
        "    #rho is the density matrix\n",
        "    (energy,), psi0 = eigsh(superblock_H, k=1, which=\"SA\")\n",
        "    psi0 = psi0.reshape([sys_enl.basis_size, -1], order=\"C\")\n",
        "    rho = np.dot(psi0,psi0.conjugate().transpose())\n",
        "    \n",
        "    evals,evecs = np.linalg.eigh(rho)\n",
        "    possible_eigenstates = []\n",
        "    for eig_val, eig_vec in zip(evals, evecs.transpose()):\n",
        "        possible_eigenstates.append((eig_val, eig_vec))\n",
        "    possible_eigenstates.sort(reverse=True, key=lambda x: x[0])  # largest eigenvalue first\n",
        "\n",
        "    #Based on the truncation 'mm', compute trans_mat\n",
        "    my_m = min(len(possible_eigenstates),mm)\n",
        "    trans_mat = np.zeros((sys_enl.basis_size, my_m), dtype='d', order='F')\n",
        "    for i,(eig_val,eig_vec) in enumerate(possible_eigenstates[:my_m]):\n",
        "        trans_mat[:,i] = eig_vec\n",
        "    \n",
        "    truncation_error = 1 - sum([x[0] for x in possible_eigenstates[:my_m]])\n",
        "    print(\"truncation error:\", truncation_error)\n",
        "    \n",
        "    #change the basis for each operator\n",
        "    new_operator_dict={}\n",
        "    for name, op in sys_enl.operator_dict.items():\n",
        "        new_operator_dict[name] = ChangeBasis(op,trans_mat)\n",
        "    \n",
        "    newblock = Block(length=sys_enl.length,\n",
        "                     basis_size=my_m,\n",
        "                     operator_dict=new_operator_dict)\n",
        "    \n",
        "    return newblock, energy\n",
        "    \n",
        "    \n",
        "    \n",
        "    "
      ]
    },
    {
      "cell_type": "code",
      "execution_count": null,
      "metadata": {
        "id": "4JIgerrAbB3g"
      },
      "outputs": [],
      "source": [
        "def infinite_system(L,mm):\n",
        "    block = initial_block\n",
        "    #keep growing the block\n",
        "    #let the right block = left block, i.e. env=sys\n",
        "    while 2*block.length<L:\n",
        "        #1st step, grow 1 to 2 sites, hence 4 sites in superblock\n",
        "        print('L =',block.length*2 + 2) \n",
        "        block, energy = single_dmrg_step(block, block, mm)\n",
        "        print('E/L =', energy/(block.length*2))\n"
      ]
    },
    {
      "cell_type": "code",
      "execution_count": null,
      "metadata": {
        "id": "MY5de37-bB3g"
      },
      "outputs": [],
      "source": [
        "def Run():\n",
        "    if __name__ == \"__main__\":\n",
        "        np.set_printoptions(precision=10, suppress=True, threshold=10000, linewidth=300)\n",
        "        infinite_system(L=100, mm=20)\n",
        "        \n",
        "        "
      ]
    },
    {
      "cell_type": "code",
      "execution_count": null,
      "metadata": {
        "id": "Ebe1qre8bB3h",
        "outputId": "80148c7e-c303-43ff-9b15-ed8c0e3d7596"
      },
      "outputs": [
        {
          "name": "stdout",
          "output_type": "stream",
          "text": [
            "L = 4\n",
            "truncation error: -4.440892098500626e-16\n",
            "E/L = -0.40400635094610965\n",
            "L = 6\n",
            "truncation error: -2.220446049250313e-16\n",
            "E/L = -0.4155961889813211\n",
            "L = 8\n",
            "truncation error: 1.1102230246251565e-16\n",
            "E/L = -0.42186657483598594\n",
            "L = 10\n",
            "truncation error: 9.166378767133665e-11\n",
            "E/L = -0.42580352072828803\n",
            "L = 12\n",
            "truncation error: 3.1294666857917264e-10\n",
            "E/L = -0.428507552424281\n",
            "L = 14\n",
            "truncation error: 1.6584662532181937e-09\n",
            "E/L = -0.43048033118372153\n",
            "L = 16\n",
            "truncation error: 4.3331900290155545e-09\n",
            "E/L = -0.4319835645122856\n",
            "L = 18\n",
            "truncation error: 1.0037189523970369e-08\n",
            "E/L = -0.4331672644472625\n",
            "L = 20\n",
            "truncation error: 1.8536260193435794e-08\n",
            "E/L = -0.43412363168139334\n",
            "L = 22\n",
            "truncation error: 3.338433263166962e-08\n",
            "E/L = -0.4349124789638122\n",
            "L = 24\n",
            "truncation error: 4.7865617469611266e-08\n",
            "E/L = -0.4355743093654312\n",
            "L = 26\n",
            "truncation error: 7.762831377711166e-08\n",
            "E/L = -0.436137536172096\n",
            "L = 28\n",
            "truncation error: 9.409576562369182e-08\n",
            "E/L = -0.43662267623615886\n",
            "L = 30\n",
            "truncation error: 1.4473940290749e-07\n",
            "E/L = -0.43704492553515895\n",
            "L = 32\n",
            "truncation error: 1.565696615690726e-07\n",
            "E/L = -0.43741576747851624\n",
            "L = 34\n",
            "truncation error: 2.3367886425873508e-07\n",
            "E/L = -0.4377440583858044\n",
            "L = 36\n",
            "truncation error: 2.3328574161318727e-07\n",
            "E/L = -0.4380367172658706\n",
            "L = 38\n",
            "truncation error: 3.4174925211960527e-07\n",
            "E/L = -0.4382992548529156\n",
            "L = 40\n",
            "truncation error: 3.2169359720501944e-07\n",
            "E/L = -0.43853608211590417\n",
            "L = 42\n",
            "truncation error: 4.6558344279912234e-07\n",
            "E/L = -0.4387508106041083\n",
            "L = 44\n",
            "truncation error: 4.191670777142775e-07\n",
            "E/L = -0.4389463797606242\n",
            "L = 46\n",
            "truncation error: 6.017325502316595e-07\n",
            "E/L = -0.43912525917426104\n",
            "L = 48\n",
            "truncation error: 5.232516436803891e-07\n",
            "E/L = -0.43928947807534774\n",
            "L = 50\n",
            "truncation error: 7.469724813136125e-07\n",
            "E/L = -0.4394407867202406\n",
            "L = 52\n",
            "truncation error: 6.317749958739682e-07\n",
            "E/L = -0.4395806262708659\n",
            "L = 54\n",
            "truncation error: 8.984404497036635e-07\n",
            "E/L = -0.4397102761642715\n",
            "L = 56\n",
            "truncation error: 7.428809218890109e-07\n",
            "E/L = -0.4398307834790983\n",
            "L = 58\n",
            "truncation error: 1.0536764593060965e-06\n",
            "E/L = -0.43994310943177695\n",
            "L = 60\n",
            "truncation error: 8.55022800227978e-07\n",
            "E/L = -0.44004802866025516\n",
            "L = 62\n",
            "truncation error: 1.2106151280333322e-06\n",
            "E/L = -0.440146281345821\n",
            "L = 64\n",
            "truncation error: 9.669377597498752e-07\n",
            "E/L = -0.4402384486578012\n",
            "L = 66\n",
            "truncation error: 1.3675537883228728e-06\n",
            "E/L = -0.4403251135935481\n",
            "L = 68\n",
            "truncation error: 1.0776131859069338e-06\n",
            "E/L = -0.4404067166905818\n",
            "L = 70\n",
            "truncation error: 1.523111243573183e-06\n",
            "E/L = -0.4404837268529628\n",
            "L = 72\n",
            "truncation error: 1.1862518601857275e-06\n",
            "E/L = -0.4405564802834312\n",
            "L = 74\n",
            "truncation error: 1.6761847462243296e-06\n",
            "E/L = -0.4406253615586227\n",
            "L = 76\n",
            "truncation error: 1.2922388366032322e-06\n",
            "E/L = -0.44069062807148845\n",
            "L = 78\n",
            "truncation error: 1.8259090698302671e-06\n",
            "E/L = -0.440752601056645\n",
            "L = 80\n",
            "truncation error: 1.3951115225285804e-06\n",
            "E/L = -0.44081147742596966\n",
            "L = 82\n",
            "truncation error: 1.9716193274676996e-06\n",
            "E/L = -0.4408675301357134\n",
            "L = 84\n",
            "truncation error: 1.4945334285698664e-06\n",
            "E/L = -0.44092090902742387\n",
            "L = 86\n",
            "truncation error: 2.112818178079401e-06\n",
            "E/L = -0.44097184976588905\n",
            "L = 88\n",
            "truncation error: 1.5902715728710604e-06\n",
            "E/L = -0.44102046510262904\n",
            "L = 90\n",
            "truncation error: 2.2491474312991144e-06\n",
            "E/L = -0.44106696153940206\n",
            "L = 92\n",
            "truncation error: 1.6821772952368974e-06\n",
            "E/L = -0.44111142228039746\n",
            "L = 94\n",
            "truncation error: 2.3803636532981898e-06\n",
            "E/L = -0.44115403075534926\n",
            "L = 96\n",
            "truncation error: 1.770170063641885e-06\n",
            "E/L = -0.44119484640213\n",
            "L = 98\n",
            "truncation error: 2.506317514749945e-06\n",
            "E/L = -0.4412340341957041\n",
            "L = 100\n",
            "truncation error: 1.8542239833552188e-06\n",
            "E/L = -0.44127163429559774\n"
          ]
        }
      ],
      "source": [
        "Run()"
      ]
    },
    {
      "cell_type": "markdown",
      "metadata": {
        "id": "yI15fygobB3h"
      },
      "source": [
        "## Benchmark with ED"
      ]
    },
    {
      "cell_type": "code",
      "execution_count": null,
      "metadata": {
        "id": "bINNEsRmbB3h"
      },
      "outputs": [],
      "source": [
        "def ED_1d(N,OBC=None):\n",
        "    dimension=2**N\n",
        "    #spin chain with all spin-down\n",
        "    z='0'*N\n",
        "    # initialize hamiltonian\n",
        "    H=np.zeros((dimension,dimension))\n",
        "    # Matrix Construction\n",
        "    for a in range(dimension):\n",
        "        if OBC==True:\n",
        "            num=N-1\n",
        "        else:\n",
        "            num=N\n",
        "        for i in range(num): #N-1 if OBC\n",
        "\n",
        "            j=np.mod(i+1,N)\n",
        "            state_chain=bin(a)[2:] # the first two should be omitted for this 'bin' function\n",
        "            l=len(state_chain)\n",
        "    #        print(state_chain)\n",
        "            state_chain=z[0:N-l]+state_chain # make the length equal to N\n",
        "            if state_chain[i]==state_chain[j]: # i=j only diagonal elements\n",
        "                H[a,a]+=0.25\n",
        "            else:                              # else, the raising/lowering operators also have contributions\n",
        "                H[a,a]-=0.25\n",
        "                # then exchange i,j\n",
        "                element_i=state_chain[i]\n",
        "                element_j=state_chain[j]\n",
        "                #flip\n",
        "                if max(i,j)==N-1:\n",
        "                    if i>j:  #here we are doing the concatenation of string (you can try other methods)\n",
        "                        state_chain=element_i+state_chain[1:N-1]+element_j\n",
        "    #                    print(state_chain)\n",
        "                    else:\n",
        "                        state_chain=state_chain[0:i]+element_j+element_i\n",
        "    #                    print(state_chain)\n",
        "                else:\n",
        "                    state_chain=state_chain[0:i]+element_j+element_i+state_chain[j+1:]\n",
        "    #            print(state_chain)\n",
        "                b=int(state_chain,2)\n",
        "                H[a,b]+=0.5\n",
        "    eig_value=np.real(np.linalg.eig(H)[0])# eigen_values\n",
        "    eig_vec=np.real(np.linalg.eig(H)[1])  # eigenstates\n",
        "    \n",
        "    idx_sorted1 = np.argsort(eig_value)\n",
        "    eig_value=eig_value[idx_sorted1]\n",
        "    eig_vec=eig_vec[:,idx_sorted1]\n",
        "    eig_value[0]/N, eig_vec[:,0]\n",
        "    energy_level=np.sort(eig_value/N)\n",
        "    #return Ground Energy per site\n",
        "    return energy_level[0]\n",
        "    "
      ]
    },
    {
      "cell_type": "code",
      "execution_count": null,
      "metadata": {
        "id": "-xP8NUdNbB3i",
        "outputId": "03aec4d5-4243-44aa-d44d-ebf6011b37fe"
      },
      "outputs": [
        {
          "name": "stdout",
          "output_type": "stream",
          "text": [
            "L = 4\n",
            "E/L = -0.40400635094610965\n",
            "L = 6\n",
            "E/L = -0.4155961889813233\n",
            "L = 8\n",
            "E/L = -0.4218665748359852\n",
            "L = 10\n",
            "E/L = -0.4258035207282914\n"
          ]
        }
      ],
      "source": [
        "for L in [4,6,8,10]:\n",
        "    print('L =',L)\n",
        "    E0 = ED_1d(L,OBC=True)\n",
        "    print('E/L =', E0)"
      ]
    },
    {
      "cell_type": "code",
      "execution_count": null,
      "metadata": {
        "id": "HOGQxd16bB3i"
      },
      "outputs": [],
      "source": [
        ""
      ]
    }
  ],
  "metadata": {
    "kernelspec": {
      "display_name": "Python 3",
      "language": "python",
      "name": "python3"
    },
    "language_info": {
      "codemirror_mode": {
        "name": "ipython",
        "version": 3
      },
      "file_extension": ".py",
      "mimetype": "text/x-python",
      "name": "python",
      "nbconvert_exporter": "python",
      "pygments_lexer": "ipython3",
      "version": "3.8.5"
    },
    "colab": {
      "name": "DMRG_blockEnlarge.ipynb",
      "provenance": []
    }
  },
  "nbformat": 4,
  "nbformat_minor": 0
}