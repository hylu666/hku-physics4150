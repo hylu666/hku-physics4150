{
 "cells": [
  {
   "cell_type": "code",
   "execution_count": 1,
   "metadata": {},
   "outputs": [],
   "source": [
    "import numpy as np\n",
    "import matplotlib.pyplot as plt\n",
    "import copy"
   ]
  },
  {
   "cell_type": "markdown",
   "metadata": {},
   "source": [
    "# Poisson Equations"
   ]
  },
  {
   "cell_type": "markdown",
   "metadata": {},
   "source": [
    "<font  face=Times color=darkblue size=3> In this notebook, we are gonna show some computational methods to firstly solve Poisson equation: $$\\Delta \\phi (\\vec x_{\\vec r})=-\\frac{1}{\\epsilon_0}\\rho(\\vec x_{\\vec r}).$$ After discretization through the centered three-point formula in each direction, it has a form: $$\\phi (\\vec x_{\\vec r})=\\frac{1}{2d}\\sum_1^d[\\phi (\\vec x_{\\vec r+h\\vec e_i})+\\phi (\\vec x_{\\vec r-h\\vec e_i})]+\\frac{h^2}{2d\\epsilon_0}\\rho(\\vec x_{\\vec r}).$$\n",
    "    For simplicity, we set the time spacing $h=1$, $\\epsilon_0=1$ and we consider $N\\times N$ two-dimensional cases($d=2$ and including the boundary) with the initial condition and charge density defined as below. We use Dirichlet boundary conditions."
   ]
  },
  {
   "cell_type": "code",
   "execution_count": 2,
   "metadata": {},
   "outputs": [],
   "source": [
    "### you can change the initial conditions in this cell for all methods below, including N and the charge_density\n",
    "\n",
    "N=10 #2 of N are boundaries\n",
    "d=2\n",
    "epsilon=1\n",
    "h=1\n",
    "#initial condition\n",
    "potential_initial=np.zeros((N,N)) #this includes boundary=0\n",
    "charge_density=np.ones((N,N))   #uniform distribution"
   ]
  },
  {
   "cell_type": "markdown",
   "metadata": {},
   "source": [
    "## Jacobi Relaxation"
   ]
  },
  {
   "cell_type": "markdown",
   "metadata": {},
   "source": [
    "<font  face=Times color=darkblue size=3> We use the discretized formula to iteratively compute new $\\phi$ and replace the old values by new ones until $\\delta \\phi={\\rm max}_{\\vec r}|\\phi^{\\rm new}(\\vec x_{\\vec r})-\\phi(\\vec x_{\\vec r})|$ is no larger than the specified bound which is defined below."
   ]
  },
  {
   "cell_type": "code",
   "execution_count": 3,
   "metadata": {},
   "outputs": [],
   "source": [
    "def jacobi_relaxation(bound_jr):\n",
    "    iterations=0\n",
    "    potential_here=copy.deepcopy(potential_initial)\n",
    "    while True:\n",
    "        iterations+=1\n",
    "        potential_new=copy.deepcopy(potential_here)  #set phi_new\n",
    "        for i in range(1,N-1):\n",
    "            for j in range(1,N-1): # simulate all N-2*N-2 sites using discretized poisson equation, no simulation for boundary \n",
    "                left_index=i-h\n",
    "                right_index=i+h\n",
    "                up_index=j+h\n",
    "                down_index=j-h\n",
    "                potential_new[i,j]=(1/(2*d))*(potential_new[i,up_index]+potential_new[i,down_index]+potential_new[right_index,j]\n",
    "                                              +potential_new[left_index,j])+(h**2/(2*d*epsilon))*charge_density[i,j] \n",
    "        max_delta=np.max(np.abs(potential_new-potential_here)) # compute delta_phi\n",
    "        if max_delta <= bound_jr:\n",
    "            break\n",
    "        else:\n",
    "            potential_here=copy.deepcopy(potential_new)\n",
    "        #print(iterations,max_delta)\n",
    "    return iterations,potential_new"
   ]
  },
  {
   "cell_type": "code",
   "execution_count": 4,
   "metadata": {},
   "outputs": [],
   "source": [
    "iterations_jr,potential_jr=jacobi_relaxation(0.0001)"
   ]
  },
  {
   "cell_type": "code",
   "execution_count": 5,
   "metadata": {},
   "outputs": [
    {
     "data": {
      "text/plain": [
       "74"
      ]
     },
     "execution_count": 5,
     "metadata": {},
     "output_type": "execute_result"
    }
   ],
   "source": [
    "iterations_jr #iterations_needed"
   ]
  },
  {
   "cell_type": "code",
   "execution_count": 6,
   "metadata": {},
   "outputs": [
    {
     "data": {
      "text/plain": [
       "array([[0.        , 0.        , 0.        , 0.        , 0.        ,\n",
       "        0.        , 0.        , 0.        , 0.        , 0.        ],\n",
       "       [0.        , 1.21352645, 1.92708216, 2.33545848, 2.52300868,\n",
       "        2.52302669, 2.33550608, 1.92714119, 1.2135706 , 0.        ],\n",
       "       [0.        , 1.92708216, 3.15943242, 3.89184808, 4.23365662,\n",
       "        4.23368844, 3.89193213, 3.15953666, 1.92716012, 0.        ],\n",
       "       [0.        , 2.33545848, 3.89184808, 4.83899752, 5.28623545,\n",
       "        5.28627573, 4.83910393, 3.89198006, 2.33555718, 0.        ],\n",
       "       [0.        , 2.52300868, 4.23365662, 5.28623545, 5.78618964,\n",
       "        5.78623268, 5.28634916, 4.23379765, 2.52311414, 0.        ],\n",
       "       [0.        , 2.52302669, 4.23368844, 5.28627573, 5.78623268,\n",
       "        5.78627313, 5.28638259, 4.23382096, 2.5231258 , 0.        ],\n",
       "       [0.        , 2.33550608, 3.89193213, 4.83910393, 5.28634916,\n",
       "        5.28638259, 4.83919223, 3.89204165, 2.33558797, 0.        ],\n",
       "       [0.        , 1.92714119, 3.15953666, 3.89198006, 4.23379765,\n",
       "        4.23382096, 3.89204165, 3.15961304, 1.92719831, 0.        ],\n",
       "       [0.        , 1.2135706 , 1.92716012, 2.33555718, 2.52311414,\n",
       "        2.5231258 , 2.33558797, 1.92719831, 1.21359915, 0.        ],\n",
       "       [0.        , 0.        , 0.        , 0.        , 0.        ,\n",
       "        0.        , 0.        , 0.        , 0.        , 0.        ]])"
      ]
     },
     "execution_count": 6,
     "metadata": {},
     "output_type": "execute_result"
    }
   ],
   "source": [
    "potential_jr"
   ]
  },
  {
   "cell_type": "markdown",
   "metadata": {},
   "source": [
    "## Gauss-Seidel Relaxation"
   ]
  },
  {
   "cell_type": "markdown",
   "metadata": {},
   "source": [
    "<font  face=Times color=darkblue size=3> In Jacobi Relaxation, we need to store two arrays of potential, including the new and old ones. A simple modification is made here, that is, we update every lattice point which results a lattice with both old and new points."
   ]
  },
  {
   "cell_type": "code",
   "execution_count": 7,
   "metadata": {},
   "outputs": [],
   "source": [
    "def gauss_seidel_relaxation(bound_here):\n",
    "    iterations=0\n",
    "    potential_new=copy.deepcopy(potential_initial)\n",
    "    while True:\n",
    "        iterations+=1\n",
    "        max_delta=0\n",
    "        for i in range(1,N-1):\n",
    "            for j in range(1,N-1): # simulate all N-2*N-2 sites using discretized poisson equation, no simulation for boundary \n",
    "                left_index=i-h\n",
    "                right_index=i+h\n",
    "                up_index=j+h\n",
    "                down_index=j-h\n",
    "                potential_point_new=(1/(2*d))*(potential_new[i,up_index]+potential_new[i,down_index]+potential_new[right_index,j]\n",
    "                                              +potential_new[left_index,j])+(h**2/(2*d*epsilon))*charge_density[i,j] #new point\n",
    "                max_delta=max(max_delta,np.abs(potential_new[i,j]-potential_point_new))  #delta_phi\n",
    "                potential_new[i,j]=potential_point_new #update point\n",
    "        if max_delta <= bound_here:\n",
    "            break\n",
    "        #print(iterations,max_delta)\n",
    "    return iterations,potential_new"
   ]
  },
  {
   "cell_type": "code",
   "execution_count": 8,
   "metadata": {},
   "outputs": [],
   "source": [
    "iterations_gs,potential_gs=gauss_seidel_relaxation(0.0001)"
   ]
  },
  {
   "cell_type": "code",
   "execution_count": 9,
   "metadata": {},
   "outputs": [
    {
     "data": {
      "text/plain": [
       "74"
      ]
     },
     "execution_count": 9,
     "metadata": {},
     "output_type": "execute_result"
    }
   ],
   "source": [
    "iterations_gs"
   ]
  },
  {
   "cell_type": "code",
   "execution_count": 10,
   "metadata": {},
   "outputs": [
    {
     "data": {
      "text/plain": [
       "array([[0.        , 0.        , 0.        , 0.        , 0.        ,\n",
       "        0.        , 0.        , 0.        , 0.        , 0.        ],\n",
       "       [0.        , 1.21352645, 1.92708216, 2.33545848, 2.52300868,\n",
       "        2.52302669, 2.33550608, 1.92714119, 1.2135706 , 0.        ],\n",
       "       [0.        , 1.92708216, 3.15943242, 3.89184808, 4.23365662,\n",
       "        4.23368844, 3.89193213, 3.15953666, 1.92716012, 0.        ],\n",
       "       [0.        , 2.33545848, 3.89184808, 4.83899752, 5.28623545,\n",
       "        5.28627573, 4.83910393, 3.89198006, 2.33555718, 0.        ],\n",
       "       [0.        , 2.52300868, 4.23365662, 5.28623545, 5.78618964,\n",
       "        5.78623268, 5.28634916, 4.23379765, 2.52311414, 0.        ],\n",
       "       [0.        , 2.52302669, 4.23368844, 5.28627573, 5.78623268,\n",
       "        5.78627313, 5.28638259, 4.23382096, 2.5231258 , 0.        ],\n",
       "       [0.        , 2.33550608, 3.89193213, 4.83910393, 5.28634916,\n",
       "        5.28638259, 4.83919223, 3.89204165, 2.33558797, 0.        ],\n",
       "       [0.        , 1.92714119, 3.15953666, 3.89198006, 4.23379765,\n",
       "        4.23382096, 3.89204165, 3.15961304, 1.92719831, 0.        ],\n",
       "       [0.        , 1.2135706 , 1.92716012, 2.33555718, 2.52311414,\n",
       "        2.5231258 , 2.33558797, 1.92719831, 1.21359915, 0.        ],\n",
       "       [0.        , 0.        , 0.        , 0.        , 0.        ,\n",
       "        0.        , 0.        , 0.        , 0.        , 0.        ]])"
      ]
     },
     "execution_count": 10,
     "metadata": {},
     "output_type": "execute_result"
    }
   ],
   "source": [
    "potential_gs"
   ]
  },
  {
   "cell_type": "markdown",
   "metadata": {},
   "source": [
    "## Successive Overrelaxation (SOR)"
   ]
  },
  {
   "cell_type": "markdown",
   "metadata": {},
   "source": [
    "<font  face=Times color=darkblue size=3> To further fasten the Gauss-Seidel relaxation, we modify the update step as follows: $$\\phi (\\vec x_{\\vec r})\\rightarrow (1-w)\\phi (\\vec x_{\\vec r})+w[ \\frac{1}{2d}\\sum_1^d[\\phi (\\vec x_{\\vec r+h\\vec e_i})+\\phi (\\vec x_{\\vec r-h\\vec e_i})]+\\frac{h^2}{2d\\epsilon_0}\\rho(\\vec x_{\\vec r})].$$ A relaxation parameter $w$ is introduced, and the Gauss Seidel corresponds to $w=1$. We now try to use an overrelaxation parameter $w>1$ and this method is only stable for $w<2$. In particular, there is an optimal value $w_{\\rm opt}$. In the case of a $N_x \\times N_y$ ($N_x=N_y=N-2$) lattice with Dirichlet boundary conditions, $$w_{\\rm opt}=\\frac{2}{1+\\sqrt{1-r^2}},\\ r=0.5(\\cos{(\\pi/N_x)}+\\cos{(\\pi/N_y)}).$$"
   ]
  },
  {
   "cell_type": "code",
   "execution_count": 11,
   "metadata": {},
   "outputs": [],
   "source": [
    "def sor(bound_here):\n",
    "    iterations=0\n",
    "    potential_new=copy.deepcopy(potential_initial)\n",
    "    rhere=np.cos(np.pi/(N-2))\n",
    "    w_opt=2/(1+np.sqrt(1-rhere**2))\n",
    "    print(w_opt)\n",
    "    while True:\n",
    "        iterations+=1\n",
    "        max_delta=0\n",
    "        for i in range(1,N-1):\n",
    "            for j in range(1,N-1): # simulate all N-2*N-2 sites using discretized poisson equation, no simulation for boundary \n",
    "                left_index=i-h\n",
    "                right_index=i+h\n",
    "                up_index=j+h\n",
    "                down_index=j-h\n",
    "                potential_point_new=(1-w_opt)*potential_new[i,j]+w_opt*((1/(2*d))*(potential_new[i,up_index]\n",
    "                                                                                   +potential_new[i,down_index]\n",
    "                                                                                   +potential_new[right_index,j]\n",
    "                                              +potential_new[left_index,j])+(h**2/(2*d*epsilon))*charge_density[i,j]) #new point\n",
    "                max_delta=max(max_delta,np.abs(potential_new[i,j]-potential_point_new))  #delta_phi\n",
    "                potential_new[i,j]=potential_point_new #update point\n",
    "        if max_delta <= bound_here:\n",
    "            break\n",
    "        #print(iterations,max_delta)\n",
    "    return iterations,potential_new"
   ]
  },
  {
   "cell_type": "code",
   "execution_count": 12,
   "metadata": {},
   "outputs": [
    {
     "name": "stdout",
     "output_type": "stream",
     "text": [
      "1.4464626921716894\n"
     ]
    }
   ],
   "source": [
    "iterations_sor,potential_sor=sor(0.0001)"
   ]
  },
  {
   "cell_type": "code",
   "execution_count": 13,
   "metadata": {},
   "outputs": [
    {
     "data": {
      "text/plain": [
       "27"
      ]
     },
     "execution_count": 13,
     "metadata": {},
     "output_type": "execute_result"
    }
   ],
   "source": [
    "iterations_sor"
   ]
  },
  {
   "cell_type": "code",
   "execution_count": 14,
   "metadata": {},
   "outputs": [
    {
     "data": {
      "text/plain": [
       "array([[0.        , 0.        , 0.        , 0.        , 0.        ,\n",
       "        0.        , 0.        , 0.        , 0.        , 0.        ],\n",
       "       [0.        , 1.2136007 , 1.92722626, 2.33565498, 2.5232315 ,\n",
       "        2.52324641, 2.33569493, 1.92727726, 1.21364049, 0.        ],\n",
       "       [0.        , 1.92722626, 3.15970651, 3.89221634, 4.23406954,\n",
       "        4.23409204, 3.89227668, 3.15978354, 1.92728637, 0.        ],\n",
       "       [0.        , 2.33565498, 3.89221634, 4.83948675, 5.28677923,\n",
       "        5.2868036 , 4.83955207, 3.89229974, 2.33572006, 0.        ],\n",
       "       [0.        , 2.5232315 , 4.23406954, 5.28677923, 5.78678991,\n",
       "        5.78681219, 5.28683894, 4.23414576, 2.52329098, 0.        ],\n",
       "       [0.        , 2.52324641, 4.23409204, 5.2868036 , 5.78681219,\n",
       "        5.78683009, 5.2868516 , 4.23415331, 2.52329421, 0.        ],\n",
       "       [0.        , 2.33569493, 3.89227668, 4.83955207, 5.28683894,\n",
       "        5.2868516 , 4.839586  , 3.89231998, 2.33572872, 0.        ],\n",
       "       [0.        , 1.92727726, 3.15978354, 3.89229974, 4.23414576,\n",
       "        4.23415331, 3.89231998, 3.15980938, 1.92729742, 0.        ],\n",
       "       [0.        , 1.21364049, 1.92728637, 2.33572006, 2.52329098,\n",
       "        2.52329421, 2.33572872, 1.92729742, 1.21364911, 0.        ],\n",
       "       [0.        , 0.        , 0.        , 0.        , 0.        ,\n",
       "        0.        , 0.        , 0.        , 0.        , 0.        ]])"
      ]
     },
     "execution_count": 14,
     "metadata": {},
     "output_type": "execute_result"
    }
   ],
   "source": [
    "potential_sor"
   ]
  },
  {
   "cell_type": "markdown",
   "metadata": {},
   "source": [
    "<font  face=Times color=darkblue size=3> With the same bound, we can see faster convergence."
   ]
  },
  {
   "cell_type": "markdown",
   "metadata": {},
   "source": [
    "## Matrix-Formulation"
   ]
  },
  {
   "cell_type": "markdown",
   "metadata": {},
   "source": [
    "<font  face=Times color=darkblue size=3> The discretization of Poisson equation leads to aa set of linear algebraic equations, which can be expressed as $$A\\vec \\phi = \\vec b,$$ \n",
    "    where,$$\\vec\\phi=\\left(\n",
    "    \\begin{array} {c}\n",
    "    \\phi(\\vec x_{r_0})\\\\\n",
    "    \\phi(\\vec x_{r_1})\\\\\n",
    "    \\vdots\\\\\n",
    "    \\phi(\\vec x_{r_{N_{\\rm site}-1}})\n",
    "    \\end{array}\n",
    "    \\right),\n",
    "    $$ ${\\rm N_{site}}=(N-2)^2$, $\\vec b$ is set by the boundary conditions($b_i=\\frac{h^2}{\\epsilon_0}\\rho_i+\\sum\\phi_{\\rm nearest\\ boundary}$) and the charge distribution, and $A$ is given by distribution of Laplace operator ($A(i,i)=2*d$ and $A(i,j)=1$ only if the points are neighbors).\n",
    "    <br><br> Below we build the matrices."
   ]
  },
  {
   "cell_type": "code",
   "execution_count": 15,
   "metadata": {},
   "outputs": [],
   "source": [
    "### written for 2d\n",
    "\n",
    "N_site=(N-2)**2\n",
    "A_mat=np.zeros((N_site,N_site))\n",
    "for i in range(N-2):\n",
    "    for j in range(N-2):\n",
    "        neighbor_list_row=[]\n",
    "        if j==0:\n",
    "            neighbor_list_row.append(j+1)\n",
    "        elif j==N-3:\n",
    "            neighbor_list_row.append(j-1)\n",
    "        else:\n",
    "            neighbor_list_row.append(j-1)\n",
    "            neighbor_list_row.append(j+1)\n",
    "        neighbor_list_col=[]\n",
    "        if i==0:\n",
    "            neighbor_list_col.append(i+1)\n",
    "        elif i==N-3:\n",
    "            neighbor_list_col.append(i-1)\n",
    "        else:\n",
    "            neighbor_list_col.append(i-1)\n",
    "            neighbor_list_col.append(i+1)\n",
    "        for it in neighbor_list_row:\n",
    "            A_mat[i*(N-2)+j,i*(N-2)+it]=-1\n",
    "        for it in neighbor_list_col:\n",
    "            A_mat[i*(N-2)+j,it*(N-2)+j]=-1\n",
    "        A_mat[i*(N-2)+j,i*(N-2)+j]=2*d"
   ]
  },
  {
   "cell_type": "code",
   "execution_count": 16,
   "metadata": {},
   "outputs": [
    {
     "data": {
      "text/plain": [
       "array([[ 4., -1.,  0., ...,  0.,  0.,  0.],\n",
       "       [-1.,  4., -1., ...,  0.,  0.,  0.],\n",
       "       [ 0., -1.,  4., ...,  0.,  0.,  0.],\n",
       "       ...,\n",
       "       [ 0.,  0.,  0., ...,  4., -1.,  0.],\n",
       "       [ 0.,  0.,  0., ..., -1.,  4., -1.],\n",
       "       [ 0.,  0.,  0., ...,  0., -1.,  4.]])"
      ]
     },
     "execution_count": 16,
     "metadata": {},
     "output_type": "execute_result"
    }
   ],
   "source": [
    "A_mat"
   ]
  },
  {
   "cell_type": "code",
   "execution_count": 17,
   "metadata": {},
   "outputs": [],
   "source": [
    "b_mat=np.zeros(N_site)   # each site would be the same as we use uniform charge distribution and the boundary is 0\n",
    "for i in range(N-2):\n",
    "    for j in range(N-2):\n",
    "        value_here=charge_density[i+1,j+1]*(h**2)/epsilon\n",
    "        if i==0:\n",
    "            value_here+=potential_initial[i+1-1,j+1]\n",
    "        if i==N-3:\n",
    "            value_here+=potential_initial[i+1+1,j+1]\n",
    "        if j==0:\n",
    "            value_here+=potential_initial[i+1,j+1-1]\n",
    "        if j==N-3:\n",
    "            value_here+=potential_initial[i+1,j+1+1]\n",
    "        b_mat[i*(N-2)+j]=value_here"
   ]
  },
  {
   "cell_type": "code",
   "execution_count": 18,
   "metadata": {},
   "outputs": [
    {
     "data": {
      "text/plain": [
       "array([1., 1., 1., 1., 1., 1., 1., 1., 1., 1., 1., 1., 1., 1., 1., 1., 1.,\n",
       "       1., 1., 1., 1., 1., 1., 1., 1., 1., 1., 1., 1., 1., 1., 1., 1., 1.,\n",
       "       1., 1., 1., 1., 1., 1., 1., 1., 1., 1., 1., 1., 1., 1., 1., 1., 1.,\n",
       "       1., 1., 1., 1., 1., 1., 1., 1., 1., 1., 1., 1., 1.])"
      ]
     },
     "execution_count": 18,
     "metadata": {},
     "output_type": "execute_result"
    }
   ],
   "source": [
    "b_mat"
   ]
  },
  {
   "cell_type": "markdown",
   "metadata": {},
   "source": [
    "## Gauss Elimination"
   ]
  },
  {
   "cell_type": "markdown",
   "metadata": {},
   "source": [
    "<font  face=Times color=darkblue size=3> We first use the standard procejure to solve the equations which you should be familiar with: Firstly use forward elimination to make $A$ an upper triangular matrix $\\tilde A$ with $\\vec{\\tilde b}$, and then do back substitution to obtain $\\phi$."
   ]
  },
  {
   "cell_type": "code",
   "execution_count": 19,
   "metadata": {},
   "outputs": [],
   "source": [
    "potential_gauss=np.zeros(N_site) \n",
    "#foward \n",
    "b_mat_gauss=copy.deepcopy(b_mat)\n",
    "A_mat_gauss=copy.deepcopy(A_mat)\n",
    "for j in range(N_site-1):\n",
    "    for i in range(j+1,N_site):\n",
    "        f_here=-A_mat_gauss[i,j]/A_mat_gauss[j,j]\n",
    "        for ind_k in range(j,N_site):\n",
    "            A_mat_gauss[i,ind_k]=A_mat_gauss[i,ind_k]+f_here*A_mat_gauss[j,ind_k]\n",
    "        b_mat_gauss[i]=b_mat_gauss[i]+f_here*b_mat_gauss[j]\n",
    "\n",
    "#back\n",
    "potential_gauss[-1]=b_mat_gauss[-1]/A_mat_gauss[-1,-1]\n",
    "for i in reversed(range(N_site-1)):\n",
    "    sum_here=0\n",
    "    for j in range(i+1,N_site):\n",
    "        sum_here+=A_mat_gauss[i,j]*potential_gauss[j]\n",
    "    potential_gauss[i]=(b_mat_gauss[i]-sum_here)/A_mat_gauss[i,i]"
   ]
  },
  {
   "cell_type": "code",
   "execution_count": 20,
   "metadata": {},
   "outputs": [
    {
     "data": {
      "text/plain": [
       "array([1.2136515 , 1.927303  , 2.33573807, 2.52330744, 2.52330744,\n",
       "       2.33573807, 1.927303  , 1.2136515 , 1.927303  , 3.15982242,\n",
       "       3.89234184, 4.23418424, 4.23418424, 3.89234184, 3.15982242,\n",
       "       1.927303  , 2.33573807, 3.89234184, 4.83962264, 5.28690344,\n",
       "       5.28690344, 4.83962264, 3.89234184, 2.33573807, 2.52330744,\n",
       "       4.23418424, 5.28690344, 5.78690344, 5.78690344, 5.28690344,\n",
       "       4.23418424, 2.52330744, 2.52330744, 4.23418424, 5.28690344,\n",
       "       5.78690344, 5.78690344, 5.28690344, 4.23418424, 2.52330744,\n",
       "       2.33573807, 3.89234184, 4.83962264, 5.28690344, 5.28690344,\n",
       "       4.83962264, 3.89234184, 2.33573807, 1.927303  , 3.15982242,\n",
       "       3.89234184, 4.23418424, 4.23418424, 3.89234184, 3.15982242,\n",
       "       1.927303  , 1.2136515 , 1.927303  , 2.33573807, 2.52330744,\n",
       "       2.52330744, 2.33573807, 1.927303  , 1.2136515 ])"
      ]
     },
     "execution_count": 20,
     "metadata": {},
     "output_type": "execute_result"
    }
   ],
   "source": [
    "potential_gauss #result"
   ]
  },
  {
   "cell_type": "code",
   "execution_count": 21,
   "metadata": {
    "scrolled": true
   },
   "outputs": [
    {
     "data": {
      "text/plain": [
       "array([[1.2136515 ],\n",
       "       [1.927303  ],\n",
       "       [2.33573807],\n",
       "       [2.52330744],\n",
       "       [2.52330744],\n",
       "       [2.33573807],\n",
       "       [1.927303  ],\n",
       "       [1.2136515 ],\n",
       "       [1.927303  ],\n",
       "       [3.15982242],\n",
       "       [3.89234184],\n",
       "       [4.23418424],\n",
       "       [4.23418424],\n",
       "       [3.89234184],\n",
       "       [3.15982242],\n",
       "       [1.927303  ],\n",
       "       [2.33573807],\n",
       "       [3.89234184],\n",
       "       [4.83962264],\n",
       "       [5.28690344],\n",
       "       [5.28690344],\n",
       "       [4.83962264],\n",
       "       [3.89234184],\n",
       "       [2.33573807],\n",
       "       [2.52330744],\n",
       "       [4.23418424],\n",
       "       [5.28690344],\n",
       "       [5.78690344],\n",
       "       [5.78690344],\n",
       "       [5.28690344],\n",
       "       [4.23418424],\n",
       "       [2.52330744],\n",
       "       [2.52330744],\n",
       "       [4.23418424],\n",
       "       [5.28690344],\n",
       "       [5.78690344],\n",
       "       [5.78690344],\n",
       "       [5.28690344],\n",
       "       [4.23418424],\n",
       "       [2.52330744],\n",
       "       [2.33573807],\n",
       "       [3.89234184],\n",
       "       [4.83962264],\n",
       "       [5.28690344],\n",
       "       [5.28690344],\n",
       "       [4.83962264],\n",
       "       [3.89234184],\n",
       "       [2.33573807],\n",
       "       [1.927303  ],\n",
       "       [3.15982242],\n",
       "       [3.89234184],\n",
       "       [4.23418424],\n",
       "       [4.23418424],\n",
       "       [3.89234184],\n",
       "       [3.15982242],\n",
       "       [1.927303  ],\n",
       "       [1.2136515 ],\n",
       "       [1.927303  ],\n",
       "       [2.33573807],\n",
       "       [2.52330744],\n",
       "       [2.52330744],\n",
       "       [2.33573807],\n",
       "       [1.927303  ],\n",
       "       [1.2136515 ]])"
      ]
     },
     "execution_count": 21,
     "metadata": {},
     "output_type": "execute_result"
    }
   ],
   "source": [
    "# use inverse matrix\n",
    "np.dot(np.linalg.inv(A_mat),b_mat.reshape(N_site,1))"
   ]
  },
  {
   "cell_type": "markdown",
   "metadata": {},
   "source": [
    "<font  face=Times color=darkblue size=3> Now we have the solution the same as that if we directly use ${\\rm inv}(A)\\cdot b$ (for quick confirmation), and the deviations of iterative solutions from this are less than the bound we set."
   ]
  },
  {
   "cell_type": "markdown",
   "metadata": {},
   "source": [
    "## $LU$ Decomposition"
   ]
  },
  {
   "cell_type": "markdown",
   "metadata": {},
   "source": [
    "<font  face=Times color=darkblue size=3>Performing the Gauss elimination, we obtain a triangular matrix $$\\tilde A=MA,\\ {\\rm where} M=M^{(N_{\\rm site}-2)}\\cdots M^{(1)}M^{(0)}$$ with Frobenius matrices $M^{(j)}$. (i) the diagonal matrix elements $=1$, and (ii) the matrix elements below the diagonal in the $j$-th column are equal to the values of $f$s used in the $j$-th Gauss elimination step. Therefore, $$A=M^{-1}\\cdot\\tilde A=L\\cdot U$$ is the product of the lower triangular matrix $L$ and upper triangular matrix $U$.\n",
    "    <br><br>\n",
    "    Since $A\\vec\\phi=LU\\vec\\phi=L(U\\vec\\phi)=\\vec b$, we first solve triangular system $L\\vec y=\\vec b$ using forward substitution, obtaining $\\vec y$, and then solve $U\\vec \\phi=\\vec y$ using back substitution. \n",
    "    <br><br>\n",
    "    A clever algorithm by Crout to calculate $LU$ instead of Gauss elimination: Crout fixes $L_{ii}=1$ and then calculate the other elements successively as :\n",
    "    <br><br> For $j=0,1,\\dots,n-1$ do: $$U_{ij}=A_{ij}\\sum_{k=0}^{i-1}L_{ik}U_{kj},\\ \\ i=0,\\dots,j$$\n",
    "    $$L_{ij}=\\frac{1}{U_{jj}}[A_{ij}-\\sum_{k=0}^{j-1}L_{ik}U_{kj}],\\ \\ i=j+1,\\dots,N_{\\rm site}-1$$"
   ]
  },
  {
   "cell_type": "code",
   "execution_count": 22,
   "metadata": {},
   "outputs": [],
   "source": [
    "b_mat_lu=copy.deepcopy(b_mat)   #original b\n",
    "l_mat_lu=np.zeros((N_site,N_site)) # to be decided\n",
    "u_mat_lu=np.zeros((N_site,N_site)) #directly use the matrix we got in Gauss elimination\n",
    "y_mat_lu=np.zeros(N_site)\n",
    "A_mat_lu=copy.deepcopy(A_mat) #original A\n"
   ]
  },
  {
   "cell_type": "code",
   "execution_count": 23,
   "metadata": {},
   "outputs": [],
   "source": [
    "l_mat_lu=np.eye(N_site)\n",
    "for j in range(N_site):\n",
    "    for i in range(0,j+1):\n",
    "        sum_u=0\n",
    "        if i>0:\n",
    "            for indk in range(0,i):\n",
    "                sum_u+=l_mat_lu[i,indk]*u_mat_lu[indk,j]\n",
    "        u_mat_lu[i,j]=A_mat_lu[i,j]-sum_u\n",
    "    for i in range(j+1,N_site):\n",
    "        sum_l=0\n",
    "        if j>0:\n",
    "            for indk in range(0,j):\n",
    "                sum_l+=l_mat_lu[i,indk]*u_mat_lu[indk,j]\n",
    "        l_mat_lu[i,j]=(A_mat_lu[i,j]-sum_l)/u_mat_lu[j,j]"
   ]
  },
  {
   "cell_type": "code",
   "execution_count": 24,
   "metadata": {},
   "outputs": [],
   "source": [
    "y_mat_lu[0]=b_mat_lu[0]/l_mat_lu[0,0]\n",
    "for i in range(1,N_site):\n",
    "    sum_here=0\n",
    "    for j in range(i):\n",
    "        sum_here+=l_mat_lu[i,j]*y_mat_lu[j]\n",
    "    y_mat_lu[i]=(b_mat_lu[i]-sum_here)/l_mat_lu[i,i]"
   ]
  },
  {
   "cell_type": "code",
   "execution_count": 25,
   "metadata": {},
   "outputs": [],
   "source": [
    "potential_lu=np.zeros(N_site)\n",
    "potential_lu[-1]=y_mat_lu[-1]/u_mat_lu[-1,-1]\n",
    "for i in reversed(range(0,N_site-1)):\n",
    "    sum_here=0\n",
    "    for j in range(i+1,N_site):\n",
    "        sum_here+=u_mat_lu[i,j]*potential_lu[j]\n",
    "    potential_lu[i]=(y_mat_lu[i]-sum_here)/u_mat_lu[i,i]"
   ]
  },
  {
   "cell_type": "code",
   "execution_count": 26,
   "metadata": {},
   "outputs": [
    {
     "data": {
      "text/plain": [
       "array([1.2136515 , 1.927303  , 2.33573807, 2.52330744, 2.52330744,\n",
       "       2.33573807, 1.927303  , 1.2136515 , 1.927303  , 3.15982242,\n",
       "       3.89234184, 4.23418424, 4.23418424, 3.89234184, 3.15982242,\n",
       "       1.927303  , 2.33573807, 3.89234184, 4.83962264, 5.28690344,\n",
       "       5.28690344, 4.83962264, 3.89234184, 2.33573807, 2.52330744,\n",
       "       4.23418424, 5.28690344, 5.78690344, 5.78690344, 5.28690344,\n",
       "       4.23418424, 2.52330744, 2.52330744, 4.23418424, 5.28690344,\n",
       "       5.78690344, 5.78690344, 5.28690344, 4.23418424, 2.52330744,\n",
       "       2.33573807, 3.89234184, 4.83962264, 5.28690344, 5.28690344,\n",
       "       4.83962264, 3.89234184, 2.33573807, 1.927303  , 3.15982242,\n",
       "       3.89234184, 4.23418424, 4.23418424, 3.89234184, 3.15982242,\n",
       "       1.927303  , 1.2136515 , 1.927303  , 2.33573807, 2.52330744,\n",
       "       2.52330744, 2.33573807, 1.927303  , 1.2136515 ])"
      ]
     },
     "execution_count": 26,
     "metadata": {},
     "output_type": "execute_result"
    }
   ],
   "source": [
    "potential_lu # result"
   ]
  },
  {
   "cell_type": "markdown",
   "metadata": {},
   "source": [
    "<font  face=Times color=darkblue size=3> Again, we get the same result."
   ]
  },
  {
   "cell_type": "markdown",
   "metadata": {},
   "source": [
    "## Conjugate Gradient Method"
   ]
  },
  {
   "cell_type": "markdown",
   "metadata": {},
   "source": [
    "<font  face=Times color=darkblue size=3> For a symmetric positive-definite $n\\times n$ matrix $A$, and a set of equations $A\\vec x=\\vec b$, we can define\n",
    "    $$f(\\vec x)=\\frac{1}{2}\\vec x\\cdot A\\vec x-\\vec b\\vec x,$$\n",
    "    so that the minimum of $f$ is a solution to the system of equations. One way to find the minimum is the method of steepest descent with an arbitrary $\\vec x_0$. Then the next point is $\\vec x_1=\\vec x_0+\\lambda_0\\vec r_0,$ with $\\vec r_0=-\\nabla f(\\vec x_0)=-A\\vec x_0+\\vec b$, and with $\\frac{d}{d\\lambda_0}f(\\vec x_0+\\lambda_0\\vec r_0)=0\\ \\Rightarrow\\ \\lambda_0=\\frac{\\vec r_0\\cdot\\vec r_0}{\\vec r_0\\cdot A\\vec r_0}.$ Continue the iteration until $|\\vec r_k|<\\epsilon$.\n",
    "   <br> \n",
    "    To minimize the steps, there is a way to choose the direction at $\\vec x_1$ such that the gradient keeps vanishing along the previous direction $\\vec r_0$. This implies not only $\\vec r_0\\perp\\nabla f(\\vec x_1)$, but also $\\vec r_0\\perp\\nabla f(\\vec x_1+\\lambda_1\\vec r_1)\\ \\Rightarrow\\ \\vec r_0\\cdot A\\vec r_1=0$.\n",
    "    Such vectors $\\vec r_0$ and $\\vec r_1$ are called A-conjugare vectors.\n",
    "    <br><br>\n",
    "    To have explicit construction by Hestens and Stiefel:\n",
    "    $$\\vec r_0=\\vec g_0=-\\nabla f(\\vec x_0)$$\n",
    "    $$\\vec x_{k+1}=\\vec x_k+\\lambda_k\\vec r_k,\\ \\ \\lambda_k=\\frac{\\vec g_k\\cdot\\vec g_k}{\\vec r_k\\cdot A\\vec r_k}$$\n",
    "    $$\\vec g_{k+1}=\\vec g_k-\\lambda_k\\cdot A\\vec r_k$$\n",
    "    $$\\vec r_{k+1}=\\vec g_{k+1}+\\frac{\\vec g_{k+1}\\cdot\\vec g_{k+1}}{\\vec g_k\\cdot\\vec g_k}\\vec r_k.$$"
   ]
  },
  {
   "cell_type": "code",
   "execution_count": 27,
   "metadata": {},
   "outputs": [],
   "source": [
    "A_mat_cg=copy.deepcopy(A_mat)\n",
    "b_mat_cg=copy.deepcopy(b_mat)\n",
    "potential_cg=np.zeros(N_site)"
   ]
  },
  {
   "cell_type": "code",
   "execution_count": 28,
   "metadata": {},
   "outputs": [],
   "source": [
    "r_cg=g_cg=-np.dot(A_mat_cg,potential_cg.reshape(N_site,1))+b_mat_cg.reshape(N_site,1)"
   ]
  },
  {
   "cell_type": "code",
   "execution_count": 29,
   "metadata": {},
   "outputs": [],
   "source": [
    "bound_cg=0.0001\n",
    "iter_cg=0\n",
    "while True:\n",
    "    iter_cg+=1\n",
    "    lambda_cg=np.dot(g_cg.reshape(1,N_site),g_cg)/np.dot(r_cg.reshape(1,N_site),np.dot(A_mat_cg,r_cg))\n",
    "    potential_cg=potential_cg.reshape(N_site,1)+lambda_cg*r_cg\n",
    "    g_cg_new=g_cg-lambda_cg*np.dot(A_mat_cg,r_cg)\n",
    "    r_cg=g_cg_new+(np.dot(g_cg_new.reshape(1,N_site),g_cg_new)/np.dot(g_cg.reshape(1,N_site),g_cg))*r_cg\n",
    "    if np.linalg.norm(r_cg)<bound_cg:\n",
    "        break\n",
    "    else:\n",
    "        g_cg=copy.deepcopy(g_cg_new)"
   ]
  },
  {
   "cell_type": "code",
   "execution_count": 30,
   "metadata": {
    "scrolled": true
   },
   "outputs": [
    {
     "data": {
      "text/plain": [
       "array([[1.2136515 ],\n",
       "       [1.927303  ],\n",
       "       [2.33573807],\n",
       "       [2.52330744],\n",
       "       [2.52330744],\n",
       "       [2.33573807],\n",
       "       [1.927303  ],\n",
       "       [1.2136515 ],\n",
       "       [1.927303  ],\n",
       "       [3.15982242],\n",
       "       [3.89234184],\n",
       "       [4.23418424],\n",
       "       [4.23418424],\n",
       "       [3.89234184],\n",
       "       [3.15982242],\n",
       "       [1.927303  ],\n",
       "       [2.33573807],\n",
       "       [3.89234184],\n",
       "       [4.83962264],\n",
       "       [5.28690344],\n",
       "       [5.28690344],\n",
       "       [4.83962264],\n",
       "       [3.89234184],\n",
       "       [2.33573807],\n",
       "       [2.52330744],\n",
       "       [4.23418424],\n",
       "       [5.28690344],\n",
       "       [5.78690344],\n",
       "       [5.78690344],\n",
       "       [5.28690344],\n",
       "       [4.23418424],\n",
       "       [2.52330744],\n",
       "       [2.52330744],\n",
       "       [4.23418424],\n",
       "       [5.28690344],\n",
       "       [5.78690344],\n",
       "       [5.78690344],\n",
       "       [5.28690344],\n",
       "       [4.23418424],\n",
       "       [2.52330744],\n",
       "       [2.33573807],\n",
       "       [3.89234184],\n",
       "       [4.83962264],\n",
       "       [5.28690344],\n",
       "       [5.28690344],\n",
       "       [4.83962264],\n",
       "       [3.89234184],\n",
       "       [2.33573807],\n",
       "       [1.927303  ],\n",
       "       [3.15982242],\n",
       "       [3.89234184],\n",
       "       [4.23418424],\n",
       "       [4.23418424],\n",
       "       [3.89234184],\n",
       "       [3.15982242],\n",
       "       [1.927303  ],\n",
       "       [1.2136515 ],\n",
       "       [1.927303  ],\n",
       "       [2.33573807],\n",
       "       [2.52330744],\n",
       "       [2.52330744],\n",
       "       [2.33573807],\n",
       "       [1.927303  ],\n",
       "       [1.2136515 ]])"
      ]
     },
     "execution_count": 30,
     "metadata": {},
     "output_type": "execute_result"
    }
   ],
   "source": [
    "potential_cg"
   ]
  },
  {
   "cell_type": "code",
   "execution_count": 31,
   "metadata": {},
   "outputs": [
    {
     "data": {
      "text/plain": [
       "10"
      ]
     },
     "execution_count": 31,
     "metadata": {},
     "output_type": "execute_result"
    }
   ],
   "source": [
    "iter_cg"
   ]
  },
  {
   "cell_type": "code",
   "execution_count": null,
   "metadata": {},
   "outputs": [],
   "source": []
  }
 ],
 "metadata": {
  "kernelspec": {
   "display_name": "Python 3",
   "language": "python",
   "name": "python3"
  },
  "language_info": {
   "codemirror_mode": {
    "name": "ipython",
    "version": 3
   },
   "file_extension": ".py",
   "mimetype": "text/x-python",
   "name": "python",
   "nbconvert_exporter": "python",
   "pygments_lexer": "ipython3",
   "version": "3.8.7"
  }
 },
 "nbformat": 4,
 "nbformat_minor": 4
}
