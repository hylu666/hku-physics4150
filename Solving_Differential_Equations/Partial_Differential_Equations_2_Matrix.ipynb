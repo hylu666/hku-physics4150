{
 "cells": [
  {
   "cell_type": "code",
   "execution_count": 1,
   "metadata": {
    "id": "8iGrzMXAE9OS"
   },
   "outputs": [],
   "source": [
    "import numpy as np\n",
    "import matplotlib.pyplot as plt\n",
    "import copy"
   ]
  },
  {
   "cell_type": "markdown",
   "metadata": {
    "id": "Xj3FmuAcE9OW"
   },
   "source": [
    "# Poisson Equations"
   ]
  },
  {
   "cell_type": "markdown",
   "metadata": {
    "id": "yYnvZe7TE9OX"
   },
   "source": [
    "<font  face=Times color=darkblue size=3> In this notebook, we discuss computational methods to solve Poisson equation: $$\\Delta \\phi (\\vec x_{\\vec r})=-\\frac{1}{\\epsilon_0}\\rho(\\vec x_{\\vec r}).$$ After discretization through the centered three-point formula in each direction, it has a form: $$\\phi (\\vec x_{\\vec r})=\\frac{1}{2d}\\sum_1^d[\\phi (\\vec x_{\\vec r+h\\vec e_i})+\\phi (\\vec x_{\\vec r-h\\vec e_i})]+\\frac{h^2}{2d\\epsilon_0}\\rho(\\vec x_{\\vec r}).$$\n",
    "    For simplicity, we set the time spacing $h=1$, $\\epsilon_0=1$ and we consider $N\\times N$ two-dimensional cases($d=2$ and including the boundary) with the initial condition and charge density defined as below. We use Dirichlet boundary conditions: $\\phi(\\vec{x}_\\vec{r}) =0$ for $\\vec{x}_\\vec{r}\\in \\partial V$."
   ]
  },
  {
   "cell_type": "code",
   "execution_count": 2,
   "metadata": {
    "id": "jgR7031qE9OX"
   },
   "outputs": [],
   "source": [
    "### you can change the initial conditions in this cell for all methods below, including N and the charge_density\n",
    "\n",
    "N=20 #2 of N are boundaries\n",
    "d=2\n",
    "epsilon=1\n",
    "h=1\n",
    "#initial condition\n",
    "potential_initial=np.zeros((N,N)) #this includes boundary=0\n",
    "charge_density=np.ones((N,N))   #uniform distribution for introduction of the methods"
   ]
  },
  {
   "cell_type": "markdown",
   "metadata": {
    "id": "pt0ZPKrjE9Ol"
   },
   "source": [
    "## Matrix-Formulation"
   ]
  },
  {
   "cell_type": "markdown",
   "metadata": {
    "id": "Ch1EWcPmE9Ol"
   },
   "source": [
    "<font  face=Times color=darkblue size=3> The discretization of Poisson equation leads to aa set of linear algebraic equations, which can be expressed as $$A\\vec \\phi = \\vec b,$$ \n",
    "  where,$$\\vec\\phi=\\left(\n",
    "    \\begin{array} {c}\n",
    "    \\phi(\\vec x_{r_0})\\\\\n",
    "    \\phi(\\vec x_{r_1})\\\\\n",
    "    \\vdots\\\\\n",
    "    \\phi(\\vec x_{r_{N_{\\rm site}-1}})\n",
    "    \\end{array}\n",
    "    \\right),\n",
    "    $$ ${\\rm N_{site}}=(N-2)^2$, $\\vec b$ is set by the boundary conditions($b_i=\\frac{h^2}{\\epsilon_0}\\rho_i+\\sum\\phi_{\\rm nearest\\ boundary}$) and the charge distribution, and $A$ is given by distribution of Laplace operator ($A(i,i)=2*d$ and $A(i,j)=1$ only if the points are neighbors).\n",
    "    <br><br> Below we build the matrices."
   ]
  },
  {
   "cell_type": "code",
   "execution_count": 3,
   "metadata": {
    "id": "NDpxiK6eE9Ol"
   },
   "outputs": [],
   "source": [
    "### written for 2d\n",
    "\n",
    "N_site=(N-2)**2\n",
    "A_mat=np.zeros((N_site,N_site))\n",
    "for i in range(N-2):\n",
    "    for j in range(N-2):\n",
    "        neighbor_list_row=[]\n",
    "        if j==0:\n",
    "            neighbor_list_row.append(j+1)\n",
    "        elif j==N-3:\n",
    "            neighbor_list_row.append(j-1)\n",
    "        else:\n",
    "            neighbor_list_row.append(j-1)\n",
    "            neighbor_list_row.append(j+1)\n",
    "        neighbor_list_col=[]\n",
    "        if i==0:\n",
    "            neighbor_list_col.append(i+1)\n",
    "        elif i==N-3:\n",
    "            neighbor_list_col.append(i-1)\n",
    "        else:\n",
    "            neighbor_list_col.append(i-1)\n",
    "            neighbor_list_col.append(i+1)\n",
    "        for it in neighbor_list_row:\n",
    "            A_mat[i*(N-2)+j,i*(N-2)+it]=-1\n",
    "        for it in neighbor_list_col:\n",
    "            A_mat[i*(N-2)+j,it*(N-2)+j]=-1\n",
    "        A_mat[i*(N-2)+j,i*(N-2)+j]=2*d"
   ]
  },
  {
   "cell_type": "code",
   "execution_count": 4,
   "metadata": {
    "id": "4XQAgAjcE9Om",
    "outputId": "1b58faad-c809-4736-b4c5-235a599eda31"
   },
   "outputs": [
    {
     "data": {
      "text/plain": [
       "array([[ 4., -1.,  0., ...,  0.,  0.,  0.],\n",
       "       [-1.,  4., -1., ...,  0.,  0.,  0.],\n",
       "       [ 0., -1.,  4., ...,  0.,  0.,  0.],\n",
       "       ...,\n",
       "       [ 0.,  0.,  0., ...,  4., -1.,  0.],\n",
       "       [ 0.,  0.,  0., ..., -1.,  4., -1.],\n",
       "       [ 0.,  0.,  0., ...,  0., -1.,  4.]])"
      ]
     },
     "execution_count": 4,
     "metadata": {},
     "output_type": "execute_result"
    }
   ],
   "source": [
    "A_mat"
   ]
  },
  {
   "cell_type": "code",
   "execution_count": 5,
   "metadata": {
    "id": "OoZt7704E9On"
   },
   "outputs": [],
   "source": [
    "b_mat=np.zeros(N_site)   # each site would be the same as we use uniform charge distribution and the boundary is 0\n",
    "for i in range(N-2):\n",
    "    for j in range(N-2):\n",
    "        value_here=charge_density[i+1,j+1]*(h**2)/epsilon\n",
    "        if i==0:\n",
    "            value_here+=potential_initial[i+1-1,j+1]\n",
    "        if i==N-3:\n",
    "            value_here+=potential_initial[i+1+1,j+1]\n",
    "        if j==0:\n",
    "            value_here+=potential_initial[i+1,j+1-1]\n",
    "        if j==N-3:\n",
    "            value_here+=potential_initial[i+1,j+1+1]\n",
    "        b_mat[i*(N-2)+j]=value_here"
   ]
  },
  {
   "cell_type": "code",
   "execution_count": 6,
   "metadata": {
    "id": "VCBFmG7rE9On",
    "outputId": "3911a8ec-a327-4c23-c702-74fb87b0b8a3"
   },
   "outputs": [
    {
     "data": {
      "text/plain": [
       "array([1., 1., 1., 1., 1., 1., 1., 1., 1., 1., 1., 1., 1., 1., 1., 1., 1.,\n",
       "       1., 1., 1., 1., 1., 1., 1., 1., 1., 1., 1., 1., 1., 1., 1., 1., 1.,\n",
       "       1., 1., 1., 1., 1., 1., 1., 1., 1., 1., 1., 1., 1., 1., 1., 1., 1.,\n",
       "       1., 1., 1., 1., 1., 1., 1., 1., 1., 1., 1., 1., 1., 1., 1., 1., 1.,\n",
       "       1., 1., 1., 1., 1., 1., 1., 1., 1., 1., 1., 1., 1., 1., 1., 1., 1.,\n",
       "       1., 1., 1., 1., 1., 1., 1., 1., 1., 1., 1., 1., 1., 1., 1., 1., 1.,\n",
       "       1., 1., 1., 1., 1., 1., 1., 1., 1., 1., 1., 1., 1., 1., 1., 1., 1.,\n",
       "       1., 1., 1., 1., 1., 1., 1., 1., 1., 1., 1., 1., 1., 1., 1., 1., 1.,\n",
       "       1., 1., 1., 1., 1., 1., 1., 1., 1., 1., 1., 1., 1., 1., 1., 1., 1.,\n",
       "       1., 1., 1., 1., 1., 1., 1., 1., 1., 1., 1., 1., 1., 1., 1., 1., 1.,\n",
       "       1., 1., 1., 1., 1., 1., 1., 1., 1., 1., 1., 1., 1., 1., 1., 1., 1.,\n",
       "       1., 1., 1., 1., 1., 1., 1., 1., 1., 1., 1., 1., 1., 1., 1., 1., 1.,\n",
       "       1., 1., 1., 1., 1., 1., 1., 1., 1., 1., 1., 1., 1., 1., 1., 1., 1.,\n",
       "       1., 1., 1., 1., 1., 1., 1., 1., 1., 1., 1., 1., 1., 1., 1., 1., 1.,\n",
       "       1., 1., 1., 1., 1., 1., 1., 1., 1., 1., 1., 1., 1., 1., 1., 1., 1.,\n",
       "       1., 1., 1., 1., 1., 1., 1., 1., 1., 1., 1., 1., 1., 1., 1., 1., 1.,\n",
       "       1., 1., 1., 1., 1., 1., 1., 1., 1., 1., 1., 1., 1., 1., 1., 1., 1.,\n",
       "       1., 1., 1., 1., 1., 1., 1., 1., 1., 1., 1., 1., 1., 1., 1., 1., 1.,\n",
       "       1., 1., 1., 1., 1., 1., 1., 1., 1., 1., 1., 1., 1., 1., 1., 1., 1.,\n",
       "       1.])"
      ]
     },
     "execution_count": 6,
     "metadata": {},
     "output_type": "execute_result"
    }
   ],
   "source": [
    "b_mat"
   ]
  },
  {
   "cell_type": "markdown",
   "metadata": {
    "id": "hhWCQvVLE9On"
   },
   "source": [
    "## Gauss Elimination"
   ]
  },
  {
   "cell_type": "markdown",
   "metadata": {
    "id": "KTriQUZQE9On"
   },
   "source": [
    "<font  face=Times color=darkblue size=3> We first use the standard procejure to solve the equations which you should be familiar with: Firstly use forward elimination to make $A$ an upper triangular matrix $\\tilde A$ with $\\vec{\\tilde b}$, and then do back substitution to obtain $\\phi$."
   ]
  },
  {
   "cell_type": "code",
   "execution_count": 7,
   "metadata": {
    "id": "wryeuPvsE9Oo"
   },
   "outputs": [],
   "source": [
    "potential_gauss=np.zeros(N_site) \n",
    "#foward \n",
    "b_mat_gauss=copy.deepcopy(b_mat)\n",
    "A_mat_gauss=copy.deepcopy(A_mat)\n",
    "for j in range(N_site-1):\n",
    "    for i in range(j+1,N_site):\n",
    "        f_here=-A_mat_gauss[i,j]/A_mat_gauss[j,j]\n",
    "        for ind_k in range(j,N_site):\n",
    "            A_mat_gauss[i,ind_k]=A_mat_gauss[i,ind_k]+f_here*A_mat_gauss[j,ind_k]\n",
    "        b_mat_gauss[i]=b_mat_gauss[i]+f_here*b_mat_gauss[j]\n",
    "\n",
    "#back\n",
    "potential_gauss[-1]=b_mat_gauss[-1]/A_mat_gauss[-1,-1]\n",
    "for i in reversed(range(N_site-1)):\n",
    "    sum_here=0\n",
    "    for j in range(i+1,N_site):\n",
    "        sum_here+=A_mat_gauss[i,j]*potential_gauss[j]\n",
    "    potential_gauss[i]=(b_mat_gauss[i]-sum_here)/A_mat_gauss[i,i]"
   ]
  },
  {
   "cell_type": "code",
   "execution_count": 8,
   "metadata": {
    "id": "p-UzhL4ME9Oo",
    "outputId": "71c839e3-00b0-4be7-a1be-2c36d1ef2a32",
    "scrolled": true
   },
   "outputs": [
    {
     "data": {
      "text/plain": [
       "array([ 1.69178057,  2.88356113,  3.77285451,  4.45219911,  4.97164849,\n",
       "        5.36116745,  5.63973174,  5.81945405,  5.90760295,  5.90760295,\n",
       "        5.81945405,  5.63973174,  5.36116745,  4.97164849,  4.45219911,\n",
       "        3.77285451,  2.88356113,  1.69178057,  2.88356113,  5.06960946,\n",
       "        6.75565778,  8.06429347,  9.07322738,  9.83328957, 10.37830547,\n",
       "       10.73048149, 10.90335482, 10.90335482, 10.73048149, 10.37830547,\n",
       "        9.83328957,  9.07322738,  8.06429347,  6.75565778,  5.06960946,\n",
       "        2.88356113,  3.77285451,  6.75565778,  9.11587369, 10.9760896 ,\n",
       "       12.42367798, 13.520458  , 14.30971909, 14.82081162, 15.07198001,\n",
       "       15.07198001, 14.82081162, 14.30971909, 13.520458  , 12.42367798,\n",
       "       10.9760896 ,  9.11587369,  6.75565778,  3.77285451,  4.45219911,\n",
       "        8.06429347, 10.9760896 , 13.30051326, 15.12493693, 16.51514536,\n",
       "       17.51930125, 18.17106591, 18.49177358, 18.49177358, 18.17106591,\n",
       "       17.51930125, 16.51514536, 15.12493693, 13.30051326, 10.9760896 ,\n",
       "        8.06429347,  4.45219911,  4.97164849,  9.07322738, 12.42367798,\n",
       "       15.12493693, 17.26041111, 18.89588528, 20.08127463, 20.85237717,\n",
       "       21.23227484, 21.23227484, 20.85237717, 20.08127463, 18.89588528,\n",
       "       17.26041111, 15.12493693, 12.42367798,  9.07322738,  4.97164849,\n",
       "        5.36116745,  9.83328957, 13.520458  , 16.51514536, 18.89588528,\n",
       "       20.72671004, 22.0575348 , 22.92489333, 23.35267375, 23.35267375,\n",
       "       22.92489333, 22.0575348 , 20.72671004, 18.89588528, 16.51514536,\n",
       "       13.520458  ,  9.83328957,  5.36116745,  5.63973174, 10.37830547,\n",
       "       14.30971909, 17.51930125, 20.08127463, 22.0575348 , 23.4972612 ,\n",
       "       24.43698759, 24.90085309, 24.90085309, 24.43698759, 23.4972612 ,\n",
       "       22.0575348 , 20.08127463, 17.51930125, 14.30971909, 10.37830547,\n",
       "        5.63973174,  5.81945405, 10.73048149, 14.82081162, 18.17106591,\n",
       "       20.85237717, 22.92489333, 24.43698759, 25.42494276, 25.91289792,\n",
       "       25.91289792, 25.42494276, 24.43698759, 22.92489333, 20.85237717,\n",
       "       18.17106591, 14.82081162, 10.73048149,  5.81945405,  5.90760295,\n",
       "       10.90335482, 15.07198001, 18.49177358, 21.23227484, 23.35267375,\n",
       "       24.90085309, 25.91289792, 26.41289792, 26.41289792, 25.91289792,\n",
       "       24.90085309, 23.35267375, 21.23227484, 18.49177358, 15.07198001,\n",
       "       10.90335482,  5.90760295,  5.90760295, 10.90335482, 15.07198001,\n",
       "       18.49177358, 21.23227484, 23.35267375, 24.90085309, 25.91289792,\n",
       "       26.41289792, 26.41289792, 25.91289792, 24.90085309, 23.35267375,\n",
       "       21.23227484, 18.49177358, 15.07198001, 10.90335482,  5.90760295,\n",
       "        5.81945405, 10.73048149, 14.82081162, 18.17106591, 20.85237717,\n",
       "       22.92489333, 24.43698759, 25.42494276, 25.91289792, 25.91289792,\n",
       "       25.42494276, 24.43698759, 22.92489333, 20.85237717, 18.17106591,\n",
       "       14.82081162, 10.73048149,  5.81945405,  5.63973174, 10.37830547,\n",
       "       14.30971909, 17.51930125, 20.08127463, 22.0575348 , 23.4972612 ,\n",
       "       24.43698759, 24.90085309, 24.90085309, 24.43698759, 23.4972612 ,\n",
       "       22.0575348 , 20.08127463, 17.51930125, 14.30971909, 10.37830547,\n",
       "        5.63973174,  5.36116745,  9.83328957, 13.520458  , 16.51514536,\n",
       "       18.89588528, 20.72671004, 22.0575348 , 22.92489333, 23.35267375,\n",
       "       23.35267375, 22.92489333, 22.0575348 , 20.72671004, 18.89588528,\n",
       "       16.51514536, 13.520458  ,  9.83328957,  5.36116745,  4.97164849,\n",
       "        9.07322738, 12.42367798, 15.12493693, 17.26041111, 18.89588528,\n",
       "       20.08127463, 20.85237717, 21.23227484, 21.23227484, 20.85237717,\n",
       "       20.08127463, 18.89588528, 17.26041111, 15.12493693, 12.42367798,\n",
       "        9.07322738,  4.97164849,  4.45219911,  8.06429347, 10.9760896 ,\n",
       "       13.30051326, 15.12493693, 16.51514536, 17.51930125, 18.17106591,\n",
       "       18.49177358, 18.49177358, 18.17106591, 17.51930125, 16.51514536,\n",
       "       15.12493693, 13.30051326, 10.9760896 ,  8.06429347,  4.45219911,\n",
       "        3.77285451,  6.75565778,  9.11587369, 10.9760896 , 12.42367798,\n",
       "       13.520458  , 14.30971909, 14.82081162, 15.07198001, 15.07198001,\n",
       "       14.82081162, 14.30971909, 13.520458  , 12.42367798, 10.9760896 ,\n",
       "        9.11587369,  6.75565778,  3.77285451,  2.88356113,  5.06960946,\n",
       "        6.75565778,  8.06429347,  9.07322738,  9.83328957, 10.37830547,\n",
       "       10.73048149, 10.90335482, 10.90335482, 10.73048149, 10.37830547,\n",
       "        9.83328957,  9.07322738,  8.06429347,  6.75565778,  5.06960946,\n",
       "        2.88356113,  1.69178057,  2.88356113,  3.77285451,  4.45219911,\n",
       "        4.97164849,  5.36116745,  5.63973174,  5.81945405,  5.90760295,\n",
       "        5.90760295,  5.81945405,  5.63973174,  5.36116745,  4.97164849,\n",
       "        4.45219911,  3.77285451,  2.88356113,  1.69178057])"
      ]
     },
     "execution_count": 8,
     "metadata": {},
     "output_type": "execute_result"
    }
   ],
   "source": [
    "potential_gauss #result"
   ]
  },
  {
   "cell_type": "code",
   "execution_count": 9,
   "metadata": {
    "id": "7y_9Y5F5E9Oo",
    "outputId": "1a907670-91bf-4310-cd2e-1ceaead6e1c0",
    "scrolled": true
   },
   "outputs": [
    {
     "data": {
      "text/plain": [
       "array([[ 1.69178057],\n",
       "       [ 2.88356113],\n",
       "       [ 3.77285451],\n",
       "       [ 4.45219911],\n",
       "       [ 4.97164849],\n",
       "       [ 5.36116745],\n",
       "       [ 5.63973174],\n",
       "       [ 5.81945405],\n",
       "       [ 5.90760295],\n",
       "       [ 5.90760295],\n",
       "       [ 5.81945405],\n",
       "       [ 5.63973174],\n",
       "       [ 5.36116745],\n",
       "       [ 4.97164849],\n",
       "       [ 4.45219911],\n",
       "       [ 3.77285451],\n",
       "       [ 2.88356113],\n",
       "       [ 1.69178057],\n",
       "       [ 2.88356113],\n",
       "       [ 5.06960946],\n",
       "       [ 6.75565778],\n",
       "       [ 8.06429347],\n",
       "       [ 9.07322738],\n",
       "       [ 9.83328957],\n",
       "       [10.37830547],\n",
       "       [10.73048149],\n",
       "       [10.90335482],\n",
       "       [10.90335482],\n",
       "       [10.73048149],\n",
       "       [10.37830547],\n",
       "       [ 9.83328957],\n",
       "       [ 9.07322738],\n",
       "       [ 8.06429347],\n",
       "       [ 6.75565778],\n",
       "       [ 5.06960946],\n",
       "       [ 2.88356113],\n",
       "       [ 3.77285451],\n",
       "       [ 6.75565778],\n",
       "       [ 9.11587369],\n",
       "       [10.9760896 ],\n",
       "       [12.42367798],\n",
       "       [13.520458  ],\n",
       "       [14.30971909],\n",
       "       [14.82081162],\n",
       "       [15.07198001],\n",
       "       [15.07198001],\n",
       "       [14.82081162],\n",
       "       [14.30971909],\n",
       "       [13.520458  ],\n",
       "       [12.42367798],\n",
       "       [10.9760896 ],\n",
       "       [ 9.11587369],\n",
       "       [ 6.75565778],\n",
       "       [ 3.77285451],\n",
       "       [ 4.45219911],\n",
       "       [ 8.06429347],\n",
       "       [10.9760896 ],\n",
       "       [13.30051326],\n",
       "       [15.12493693],\n",
       "       [16.51514536],\n",
       "       [17.51930125],\n",
       "       [18.17106591],\n",
       "       [18.49177358],\n",
       "       [18.49177358],\n",
       "       [18.17106591],\n",
       "       [17.51930125],\n",
       "       [16.51514536],\n",
       "       [15.12493693],\n",
       "       [13.30051326],\n",
       "       [10.9760896 ],\n",
       "       [ 8.06429347],\n",
       "       [ 4.45219911],\n",
       "       [ 4.97164849],\n",
       "       [ 9.07322738],\n",
       "       [12.42367798],\n",
       "       [15.12493693],\n",
       "       [17.26041111],\n",
       "       [18.89588528],\n",
       "       [20.08127463],\n",
       "       [20.85237717],\n",
       "       [21.23227484],\n",
       "       [21.23227484],\n",
       "       [20.85237717],\n",
       "       [20.08127463],\n",
       "       [18.89588528],\n",
       "       [17.26041111],\n",
       "       [15.12493693],\n",
       "       [12.42367798],\n",
       "       [ 9.07322738],\n",
       "       [ 4.97164849],\n",
       "       [ 5.36116745],\n",
       "       [ 9.83328957],\n",
       "       [13.520458  ],\n",
       "       [16.51514536],\n",
       "       [18.89588528],\n",
       "       [20.72671004],\n",
       "       [22.0575348 ],\n",
       "       [22.92489333],\n",
       "       [23.35267375],\n",
       "       [23.35267375],\n",
       "       [22.92489333],\n",
       "       [22.0575348 ],\n",
       "       [20.72671004],\n",
       "       [18.89588528],\n",
       "       [16.51514536],\n",
       "       [13.520458  ],\n",
       "       [ 9.83328957],\n",
       "       [ 5.36116745],\n",
       "       [ 5.63973174],\n",
       "       [10.37830547],\n",
       "       [14.30971909],\n",
       "       [17.51930125],\n",
       "       [20.08127463],\n",
       "       [22.0575348 ],\n",
       "       [23.4972612 ],\n",
       "       [24.43698759],\n",
       "       [24.90085309],\n",
       "       [24.90085309],\n",
       "       [24.43698759],\n",
       "       [23.4972612 ],\n",
       "       [22.0575348 ],\n",
       "       [20.08127463],\n",
       "       [17.51930125],\n",
       "       [14.30971909],\n",
       "       [10.37830547],\n",
       "       [ 5.63973174],\n",
       "       [ 5.81945405],\n",
       "       [10.73048149],\n",
       "       [14.82081162],\n",
       "       [18.17106591],\n",
       "       [20.85237717],\n",
       "       [22.92489333],\n",
       "       [24.43698759],\n",
       "       [25.42494276],\n",
       "       [25.91289792],\n",
       "       [25.91289792],\n",
       "       [25.42494276],\n",
       "       [24.43698759],\n",
       "       [22.92489333],\n",
       "       [20.85237717],\n",
       "       [18.17106591],\n",
       "       [14.82081162],\n",
       "       [10.73048149],\n",
       "       [ 5.81945405],\n",
       "       [ 5.90760295],\n",
       "       [10.90335482],\n",
       "       [15.07198001],\n",
       "       [18.49177358],\n",
       "       [21.23227484],\n",
       "       [23.35267375],\n",
       "       [24.90085309],\n",
       "       [25.91289792],\n",
       "       [26.41289792],\n",
       "       [26.41289792],\n",
       "       [25.91289792],\n",
       "       [24.90085309],\n",
       "       [23.35267375],\n",
       "       [21.23227484],\n",
       "       [18.49177358],\n",
       "       [15.07198001],\n",
       "       [10.90335482],\n",
       "       [ 5.90760295],\n",
       "       [ 5.90760295],\n",
       "       [10.90335482],\n",
       "       [15.07198001],\n",
       "       [18.49177358],\n",
       "       [21.23227484],\n",
       "       [23.35267375],\n",
       "       [24.90085309],\n",
       "       [25.91289792],\n",
       "       [26.41289792],\n",
       "       [26.41289792],\n",
       "       [25.91289792],\n",
       "       [24.90085309],\n",
       "       [23.35267375],\n",
       "       [21.23227484],\n",
       "       [18.49177358],\n",
       "       [15.07198001],\n",
       "       [10.90335482],\n",
       "       [ 5.90760295],\n",
       "       [ 5.81945405],\n",
       "       [10.73048149],\n",
       "       [14.82081162],\n",
       "       [18.17106591],\n",
       "       [20.85237717],\n",
       "       [22.92489333],\n",
       "       [24.43698759],\n",
       "       [25.42494276],\n",
       "       [25.91289792],\n",
       "       [25.91289792],\n",
       "       [25.42494276],\n",
       "       [24.43698759],\n",
       "       [22.92489333],\n",
       "       [20.85237717],\n",
       "       [18.17106591],\n",
       "       [14.82081162],\n",
       "       [10.73048149],\n",
       "       [ 5.81945405],\n",
       "       [ 5.63973174],\n",
       "       [10.37830547],\n",
       "       [14.30971909],\n",
       "       [17.51930125],\n",
       "       [20.08127463],\n",
       "       [22.0575348 ],\n",
       "       [23.4972612 ],\n",
       "       [24.43698759],\n",
       "       [24.90085309],\n",
       "       [24.90085309],\n",
       "       [24.43698759],\n",
       "       [23.4972612 ],\n",
       "       [22.0575348 ],\n",
       "       [20.08127463],\n",
       "       [17.51930125],\n",
       "       [14.30971909],\n",
       "       [10.37830547],\n",
       "       [ 5.63973174],\n",
       "       [ 5.36116745],\n",
       "       [ 9.83328957],\n",
       "       [13.520458  ],\n",
       "       [16.51514536],\n",
       "       [18.89588528],\n",
       "       [20.72671004],\n",
       "       [22.0575348 ],\n",
       "       [22.92489333],\n",
       "       [23.35267375],\n",
       "       [23.35267375],\n",
       "       [22.92489333],\n",
       "       [22.0575348 ],\n",
       "       [20.72671004],\n",
       "       [18.89588528],\n",
       "       [16.51514536],\n",
       "       [13.520458  ],\n",
       "       [ 9.83328957],\n",
       "       [ 5.36116745],\n",
       "       [ 4.97164849],\n",
       "       [ 9.07322738],\n",
       "       [12.42367798],\n",
       "       [15.12493693],\n",
       "       [17.26041111],\n",
       "       [18.89588528],\n",
       "       [20.08127463],\n",
       "       [20.85237717],\n",
       "       [21.23227484],\n",
       "       [21.23227484],\n",
       "       [20.85237717],\n",
       "       [20.08127463],\n",
       "       [18.89588528],\n",
       "       [17.26041111],\n",
       "       [15.12493693],\n",
       "       [12.42367798],\n",
       "       [ 9.07322738],\n",
       "       [ 4.97164849],\n",
       "       [ 4.45219911],\n",
       "       [ 8.06429347],\n",
       "       [10.9760896 ],\n",
       "       [13.30051326],\n",
       "       [15.12493693],\n",
       "       [16.51514536],\n",
       "       [17.51930125],\n",
       "       [18.17106591],\n",
       "       [18.49177358],\n",
       "       [18.49177358],\n",
       "       [18.17106591],\n",
       "       [17.51930125],\n",
       "       [16.51514536],\n",
       "       [15.12493693],\n",
       "       [13.30051326],\n",
       "       [10.9760896 ],\n",
       "       [ 8.06429347],\n",
       "       [ 4.45219911],\n",
       "       [ 3.77285451],\n",
       "       [ 6.75565778],\n",
       "       [ 9.11587369],\n",
       "       [10.9760896 ],\n",
       "       [12.42367798],\n",
       "       [13.520458  ],\n",
       "       [14.30971909],\n",
       "       [14.82081162],\n",
       "       [15.07198001],\n",
       "       [15.07198001],\n",
       "       [14.82081162],\n",
       "       [14.30971909],\n",
       "       [13.520458  ],\n",
       "       [12.42367798],\n",
       "       [10.9760896 ],\n",
       "       [ 9.11587369],\n",
       "       [ 6.75565778],\n",
       "       [ 3.77285451],\n",
       "       [ 2.88356113],\n",
       "       [ 5.06960946],\n",
       "       [ 6.75565778],\n",
       "       [ 8.06429347],\n",
       "       [ 9.07322738],\n",
       "       [ 9.83328957],\n",
       "       [10.37830547],\n",
       "       [10.73048149],\n",
       "       [10.90335482],\n",
       "       [10.90335482],\n",
       "       [10.73048149],\n",
       "       [10.37830547],\n",
       "       [ 9.83328957],\n",
       "       [ 9.07322738],\n",
       "       [ 8.06429347],\n",
       "       [ 6.75565778],\n",
       "       [ 5.06960946],\n",
       "       [ 2.88356113],\n",
       "       [ 1.69178057],\n",
       "       [ 2.88356113],\n",
       "       [ 3.77285451],\n",
       "       [ 4.45219911],\n",
       "       [ 4.97164849],\n",
       "       [ 5.36116745],\n",
       "       [ 5.63973174],\n",
       "       [ 5.81945405],\n",
       "       [ 5.90760295],\n",
       "       [ 5.90760295],\n",
       "       [ 5.81945405],\n",
       "       [ 5.63973174],\n",
       "       [ 5.36116745],\n",
       "       [ 4.97164849],\n",
       "       [ 4.45219911],\n",
       "       [ 3.77285451],\n",
       "       [ 2.88356113],\n",
       "       [ 1.69178057]])"
      ]
     },
     "execution_count": 9,
     "metadata": {},
     "output_type": "execute_result"
    }
   ],
   "source": [
    "# use inverse matrix\n",
    "np.dot(np.linalg.inv(A_mat),b_mat.reshape(N_site,1))"
   ]
  },
  {
   "cell_type": "code",
   "execution_count": 10,
   "metadata": {},
   "outputs": [],
   "source": [
    "#add the boundary to the potential list\n",
    "def add_boundary(potential_here):\n",
    "    l2_here=len(potential_here)\n",
    "    l_here=int(np.sqrt(l2_here))\n",
    "    potential_here=potential_here.reshape(l_here,l_here)\n",
    "    potential_here=np.insert(potential_here,0,np.zeros((1,l_here)),axis=0)\n",
    "    potential_here=np.insert(potential_here,-1,np.zeros((1,l_here)),axis=0)\n",
    "    potential_here=np.insert(potential_here,0,np.zeros((1,l_here+2)),axis=1)\n",
    "    potential_here=np.insert(potential_here,-1,np.zeros((1,l_here+2)),axis=1)\n",
    "    return potential_here"
   ]
  },
  {
   "cell_type": "code",
   "execution_count": 11,
   "metadata": {},
   "outputs": [],
   "source": [
    "potential_gauss=add_boundary(potential_gauss)"
   ]
  },
  {
   "cell_type": "code",
   "execution_count": 12,
   "metadata": {
    "id": "BxKp49r-E9Oo",
    "outputId": "f31d7456-d1aa-4dd6-d6e8-310757fd89f1"
   },
   "outputs": [
    {
     "data": {
      "text/plain": [
       "<matplotlib.colorbar.Colorbar at 0x24a8decb040>"
      ]
     },
     "execution_count": 12,
     "metadata": {},
     "output_type": "execute_result"
    },
    {
     "data": {
      "image/png": "[encoded data removed]",
      "text/plain": [
       "<Figure size 864x432 with 4 Axes>"
      ]
     },
     "metadata": {
      "needs_background": "light"
     },
     "output_type": "display_data"
    }
   ],
   "source": [
    "from matplotlib import cm\n",
    "fig_gauss=plt.figure(figsize=(12,6))\n",
    "ax1_gauss = fig_gauss.add_subplot(1, 2, 1, projection='3d')\n",
    "X1 = np.arange(0,N)\n",
    "Y1 = np.arange(0,N)\n",
    "X1, Y1 = np.meshgrid(X1, Y1)\n",
    "Z1_gauss = charge_density[0:N,0:N]\n",
    "surf1_gauss = ax1_gauss.plot_surface(X1, Y1, Z1_gauss, rstride=1, cstride=1, cmap=cm.coolwarm,\n",
    "                       linewidth=0, antialiased=False)\n",
    "ax1_gauss.set_title('Uniform Charge Distribution')\n",
    "fig_gauss.colorbar(surf1_gauss, shrink=0.5, aspect=10)\n",
    "\n",
    "ax3_gauss = fig_gauss.add_subplot(1, 2, 2, projection='3d')\n",
    "Z3_gauss = potential_gauss.reshape(N,N)\n",
    "surf3_gauss = ax3_gauss.plot_surface(X1, Y1, Z3_gauss, rstride=1, cstride=1, cmap=cm.coolwarm,\n",
    "                       linewidth=0, antialiased=False)\n",
    "ax3_gauss.set_title('Potential Distribution')\n",
    "fig_gauss.colorbar(surf3_gauss, shrink=0.5, aspect=10)\n"
   ]
  },
  {
   "cell_type": "markdown",
   "metadata": {
    "id": "2EHaYDpkE9Op"
   },
   "source": [
    "### Pivoting"
   ]
  },
  {
   "cell_type": "markdown",
   "metadata": {
    "id": "1jP0lMReE9Op"
   },
   "source": [
    "<font  face=Times color=darkblue size=3> There is a major problem with this procejure on a computer: After a few iterations, some of the $A_{ii}$ might be (almost) zero, also due to roundoff errors. We would then divide by very small numbers (or evern 0), which can leads to large inaccuracies.\n",
    "    <br><br>\n",
    "    The solution to this is to use pivoting in each step of the elimination procejure:\n",
    "    <br>\n",
    "    This means that one exchanges rows (and/or columns) before each elimination step, in order to use the largest matrix element (absolute values) for the division. These correspond to an exchange of rows/columns and/or re-indexing of the $x_i$ and $b_i$.  \n",
    "    <br>One however needs to perform an appropiate bookkeeping in order to keep track of these transformation. To ease this bookkeeping, one often performs only a partial pivoting: one looks only within the current column for the largest matrix element, and thus only exchanges rows.\n",
    "    <br><br>In order to have a meaningful comparison of the matrix elements between different rows, one furthermore performs an initial rescaling, so that the absolute value of the largest matrix element in each row becomes 1.\n",
    "    <br><br>\n",
    "    Below we show the algorithm for the elimination with partial pivoting (to backsubstitue, remember also to used the kept new indices), and comparison with simple elimation using a simple readable example."
   ]
  },
  {
   "cell_type": "code",
   "execution_count": 13,
   "metadata": {
    "id": "a637NMfvE9Op"
   },
   "outputs": [],
   "source": [
    "# simple elimination\n",
    "# Note that these are written for square matrix A only, for Nx not equal Ny, need some change of index\n",
    "def elimination_without_pivoting(mata,matb):\n",
    "    N_here=len(matb)\n",
    "    for j in range(N_here-1):\n",
    "        for i in range(j+1,N_here):\n",
    "            f_here=-mata[i,j]/mata[j,j]\n",
    "            for ind_k in range(j,N_here):\n",
    "                mata[i,ind_k]=mata[i,ind_k]+f_here*mata[j,ind_k]\n",
    "                if mata[ind_k,ind_k]==0:\n",
    "                    print(mata)\n",
    "                    return \"fails\"\n",
    "            matb[i]=matb[i]+f_here*matb[j]\n",
    "    return mata,matb"
   ]
  },
  {
   "cell_type": "code",
   "execution_count": 14,
   "metadata": {
    "id": "o3HW543uE9Oq"
   },
   "outputs": [],
   "source": [
    "def elimination_partial_pivoting(mata,matb):\n",
    "    N_here=len(matb)\n",
    "    for i in range(N_here): #rescaling\n",
    "        max_num=np.max(mata[i])\n",
    "        min_num=np.min(mata[i])\n",
    "        if np.abs(max_num) > np.abs(min_num):\n",
    "            mata[i]=mata[i]/max_num\n",
    "            matb[i]=matb[i]/max_num\n",
    "        else:\n",
    "            mata[i]=mata[i]/min_num\n",
    "            matb[i]=matb[i]/min_num\n",
    "    vectorv=np.arange(N_here) #bookkeeping\n",
    "    for j in range(0,N_here-1):\n",
    "        indp=np.argmax(np.abs(mata[j:,j]))+j\n",
    "        if indp!=j:   #exchange\n",
    "            j_tobe=copy.deepcopy(vectorv[indp])\n",
    "            vectorv[indp]=copy.deepcopy(vectorv[j])\n",
    "            vectorv[j]=copy.deepcopy(j_tobe)\n",
    "        for i in range(j+1,N_here):\n",
    "            f_here=-mata[vectorv[i],j]/mata[vectorv[j],j]\n",
    "            for indk in range(j,N_here):\n",
    "                mata[vectorv[i],indk]=mata[vectorv[i],indk]+f_here*mata[vectorv[j],indk]\n",
    "            matb[vectorv[i]]=matb[vectorv[i]]+f_here*matb[vectorv[j]]\n",
    "    return mata,matb,vectorv\n",
    "def pivoted_backsubstitution(mata,matb,vec):\n",
    "    x=np.zeros_like(matb)\n",
    "    x[-1]=matb[vec[-1]]/mata[vec[-1],-1]\n",
    "    for i in reversed(range(len(matb)-1)):\n",
    "        sum_here=0\n",
    "        for j in range(i+1,len(matb)):\n",
    "            sum_here+=mata[vec[i],j]*x[j]\n",
    "        x[i]=(matb[vec[i]]-sum_here)/mata[vec[i],i]\n",
    "    return x"
   ]
  },
  {
   "cell_type": "code",
   "execution_count": 15,
   "metadata": {
    "id": "Z3redkcgE9Oq",
    "outputId": "9aa8e563-19ea-482c-a07f-1858a9cd6acf"
   },
   "outputs": [
    {
     "name": "stdout",
     "output_type": "stream",
     "text": [
      "[[ 4. -2.  2.]\n",
      " [ 0.  0.  3.]\n",
      " [ 2. -2.  2.]]\n",
      "fails\n"
     ]
    }
   ],
   "source": [
    "#easy example\n",
    "\n",
    "### without pivoting!\n",
    "\n",
    "example_A=np.array([[4.0,-2.,2.],[-2.,1.,3.],[2.,-2.,2.]])\n",
    "example_b=np.ones(3) #does not matter\n",
    "print(elimination_without_pivoting(example_A,example_b))"
   ]
  },
  {
   "cell_type": "markdown",
   "metadata": {
    "id": "5RzHl78OE9Oq"
   },
   "source": [
    "<font  face=Times color=darkblue size=3> We can see that, without pivoting, the elimination method fails here."
   ]
  },
  {
   "cell_type": "code",
   "execution_count": 16,
   "metadata": {
    "id": "gv2o_lnAE9Oq",
    "outputId": "3fc2f46f-21f3-4aaf-e4c1-b3538e73d80c"
   },
   "outputs": [
    {
     "name": "stdout",
     "output_type": "stream",
     "text": [
      "eliminated A and b: [[ 1.  -0.5  0.5]\n",
      " [ 0.   0.   1. ]\n",
      " [ 0.   0.5 -0.5]] [ 0.25        0.33333333 -0.25      ]\n",
      "result of x: [ 0.         -0.16666667  0.33333333]\n",
      "results if directly use inv(A)b: [ 0.         -0.16666667  0.33333333]\n"
     ]
    }
   ],
   "source": [
    "### with partial pivoting!\n",
    "mata_pp,matb_pp,indices_pp=elimination_partial_pivoting(example_A,example_b)\n",
    "print('eliminated A and b:',mata_pp,matb_pp)\n",
    "print('result of x:',pivoted_backsubstitution(mata_pp,matb_pp,indices_pp))\n",
    "print('results if directly use inv(A)b:',np.dot(np.linalg.inv(example_A),example_b.reshape(3,1)).reshape(3))"
   ]
  },
  {
   "cell_type": "markdown",
   "metadata": {
    "id": "wFTxxAHAE9Oq"
   },
   "source": [
    "<font  face=Times color=darkblue size=3> With partial pivoting, we avoided the error."
   ]
  },
  {
   "cell_type": "markdown",
   "metadata": {
    "id": "pGlmxJupE9Or"
   },
   "source": [
    "## $LU$ Decomposition"
   ]
  },
  {
   "cell_type": "markdown",
   "metadata": {
    "id": "HEWvzjP8E9Or"
   },
   "source": [
    "<font  face=Times color=darkblue size=3>Performing the Gauss elimination, we obtain a triangular matrix $$\\tilde A=MA,\\ {\\rm where} M=M^{(N_{\\rm site}-2)}\\cdots M^{(1)}M^{(0)}$$ with Frobenius matrices $M^{(j)}$. (i) the diagonal matrix elements $=1$, and (ii) the matrix elements below the diagonal in the $j$-th column are equal to the values of $f$s used in the $j$-th Gauss elimination step. Therefore, $$A=M^{-1}\\cdot\\tilde A=L\\cdot U$$ is the product of the lower triangular matrix $L$ and upper triangular matrix $U$.\n",
    "    <br><br>\n",
    "    Since $A\\vec\\phi=LU\\vec\\phi=L(U\\vec\\phi)=\\vec b$, we first solve triangular system $L\\vec y=\\vec b$ using forward substitution, obtaining $\\vec y$, and then solve $U\\vec \\phi=\\vec y$ using back substitution. \n",
    "    <br><br>\n",
    "    A clever algorithm by Crout to calculate $LU$ instead of Gauss elimination: Crout fixes $L_{ii}=1$ and then calculate the other elements successively as :\n",
    "    <br><br> For $j=0,1,\\dots,n-1$ do: $$U_{ij}=A_{ij}\\sum_{k=0}^{i-1}L_{ik}U_{kj},\\ \\ i=0,\\dots,j$$\n",
    "    $$L_{ij}=\\frac{1}{U_{jj}}[A_{ij}-\\sum_{k=0}^{j-1}L_{ik}U_{kj}],\\ \\ i=j+1,\\dots,N_{\\rm site}-1$$"
   ]
  },
  {
   "cell_type": "code",
   "execution_count": 17,
   "metadata": {
    "id": "Bw7mQh2FE9Or"
   },
   "outputs": [],
   "source": [
    "b_mat_lu=copy.deepcopy(b_mat)   #original b\n",
    "l_mat_lu=np.zeros((N_site,N_site)) # to be decided\n",
    "u_mat_lu=np.zeros((N_site,N_site)) #directly use the matrix we got in Gauss elimination\n",
    "y_mat_lu=np.zeros(N_site)\n",
    "A_mat_lu=copy.deepcopy(A_mat) #original A\n"
   ]
  },
  {
   "cell_type": "code",
   "execution_count": 18,
   "metadata": {
    "id": "sdCsI4XmE9Or"
   },
   "outputs": [],
   "source": [
    "l_mat_lu=np.eye(N_site)\n",
    "for j in range(N_site):\n",
    "    for i in range(0,j+1):\n",
    "        sum_u=0\n",
    "        if i>0:\n",
    "            for indk in range(0,i):\n",
    "                sum_u+=l_mat_lu[i,indk]*u_mat_lu[indk,j]\n",
    "        u_mat_lu[i,j]=A_mat_lu[i,j]-sum_u\n",
    "    for i in range(j+1,N_site):\n",
    "        sum_l=0\n",
    "        if j>0:\n",
    "            for indk in range(0,j):\n",
    "                sum_l+=l_mat_lu[i,indk]*u_mat_lu[indk,j]\n",
    "        l_mat_lu[i,j]=(A_mat_lu[i,j]-sum_l)/u_mat_lu[j,j]"
   ]
  },
  {
   "cell_type": "code",
   "execution_count": 19,
   "metadata": {
    "id": "AzwKditWE9Or"
   },
   "outputs": [],
   "source": [
    "y_mat_lu[0]=b_mat_lu[0]/l_mat_lu[0,0]\n",
    "for i in range(1,N_site):\n",
    "    sum_here=0\n",
    "    for j in range(i):\n",
    "        sum_here+=l_mat_lu[i,j]*y_mat_lu[j]\n",
    "    y_mat_lu[i]=(b_mat_lu[i]-sum_here)/l_mat_lu[i,i]"
   ]
  },
  {
   "cell_type": "code",
   "execution_count": 20,
   "metadata": {
    "id": "DjfIE41PE9Os"
   },
   "outputs": [],
   "source": [
    "potential_lu=np.zeros(N_site)\n",
    "potential_lu[-1]=y_mat_lu[-1]/u_mat_lu[-1,-1]\n",
    "for i in reversed(range(0,N_site-1)):\n",
    "    sum_here=0\n",
    "    for j in range(i+1,N_site):\n",
    "        sum_here+=u_mat_lu[i,j]*potential_lu[j]\n",
    "    potential_lu[i]=(y_mat_lu[i]-sum_here)/u_mat_lu[i,i]"
   ]
  },
  {
   "cell_type": "code",
   "execution_count": 21,
   "metadata": {
    "id": "w_jCwSOAE9Os",
    "outputId": "95dac071-1d42-4c70-ce36-b79067e5245a",
    "scrolled": true
   },
   "outputs": [
    {
     "data": {
      "text/plain": [
       "array([ 1.69178057,  2.88356113,  3.77285451,  4.45219911,  4.97164849,\n",
       "        5.36116745,  5.63973174,  5.81945405,  5.90760295,  5.90760295,\n",
       "        5.81945405,  5.63973174,  5.36116745,  4.97164849,  4.45219911,\n",
       "        3.77285451,  2.88356113,  1.69178057,  2.88356113,  5.06960946,\n",
       "        6.75565778,  8.06429347,  9.07322738,  9.83328957, 10.37830547,\n",
       "       10.73048149, 10.90335482, 10.90335482, 10.73048149, 10.37830547,\n",
       "        9.83328957,  9.07322738,  8.06429347,  6.75565778,  5.06960946,\n",
       "        2.88356113,  3.77285451,  6.75565778,  9.11587369, 10.9760896 ,\n",
       "       12.42367798, 13.520458  , 14.30971909, 14.82081162, 15.07198001,\n",
       "       15.07198001, 14.82081162, 14.30971909, 13.520458  , 12.42367798,\n",
       "       10.9760896 ,  9.11587369,  6.75565778,  3.77285451,  4.45219911,\n",
       "        8.06429347, 10.9760896 , 13.30051326, 15.12493693, 16.51514536,\n",
       "       17.51930125, 18.17106591, 18.49177358, 18.49177358, 18.17106591,\n",
       "       17.51930125, 16.51514536, 15.12493693, 13.30051326, 10.9760896 ,\n",
       "        8.06429347,  4.45219911,  4.97164849,  9.07322738, 12.42367798,\n",
       "       15.12493693, 17.26041111, 18.89588528, 20.08127463, 20.85237717,\n",
       "       21.23227484, 21.23227484, 20.85237717, 20.08127463, 18.89588528,\n",
       "       17.26041111, 15.12493693, 12.42367798,  9.07322738,  4.97164849,\n",
       "        5.36116745,  9.83328957, 13.520458  , 16.51514536, 18.89588528,\n",
       "       20.72671004, 22.0575348 , 22.92489333, 23.35267375, 23.35267375,\n",
       "       22.92489333, 22.0575348 , 20.72671004, 18.89588528, 16.51514536,\n",
       "       13.520458  ,  9.83328957,  5.36116745,  5.63973174, 10.37830547,\n",
       "       14.30971909, 17.51930125, 20.08127463, 22.0575348 , 23.4972612 ,\n",
       "       24.43698759, 24.90085309, 24.90085309, 24.43698759, 23.4972612 ,\n",
       "       22.0575348 , 20.08127463, 17.51930125, 14.30971909, 10.37830547,\n",
       "        5.63973174,  5.81945405, 10.73048149, 14.82081162, 18.17106591,\n",
       "       20.85237717, 22.92489333, 24.43698759, 25.42494276, 25.91289792,\n",
       "       25.91289792, 25.42494276, 24.43698759, 22.92489333, 20.85237717,\n",
       "       18.17106591, 14.82081162, 10.73048149,  5.81945405,  5.90760295,\n",
       "       10.90335482, 15.07198001, 18.49177358, 21.23227484, 23.35267375,\n",
       "       24.90085309, 25.91289792, 26.41289792, 26.41289792, 25.91289792,\n",
       "       24.90085309, 23.35267375, 21.23227484, 18.49177358, 15.07198001,\n",
       "       10.90335482,  5.90760295,  5.90760295, 10.90335482, 15.07198001,\n",
       "       18.49177358, 21.23227484, 23.35267375, 24.90085309, 25.91289792,\n",
       "       26.41289792, 26.41289792, 25.91289792, 24.90085309, 23.35267375,\n",
       "       21.23227484, 18.49177358, 15.07198001, 10.90335482,  5.90760295,\n",
       "        5.81945405, 10.73048149, 14.82081162, 18.17106591, 20.85237717,\n",
       "       22.92489333, 24.43698759, 25.42494276, 25.91289792, 25.91289792,\n",
       "       25.42494276, 24.43698759, 22.92489333, 20.85237717, 18.17106591,\n",
       "       14.82081162, 10.73048149,  5.81945405,  5.63973174, 10.37830547,\n",
       "       14.30971909, 17.51930125, 20.08127463, 22.0575348 , 23.4972612 ,\n",
       "       24.43698759, 24.90085309, 24.90085309, 24.43698759, 23.4972612 ,\n",
       "       22.0575348 , 20.08127463, 17.51930125, 14.30971909, 10.37830547,\n",
       "        5.63973174,  5.36116745,  9.83328957, 13.520458  , 16.51514536,\n",
       "       18.89588528, 20.72671004, 22.0575348 , 22.92489333, 23.35267375,\n",
       "       23.35267375, 22.92489333, 22.0575348 , 20.72671004, 18.89588528,\n",
       "       16.51514536, 13.520458  ,  9.83328957,  5.36116745,  4.97164849,\n",
       "        9.07322738, 12.42367798, 15.12493693, 17.26041111, 18.89588528,\n",
       "       20.08127463, 20.85237717, 21.23227484, 21.23227484, 20.85237717,\n",
       "       20.08127463, 18.89588528, 17.26041111, 15.12493693, 12.42367798,\n",
       "        9.07322738,  4.97164849,  4.45219911,  8.06429347, 10.9760896 ,\n",
       "       13.30051326, 15.12493693, 16.51514536, 17.51930125, 18.17106591,\n",
       "       18.49177358, 18.49177358, 18.17106591, 17.51930125, 16.51514536,\n",
       "       15.12493693, 13.30051326, 10.9760896 ,  8.06429347,  4.45219911,\n",
       "        3.77285451,  6.75565778,  9.11587369, 10.9760896 , 12.42367798,\n",
       "       13.520458  , 14.30971909, 14.82081162, 15.07198001, 15.07198001,\n",
       "       14.82081162, 14.30971909, 13.520458  , 12.42367798, 10.9760896 ,\n",
       "        9.11587369,  6.75565778,  3.77285451,  2.88356113,  5.06960946,\n",
       "        6.75565778,  8.06429347,  9.07322738,  9.83328957, 10.37830547,\n",
       "       10.73048149, 10.90335482, 10.90335482, 10.73048149, 10.37830547,\n",
       "        9.83328957,  9.07322738,  8.06429347,  6.75565778,  5.06960946,\n",
       "        2.88356113,  1.69178057,  2.88356113,  3.77285451,  4.45219911,\n",
       "        4.97164849,  5.36116745,  5.63973174,  5.81945405,  5.90760295,\n",
       "        5.90760295,  5.81945405,  5.63973174,  5.36116745,  4.97164849,\n",
       "        4.45219911,  3.77285451,  2.88356113,  1.69178057])"
      ]
     },
     "execution_count": 21,
     "metadata": {},
     "output_type": "execute_result"
    }
   ],
   "source": [
    "potential_lu # result"
   ]
  },
  {
   "cell_type": "code",
   "execution_count": 22,
   "metadata": {},
   "outputs": [],
   "source": [
    "potential_lu=add_boundary(potential_lu)"
   ]
  },
  {
   "cell_type": "code",
   "execution_count": 23,
   "metadata": {
    "id": "od9UJ_2-E9Os",
    "outputId": "78ad5afe-ca6f-44bc-b936-85c137c8045a"
   },
   "outputs": [
    {
     "data": {
      "text/plain": [
       "<matplotlib.colorbar.Colorbar at 0x24a8e24cdf0>"
      ]
     },
     "execution_count": 23,
     "metadata": {},
     "output_type": "execute_result"
    },
    {
     "data": {
      "image/png": "[encoded data removed]",
      "text/plain": [
       "<Figure size 864x432 with 4 Axes>"
      ]
     },
     "metadata": {
      "needs_background": "light"
     },
     "output_type": "display_data"
    }
   ],
   "source": [
    "fig_lu=plt.figure(figsize=(12,6))\n",
    "ax1_lu = fig_lu.add_subplot(1, 2, 1, projection='3d')\n",
    "X1 = np.arange(0,N)\n",
    "Y1 = np.arange(0,N)\n",
    "X1, Y1 = np.meshgrid(X1, Y1)\n",
    "Z1_lu = charge_density[0:N,0:N]\n",
    "surf1_lu = ax1_lu.plot_surface(X1, Y1, Z1_lu, rstride=1, cstride=1, cmap=cm.coolwarm,\n",
    "                       linewidth=0, antialiased=False)\n",
    "ax1_lu.set_title('Uniform Charge Distribution')\n",
    "fig_lu.colorbar(surf1_lu, shrink=0.5, aspect=10)\n",
    "\n",
    "ax3_lu = fig_lu.add_subplot(1, 2, 2, projection='3d')\n",
    "Z3_lu = potential_lu.reshape(N,N)\n",
    "surf3_lu = ax3_lu.plot_surface(X1, Y1, Z3_lu, rstride=1, cstride=1, cmap=cm.coolwarm,\n",
    "                       linewidth=0, antialiased=False)\n",
    "ax3_lu.set_title('Potential Distribution')\n",
    "fig_lu.colorbar(surf3_gauss, shrink=0.5, aspect=10)"
   ]
  },
  {
   "cell_type": "markdown",
   "metadata": {
    "id": "xAz_0P5iE9Os"
   },
   "source": [
    "<font  face=Times color=darkblue size=3> Again, we get the same result."
   ]
  },
  {
   "cell_type": "markdown",
   "metadata": {
    "id": "qCEhATLFE9Os"
   },
   "source": [
    "## Conjugate Gradient Method"
   ]
  },
  {
   "cell_type": "markdown",
   "metadata": {
    "id": "2DOajEenE9Os"
   },
   "source": [
    "<font  face=Times color=darkblue size=3> For a symmetric positive-definite $n\\times n$ matrix $A$, and a set of equations $A\\vec x=\\vec b$, we can define\n",
    "    $$f(\\vec x)=\\frac{1}{2}\\vec x\\cdot A\\vec x-\\vec b\\vec x,$$\n",
    "    so that the minimum of $f$ is a solution to the system of equations. One way to find the minimum is the method of steepest descent with an arbitrary $\\vec x_0$. Then the next point is $\\vec x_1=\\vec x_0+\\lambda_0\\vec r_0,$ with $\\vec r_0=-\\nabla f(\\vec x_0)=-A\\vec x_0+\\vec b$, and with $\\frac{d}{d\\lambda_0}f(\\vec x_0+\\lambda_0\\vec r_0)=0\\ \\Rightarrow\\ \\lambda_0=\\frac{\\vec r_0\\cdot\\vec r_0}{\\vec r_0\\cdot A\\vec r_0}.$ Continue the iteration until $|\\vec r_k|<\\epsilon$.\n",
    "   <br> \n",
    "    To minimize the steps, there is a way to choose the direction at $\\vec x_1$ such that the gradient keeps vanishing along the previous direction $\\vec r_0$. This implies not only $\\vec r_0\\perp\\nabla f(\\vec x_1)$, but also $\\vec r_0\\perp\\nabla f(\\vec x_1+\\lambda_1\\vec r_1)\\ \\Rightarrow\\ \\vec r_0\\cdot A\\vec r_1=0$.\n",
    "    Such vectors $\\vec r_0$ and $\\vec r_1$ are called A-conjugare vectors.\n",
    "    <br><br>\n",
    "    To have explicit construction by Hestens and Stiefel:\n",
    "    $$\\vec r_0=\\vec g_0=-\\nabla f(\\vec x_0)$$\n",
    "    $$\\vec x_{k+1}=\\vec x_k+\\lambda_k\\vec r_k,\\ \\ \\lambda_k=\\frac{\\vec g_k\\cdot\\vec g_k}{\\vec r_k\\cdot A\\vec r_k}$$\n",
    "    $$\\vec g_{k+1}=\\vec g_k-\\lambda_k\\cdot A\\vec r_k$$\n",
    "    $$\\vec r_{k+1}=\\vec g_{k+1}+\\frac{\\vec g_{k+1}\\cdot\\vec g_{k+1}}{\\vec g_k\\cdot\\vec g_k}\\vec r_k.$$"
   ]
  },
  {
   "cell_type": "code",
   "execution_count": 24,
   "metadata": {
    "id": "JtMZVYJUE9Ot"
   },
   "outputs": [],
   "source": [
    "A_mat_cg=copy.deepcopy(A_mat)\n",
    "b_mat_cg=copy.deepcopy(b_mat)\n",
    "potential_cg=np.zeros(N_site)"
   ]
  },
  {
   "cell_type": "code",
   "execution_count": 25,
   "metadata": {
    "id": "LfGmmBFgE9Ot"
   },
   "outputs": [],
   "source": [
    "r_cg=g_cg=-np.dot(A_mat_cg,potential_cg.reshape(N_site,1))+b_mat_cg.reshape(N_site,1)"
   ]
  },
  {
   "cell_type": "code",
   "execution_count": 26,
   "metadata": {
    "id": "ERmjpmT7E9Ot"
   },
   "outputs": [],
   "source": [
    "bound_cg=0.0001\n",
    "iter_cg=0\n",
    "while True:\n",
    "    iter_cg+=1\n",
    "    lambda_cg=np.dot(g_cg.reshape(1,N_site),g_cg)/np.dot(r_cg.reshape(1,N_site),np.dot(A_mat_cg,r_cg))\n",
    "    potential_cg=potential_cg.reshape(N_site,1)+lambda_cg*r_cg\n",
    "    g_cg_new=g_cg-lambda_cg*np.dot(A_mat_cg,r_cg)\n",
    "    r_cg=g_cg_new+(np.dot(g_cg_new.reshape(1,N_site),g_cg_new)/np.dot(g_cg.reshape(1,N_site),g_cg))*r_cg\n",
    "    if np.linalg.norm(r_cg)<bound_cg:\n",
    "        break\n",
    "    else:\n",
    "        g_cg=copy.deepcopy(g_cg_new)"
   ]
  },
  {
   "cell_type": "code",
   "execution_count": 27,
   "metadata": {
    "id": "cnku4H9hE9Ot",
    "outputId": "52d49d5d-d3a1-45f7-c6f7-f8300291ebd0",
    "scrolled": true
   },
   "outputs": [
    {
     "data": {
      "text/plain": [
       "array([[ 1.69178062],\n",
       "       [ 2.88355986],\n",
       "       [ 3.77285252],\n",
       "       [ 4.45219898],\n",
       "       [ 4.97165313],\n",
       "       [ 5.36117047],\n",
       "       [ 5.63973373],\n",
       "       [ 5.81945271],\n",
       "       [ 5.90759798],\n",
       "       [ 5.90759798],\n",
       "       [ 5.81945271],\n",
       "       [ 5.63973373],\n",
       "       [ 5.36117047],\n",
       "       [ 4.97165313],\n",
       "       [ 4.45219898],\n",
       "       [ 3.77285252],\n",
       "       [ 2.88355986],\n",
       "       [ 1.69178062],\n",
       "       [ 2.88355986],\n",
       "       [ 5.06960672],\n",
       "       [ 6.7556551 ],\n",
       "       [ 8.06429421],\n",
       "       [ 9.07323115],\n",
       "       [ 9.83329536],\n",
       "       [10.37830905],\n",
       "       [10.7304794 ],\n",
       "       [10.90334975],\n",
       "       [10.90334975],\n",
       "       [10.7304794 ],\n",
       "       [10.37830905],\n",
       "       [ 9.83329536],\n",
       "       [ 9.07323115],\n",
       "       [ 8.06429421],\n",
       "       [ 6.7556551 ],\n",
       "       [ 5.06960672],\n",
       "       [ 2.88355986],\n",
       "       [ 3.77285252],\n",
       "       [ 6.7556551 ],\n",
       "       [ 9.1158697 ],\n",
       "       [10.97608886],\n",
       "       [12.42367953],\n",
       "       [13.52046154],\n",
       "       [14.30972078],\n",
       "       [14.82081258],\n",
       "       [15.07197776],\n",
       "       [15.07197776],\n",
       "       [14.82081258],\n",
       "       [14.30972078],\n",
       "       [13.52046154],\n",
       "       [12.42367953],\n",
       "       [10.97608886],\n",
       "       [ 9.1158697 ],\n",
       "       [ 6.7556551 ],\n",
       "       [ 3.77285252],\n",
       "       [ 4.45219898],\n",
       "       [ 8.06429421],\n",
       "       [10.97608886],\n",
       "       [13.30051082],\n",
       "       [15.12493587],\n",
       "       [16.51514521],\n",
       "       [17.51930031],\n",
       "       [18.17106777],\n",
       "       [18.49177325],\n",
       "       [18.49177325],\n",
       "       [18.17106777],\n",
       "       [17.51930031],\n",
       "       [16.51514521],\n",
       "       [15.12493587],\n",
       "       [13.30051082],\n",
       "       [10.97608886],\n",
       "       [ 8.06429421],\n",
       "       [ 4.45219898],\n",
       "       [ 4.97165313],\n",
       "       [ 9.07323115],\n",
       "       [12.42367953],\n",
       "       [15.12493587],\n",
       "       [17.26040773],\n",
       "       [18.89588156],\n",
       "       [20.08127262],\n",
       "       [20.85237786],\n",
       "       [21.23227597],\n",
       "       [21.23227597],\n",
       "       [20.85237786],\n",
       "       [20.08127262],\n",
       "       [18.89588156],\n",
       "       [17.26040773],\n",
       "       [15.12493587],\n",
       "       [12.42367953],\n",
       "       [ 9.07323115],\n",
       "       [ 4.97165313],\n",
       "       [ 5.36117047],\n",
       "       [ 9.83329536],\n",
       "       [13.52046154],\n",
       "       [16.51514521],\n",
       "       [18.89588156],\n",
       "       [20.72670619],\n",
       "       [22.05753376],\n",
       "       [22.92489527],\n",
       "       [23.35267844],\n",
       "       [23.35267844],\n",
       "       [22.92489527],\n",
       "       [22.05753376],\n",
       "       [20.72670619],\n",
       "       [18.89588156],\n",
       "       [16.51514521],\n",
       "       [13.52046154],\n",
       "       [ 9.83329536],\n",
       "       [ 5.36117047],\n",
       "       [ 5.63973373],\n",
       "       [10.37830905],\n",
       "       [14.30972078],\n",
       "       [17.51930031],\n",
       "       [20.08127262],\n",
       "       [22.05753376],\n",
       "       [23.49726073],\n",
       "       [24.4369879 ],\n",
       "       [24.90085444],\n",
       "       [24.90085444],\n",
       "       [24.4369879 ],\n",
       "       [23.49726073],\n",
       "       [22.05753376],\n",
       "       [20.08127262],\n",
       "       [17.51930031],\n",
       "       [14.30972078],\n",
       "       [10.37830905],\n",
       "       [ 5.63973373],\n",
       "       [ 5.81945271],\n",
       "       [10.7304794 ],\n",
       "       [14.82081258],\n",
       "       [18.17106777],\n",
       "       [20.85237786],\n",
       "       [22.92489527],\n",
       "       [24.4369879 ],\n",
       "       [25.42494234],\n",
       "       [25.91289703],\n",
       "       [25.91289703],\n",
       "       [25.42494234],\n",
       "       [24.4369879 ],\n",
       "       [22.92489527],\n",
       "       [20.85237786],\n",
       "       [18.17106777],\n",
       "       [14.82081258],\n",
       "       [10.7304794 ],\n",
       "       [ 5.81945271],\n",
       "       [ 5.90759798],\n",
       "       [10.90334975],\n",
       "       [15.07197776],\n",
       "       [18.49177325],\n",
       "       [21.23227597],\n",
       "       [23.35267844],\n",
       "       [24.90085444],\n",
       "       [25.91289703],\n",
       "       [26.41289399],\n",
       "       [26.41289399],\n",
       "       [25.91289703],\n",
       "       [24.90085444],\n",
       "       [23.35267844],\n",
       "       [21.23227597],\n",
       "       [18.49177325],\n",
       "       [15.07197776],\n",
       "       [10.90334975],\n",
       "       [ 5.90759798],\n",
       "       [ 5.90759798],\n",
       "       [10.90334975],\n",
       "       [15.07197776],\n",
       "       [18.49177325],\n",
       "       [21.23227597],\n",
       "       [23.35267844],\n",
       "       [24.90085444],\n",
       "       [25.91289703],\n",
       "       [26.41289399],\n",
       "       [26.41289399],\n",
       "       [25.91289703],\n",
       "       [24.90085444],\n",
       "       [23.35267844],\n",
       "       [21.23227597],\n",
       "       [18.49177325],\n",
       "       [15.07197776],\n",
       "       [10.90334975],\n",
       "       [ 5.90759798],\n",
       "       [ 5.81945271],\n",
       "       [10.7304794 ],\n",
       "       [14.82081258],\n",
       "       [18.17106777],\n",
       "       [20.85237786],\n",
       "       [22.92489527],\n",
       "       [24.4369879 ],\n",
       "       [25.42494234],\n",
       "       [25.91289703],\n",
       "       [25.91289703],\n",
       "       [25.42494234],\n",
       "       [24.4369879 ],\n",
       "       [22.92489527],\n",
       "       [20.85237786],\n",
       "       [18.17106777],\n",
       "       [14.82081258],\n",
       "       [10.7304794 ],\n",
       "       [ 5.81945271],\n",
       "       [ 5.63973373],\n",
       "       [10.37830905],\n",
       "       [14.30972078],\n",
       "       [17.51930031],\n",
       "       [20.08127262],\n",
       "       [22.05753376],\n",
       "       [23.49726073],\n",
       "       [24.4369879 ],\n",
       "       [24.90085444],\n",
       "       [24.90085444],\n",
       "       [24.4369879 ],\n",
       "       [23.49726073],\n",
       "       [22.05753376],\n",
       "       [20.08127262],\n",
       "       [17.51930031],\n",
       "       [14.30972078],\n",
       "       [10.37830905],\n",
       "       [ 5.63973373],\n",
       "       [ 5.36117047],\n",
       "       [ 9.83329536],\n",
       "       [13.52046154],\n",
       "       [16.51514521],\n",
       "       [18.89588156],\n",
       "       [20.72670619],\n",
       "       [22.05753376],\n",
       "       [22.92489527],\n",
       "       [23.35267844],\n",
       "       [23.35267844],\n",
       "       [22.92489527],\n",
       "       [22.05753376],\n",
       "       [20.72670619],\n",
       "       [18.89588156],\n",
       "       [16.51514521],\n",
       "       [13.52046154],\n",
       "       [ 9.83329536],\n",
       "       [ 5.36117047],\n",
       "       [ 4.97165313],\n",
       "       [ 9.07323115],\n",
       "       [12.42367953],\n",
       "       [15.12493587],\n",
       "       [17.26040773],\n",
       "       [18.89588156],\n",
       "       [20.08127262],\n",
       "       [20.85237786],\n",
       "       [21.23227597],\n",
       "       [21.23227597],\n",
       "       [20.85237786],\n",
       "       [20.08127262],\n",
       "       [18.89588156],\n",
       "       [17.26040773],\n",
       "       [15.12493587],\n",
       "       [12.42367953],\n",
       "       [ 9.07323115],\n",
       "       [ 4.97165313],\n",
       "       [ 4.45219898],\n",
       "       [ 8.06429421],\n",
       "       [10.97608886],\n",
       "       [13.30051082],\n",
       "       [15.12493587],\n",
       "       [16.51514521],\n",
       "       [17.51930031],\n",
       "       [18.17106777],\n",
       "       [18.49177325],\n",
       "       [18.49177325],\n",
       "       [18.17106777],\n",
       "       [17.51930031],\n",
       "       [16.51514521],\n",
       "       [15.12493587],\n",
       "       [13.30051082],\n",
       "       [10.97608886],\n",
       "       [ 8.06429421],\n",
       "       [ 4.45219898],\n",
       "       [ 3.77285252],\n",
       "       [ 6.7556551 ],\n",
       "       [ 9.1158697 ],\n",
       "       [10.97608886],\n",
       "       [12.42367953],\n",
       "       [13.52046154],\n",
       "       [14.30972078],\n",
       "       [14.82081258],\n",
       "       [15.07197776],\n",
       "       [15.07197776],\n",
       "       [14.82081258],\n",
       "       [14.30972078],\n",
       "       [13.52046154],\n",
       "       [12.42367953],\n",
       "       [10.97608886],\n",
       "       [ 9.1158697 ],\n",
       "       [ 6.7556551 ],\n",
       "       [ 3.77285252],\n",
       "       [ 2.88355986],\n",
       "       [ 5.06960672],\n",
       "       [ 6.7556551 ],\n",
       "       [ 8.06429421],\n",
       "       [ 9.07323115],\n",
       "       [ 9.83329536],\n",
       "       [10.37830905],\n",
       "       [10.7304794 ],\n",
       "       [10.90334975],\n",
       "       [10.90334975],\n",
       "       [10.7304794 ],\n",
       "       [10.37830905],\n",
       "       [ 9.83329536],\n",
       "       [ 9.07323115],\n",
       "       [ 8.06429421],\n",
       "       [ 6.7556551 ],\n",
       "       [ 5.06960672],\n",
       "       [ 2.88355986],\n",
       "       [ 1.69178062],\n",
       "       [ 2.88355986],\n",
       "       [ 3.77285252],\n",
       "       [ 4.45219898],\n",
       "       [ 4.97165313],\n",
       "       [ 5.36117047],\n",
       "       [ 5.63973373],\n",
       "       [ 5.81945271],\n",
       "       [ 5.90759798],\n",
       "       [ 5.90759798],\n",
       "       [ 5.81945271],\n",
       "       [ 5.63973373],\n",
       "       [ 5.36117047],\n",
       "       [ 4.97165313],\n",
       "       [ 4.45219898],\n",
       "       [ 3.77285252],\n",
       "       [ 2.88355986],\n",
       "       [ 1.69178062]])"
      ]
     },
     "execution_count": 27,
     "metadata": {},
     "output_type": "execute_result"
    }
   ],
   "source": [
    "potential_cg"
   ]
  },
  {
   "cell_type": "code",
   "execution_count": 28,
   "metadata": {
    "id": "5xeQLoCgE9Ou",
    "outputId": "5d1fa045-68aa-4c54-a882-71f3871378b8"
   },
   "outputs": [
    {
     "data": {
      "text/plain": [
       "26"
      ]
     },
     "execution_count": 28,
     "metadata": {},
     "output_type": "execute_result"
    }
   ],
   "source": [
    "iter_cg"
   ]
  },
  {
   "cell_type": "code",
   "execution_count": 29,
   "metadata": {},
   "outputs": [],
   "source": [
    "potential_cg=add_boundary(potential_cg)"
   ]
  },
  {
   "cell_type": "code",
   "execution_count": 30,
   "metadata": {
    "id": "liqcIDgoE9Ou",
    "outputId": "28f53d4f-cb0c-4f1b-cb0d-30cef5487d9e"
   },
   "outputs": [
    {
     "data": {
      "text/plain": [
       "<matplotlib.colorbar.Colorbar at 0x24a8e31b9a0>"
      ]
     },
     "execution_count": 30,
     "metadata": {},
     "output_type": "execute_result"
    },
    {
     "data": {
      "image/png": "[encoded data removed]",
      "text/plain": [
       "<Figure size 864x432 with 4 Axes>"
      ]
     },
     "metadata": {
      "needs_background": "light"
     },
     "output_type": "display_data"
    }
   ],
   "source": [
    "fig_cg=plt.figure(figsize=(12,6))\n",
    "ax1_cg = fig_cg.add_subplot(1, 2, 1, projection='3d')\n",
    "X1 = np.arange(0,N)\n",
    "Y1 = np.arange(0,N)\n",
    "X1, Y1 = np.meshgrid(X1, Y1)\n",
    "Z1_cg = charge_density[0:N,0:N]\n",
    "surf1_cg = ax1_cg.plot_surface(X1, Y1, Z1_cg, rstride=1, cstride=1, cmap=cm.coolwarm,\n",
    "                       linewidth=0, antialiased=False)\n",
    "ax1_cg.set_title('Uniform Charge Distribution')\n",
    "fig_cg.colorbar(surf1_cg, shrink=0.5, aspect=10)\n",
    "\n",
    "ax3_cg = fig_cg.add_subplot(1, 2, 2, projection='3d')\n",
    "Z3_cg = potential_cg.reshape(N,N)\n",
    "surf3_cg = ax3_cg.plot_surface(X1, Y1, Z3_cg, rstride=1, cstride=1, cmap=cm.coolwarm,\n",
    "                       linewidth=0, antialiased=False)\n",
    "ax3_cg.set_title('Potential Distribution')\n",
    "fig_cg.colorbar(surf3_gauss, shrink=0.5, aspect=10)"
   ]
  }
 ],
 "metadata": {
  "colab": {
   "name": "Partial_Differential_Equations_1_Poisson_Equations.ipynb",
   "provenance": []
  },
  "kernelspec": {
   "display_name": "Python 3",
   "language": "python",
   "name": "python3"
  },
  "language_info": {
   "codemirror_mode": {
    "name": "ipython",
    "version": 3
   },
   "file_extension": ".py",
   "mimetype": "text/x-python",
   "name": "python",
   "nbconvert_exporter": "python",
   "pygments_lexer": "ipython3",
   "version": "3.8.7"
  }
 },
 "nbformat": 4,
 "nbformat_minor": 1
}
